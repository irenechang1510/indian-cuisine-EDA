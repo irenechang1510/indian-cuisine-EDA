{
 "cells": [
  {
   "cell_type": "code",
   "execution_count": 1,
   "source": [
    "import pandas as pd\n",
    "import matplotlib.pyplot as plt\n",
    "import numpy as np\n",
    "import seaborn as sns\n",
    "\n",
    "from sklearn.linear_model import LogisticRegression\n",
    "from sklearn.model_selection import train_test_split\n",
    "from sklearn.metrics import classification_report, confusion_matrix, balanced_accuracy_score\n",
    "from sklearn.feature_selection import SelectKBest, mutual_info_classif, chi2\n",
    "from sklearn.linear_model import LogisticRegressionCV\n",
    "from imblearn.over_sampling import SMOTENC\n",
    "from sklearn.model_selection import RandomizedSearchCV\n",
    "\n",
    "%matplotlib inline"
   ],
   "outputs": [],
   "metadata": {}
  },
  {
   "cell_type": "code",
   "execution_count": 1,
   "source": [
    "import pandas as pd\n",
    "import matplotlib.pyplot as plt\n",
    "import numpy as np\n",
    "from numpy import mean\n",
    "from numpy import std\n",
    "import seaborn as sns\n",
    "import pickle\n",
    "\n",
    "from sklearn.linear_model import LogisticRegression\n",
    "from sklearn.model_selection import train_test_split, cross_val_score, RandomizedSearchCV, RepeatedStratifiedKFold\n",
    "from sklearn.metrics import classification_report, confusion_matrix, balanced_accuracy_score\n",
    "from sklearn.feature_selection import SelectKBest, mutual_info_classif, chi2\n",
    "from imblearn.over_sampling import SMOTENC\n",
    "from sklearn.dummy import DummyClassifier\n",
    "from sklearn.ensemble import RandomForestClassifier, StackingClassifier\n",
    "from sklearn.naive_bayes import MultinomialNB\n",
    "from sklearn.svm import SVC\n",
    "from sklearn.pipeline import make_pipeline\n",
    "\n",
    "%matplotlib inline"
   ],
   "outputs": [],
   "metadata": {}
  },
  {
   "cell_type": "markdown",
   "source": [
    "# 1. Exploratory data analysis"
   ],
   "metadata": {}
  },
  {
   "cell_type": "markdown",
   "source": [
    "### 1.1 Some statistics of the data"
   ],
   "metadata": {}
  },
  {
   "cell_type": "code",
   "execution_count": 2,
   "source": [
    "df = pd.read_csv('indian_food.csv', na_values=-1)\n",
    "df.head()"
   ],
   "outputs": [
    {
     "output_type": "execute_result",
     "data": {
      "text/plain": [
       "             name                                        ingredients  \\\n",
       "0      Balu shahi                    Maida flour, yogurt, oil, sugar   \n",
       "1          Boondi                            Gram flour, ghee, sugar   \n",
       "2  Gajar ka halwa       Carrots, milk, sugar, ghee, cashews, raisins   \n",
       "3          Ghevar  Flour, ghee, kewra, milk, clarified butter, su...   \n",
       "4     Gulab jamun  Milk powder, plain flour, baking powder, ghee,...   \n",
       "\n",
       "         diet  prep_time  cook_time flavor_profile   course        state  \\\n",
       "0  vegetarian       45.0       25.0          sweet  dessert  West Bengal   \n",
       "1  vegetarian       80.0       30.0          sweet  dessert    Rajasthan   \n",
       "2  vegetarian       15.0       60.0          sweet  dessert       Punjab   \n",
       "3  vegetarian       15.0       30.0          sweet  dessert    Rajasthan   \n",
       "4  vegetarian       15.0       40.0          sweet  dessert  West Bengal   \n",
       "\n",
       "  region  \n",
       "0   East  \n",
       "1   West  \n",
       "2  North  \n",
       "3   West  \n",
       "4   East  "
      ],
      "text/html": [
       "<div>\n",
       "<style scoped>\n",
       "    .dataframe tbody tr th:only-of-type {\n",
       "        vertical-align: middle;\n",
       "    }\n",
       "\n",
       "    .dataframe tbody tr th {\n",
       "        vertical-align: top;\n",
       "    }\n",
       "\n",
       "    .dataframe thead th {\n",
       "        text-align: right;\n",
       "    }\n",
       "</style>\n",
       "<table border=\"1\" class=\"dataframe\">\n",
       "  <thead>\n",
       "    <tr style=\"text-align: right;\">\n",
       "      <th></th>\n",
       "      <th>name</th>\n",
       "      <th>ingredients</th>\n",
       "      <th>diet</th>\n",
       "      <th>prep_time</th>\n",
       "      <th>cook_time</th>\n",
       "      <th>flavor_profile</th>\n",
       "      <th>course</th>\n",
       "      <th>state</th>\n",
       "      <th>region</th>\n",
       "    </tr>\n",
       "  </thead>\n",
       "  <tbody>\n",
       "    <tr>\n",
       "      <th>0</th>\n",
       "      <td>Balu shahi</td>\n",
       "      <td>Maida flour, yogurt, oil, sugar</td>\n",
       "      <td>vegetarian</td>\n",
       "      <td>45.0</td>\n",
       "      <td>25.0</td>\n",
       "      <td>sweet</td>\n",
       "      <td>dessert</td>\n",
       "      <td>West Bengal</td>\n",
       "      <td>East</td>\n",
       "    </tr>\n",
       "    <tr>\n",
       "      <th>1</th>\n",
       "      <td>Boondi</td>\n",
       "      <td>Gram flour, ghee, sugar</td>\n",
       "      <td>vegetarian</td>\n",
       "      <td>80.0</td>\n",
       "      <td>30.0</td>\n",
       "      <td>sweet</td>\n",
       "      <td>dessert</td>\n",
       "      <td>Rajasthan</td>\n",
       "      <td>West</td>\n",
       "    </tr>\n",
       "    <tr>\n",
       "      <th>2</th>\n",
       "      <td>Gajar ka halwa</td>\n",
       "      <td>Carrots, milk, sugar, ghee, cashews, raisins</td>\n",
       "      <td>vegetarian</td>\n",
       "      <td>15.0</td>\n",
       "      <td>60.0</td>\n",
       "      <td>sweet</td>\n",
       "      <td>dessert</td>\n",
       "      <td>Punjab</td>\n",
       "      <td>North</td>\n",
       "    </tr>\n",
       "    <tr>\n",
       "      <th>3</th>\n",
       "      <td>Ghevar</td>\n",
       "      <td>Flour, ghee, kewra, milk, clarified butter, su...</td>\n",
       "      <td>vegetarian</td>\n",
       "      <td>15.0</td>\n",
       "      <td>30.0</td>\n",
       "      <td>sweet</td>\n",
       "      <td>dessert</td>\n",
       "      <td>Rajasthan</td>\n",
       "      <td>West</td>\n",
       "    </tr>\n",
       "    <tr>\n",
       "      <th>4</th>\n",
       "      <td>Gulab jamun</td>\n",
       "      <td>Milk powder, plain flour, baking powder, ghee,...</td>\n",
       "      <td>vegetarian</td>\n",
       "      <td>15.0</td>\n",
       "      <td>40.0</td>\n",
       "      <td>sweet</td>\n",
       "      <td>dessert</td>\n",
       "      <td>West Bengal</td>\n",
       "      <td>East</td>\n",
       "    </tr>\n",
       "  </tbody>\n",
       "</table>\n",
       "</div>"
      ]
     },
     "metadata": {},
     "execution_count": 2
    }
   ],
   "metadata": {}
  },
  {
   "cell_type": "code",
   "execution_count": 3,
   "source": [
    "df.shape"
   ],
   "outputs": [
    {
     "output_type": "execute_result",
     "data": {
      "text/plain": [
       "(255, 9)"
      ]
     },
     "metadata": {},
     "execution_count": 3
    }
   ],
   "metadata": {}
  },
  {
   "cell_type": "code",
   "execution_count": 4,
   "source": [
    "df.info()"
   ],
   "outputs": [
    {
     "output_type": "stream",
     "name": "stdout",
     "text": [
      "<class 'pandas.core.frame.DataFrame'>\n",
      "RangeIndex: 255 entries, 0 to 254\n",
      "Data columns (total 9 columns):\n",
      " #   Column          Non-Null Count  Dtype  \n",
      "---  ------          --------------  -----  \n",
      " 0   name            255 non-null    object \n",
      " 1   ingredients     255 non-null    object \n",
      " 2   diet            255 non-null    object \n",
      " 3   prep_time       225 non-null    float64\n",
      " 4   cook_time       227 non-null    float64\n",
      " 5   flavor_profile  226 non-null    object \n",
      " 6   course          255 non-null    object \n",
      " 7   state           231 non-null    object \n",
      " 8   region          241 non-null    object \n",
      "dtypes: float64(2), object(7)\n",
      "memory usage: 18.1+ KB\n"
     ]
    }
   ],
   "metadata": {}
  },
  {
   "cell_type": "code",
   "execution_count": 5,
   "source": [
    "df.describe()"
   ],
   "outputs": [
    {
     "output_type": "execute_result",
     "data": {
      "text/plain": [
       "        prep_time   cook_time\n",
       "count  225.000000  227.000000\n",
       "mean    35.386667   38.911894\n",
       "std     76.241081   49.421711\n",
       "min      5.000000    2.000000\n",
       "25%     10.000000   20.000000\n",
       "50%     10.000000   30.000000\n",
       "75%     20.000000   45.000000\n",
       "max    500.000000  720.000000"
      ],
      "text/html": [
       "<div>\n",
       "<style scoped>\n",
       "    .dataframe tbody tr th:only-of-type {\n",
       "        vertical-align: middle;\n",
       "    }\n",
       "\n",
       "    .dataframe tbody tr th {\n",
       "        vertical-align: top;\n",
       "    }\n",
       "\n",
       "    .dataframe thead th {\n",
       "        text-align: right;\n",
       "    }\n",
       "</style>\n",
       "<table border=\"1\" class=\"dataframe\">\n",
       "  <thead>\n",
       "    <tr style=\"text-align: right;\">\n",
       "      <th></th>\n",
       "      <th>prep_time</th>\n",
       "      <th>cook_time</th>\n",
       "    </tr>\n",
       "  </thead>\n",
       "  <tbody>\n",
       "    <tr>\n",
       "      <th>count</th>\n",
       "      <td>225.000000</td>\n",
       "      <td>227.000000</td>\n",
       "    </tr>\n",
       "    <tr>\n",
       "      <th>mean</th>\n",
       "      <td>35.386667</td>\n",
       "      <td>38.911894</td>\n",
       "    </tr>\n",
       "    <tr>\n",
       "      <th>std</th>\n",
       "      <td>76.241081</td>\n",
       "      <td>49.421711</td>\n",
       "    </tr>\n",
       "    <tr>\n",
       "      <th>min</th>\n",
       "      <td>5.000000</td>\n",
       "      <td>2.000000</td>\n",
       "    </tr>\n",
       "    <tr>\n",
       "      <th>25%</th>\n",
       "      <td>10.000000</td>\n",
       "      <td>20.000000</td>\n",
       "    </tr>\n",
       "    <tr>\n",
       "      <th>50%</th>\n",
       "      <td>10.000000</td>\n",
       "      <td>30.000000</td>\n",
       "    </tr>\n",
       "    <tr>\n",
       "      <th>75%</th>\n",
       "      <td>20.000000</td>\n",
       "      <td>45.000000</td>\n",
       "    </tr>\n",
       "    <tr>\n",
       "      <th>max</th>\n",
       "      <td>500.000000</td>\n",
       "      <td>720.000000</td>\n",
       "    </tr>\n",
       "  </tbody>\n",
       "</table>\n",
       "</div>"
      ]
     },
     "metadata": {},
     "execution_count": 5
    }
   ],
   "metadata": {}
  },
  {
   "cell_type": "markdown",
   "source": [
    "The continuous features have right-skewed distribution, which we will examine further with some graphs in the next section"
   ],
   "metadata": {}
  },
  {
   "cell_type": "markdown",
   "source": [
    "### 1.2 Visualizations"
   ],
   "metadata": {}
  },
  {
   "cell_type": "code",
   "execution_count": 6,
   "source": [
    "ax = sns.countplot(x = 'flavor_profile', data = df)\n",
    "ax.set_title(\"Number of dishes by flavors\")\n",
    "ax.set_xlabel(\"Flavors\")\n",
    "plt.show()"
   ],
   "outputs": [
    {
     "output_type": "display_data",
     "data": {
      "text/plain": [
       "<Figure size 432x288 with 1 Axes>"
      ],
      "image/png": "[encoded data removed]"
     },
     "metadata": {
      "needs_background": "light"
     }
    }
   ],
   "metadata": {}
  },
  {
   "cell_type": "code",
   "execution_count": 7,
   "source": [
    "ax = sns.countplot(x = 'region', data = df)\n",
    "ax.set_title(\"Number of dishes by regions\")\n",
    "ax.set_xlabel(\"Regions\")\n",
    "plt.show()"
   ],
   "outputs": [
    {
     "output_type": "display_data",
     "data": {
      "text/plain": [
       "<Figure size 432x288 with 1 Axes>"
      ],
      "image/png": "[encoded data removed]"
     },
     "metadata": {
      "needs_background": "light"
     }
    }
   ],
   "metadata": {}
  },
  {
   "cell_type": "code",
   "execution_count": 8,
   "source": [
    "ax = sns.countplot(x = 'course', data = df)\n",
    "ax.set_title(\"Number of dishes by course\")\n",
    "ax.set_xlabel(\"Course\")\n",
    "plt.show()"
   ],
   "outputs": [
    {
     "output_type": "display_data",
     "data": {
      "text/plain": [
       "<Figure size 432x288 with 1 Axes>"
      ],
      "image/png": "[encoded data removed]"
     },
     "metadata": {
      "needs_background": "light"
     }
    }
   ],
   "metadata": {}
  },
  {
   "cell_type": "code",
   "execution_count": 9,
   "source": [
    "sns.barplot(data=df, x=\"region\", y=\"cook_time\")\n",
    "plt.show()"
   ],
   "outputs": [
    {
     "output_type": "display_data",
     "data": {
      "text/plain": [
       "<Figure size 432x288 with 1 Axes>"
      ],
      "image/png": "[encoded data removed]"
     },
     "metadata": {
      "needs_background": "light"
     }
    }
   ],
   "metadata": {}
  },
  {
   "cell_type": "code",
   "execution_count": 10,
   "source": [
    "fig, ax = plt.subplots(1, 2, figsize=(14, 7))\n",
    "sns.histplot(data = df, x = 'prep_time', kde = True, color='olive', ax =ax[0])\n",
    "sns.histplot(data = df, x = 'cook_time', kde = True, color='skyblue', ax=ax[1])\n",
    "plt.show()"
   ],
   "outputs": [
    {
     "output_type": "display_data",
     "data": {
      "text/plain": [
       "<Figure size 1008x504 with 2 Axes>"
      ],
      "image/png": "[encoded data removed]"
     },
     "metadata": {
      "needs_background": "light"
     }
    }
   ],
   "metadata": {}
  },
  {
   "cell_type": "code",
   "execution_count": 11,
   "source": [
    "f, ax = plt.subplots(figsize=(7, 6))\n",
    "ax.set_xscale(\"log\")\n",
    "sns.boxplot(data = df.loc[:,['prep_time', 'cook_time']], orient='h', palette='vlag')\n",
    "ax.set_xlabel(\"Time (log scale)\")\n",
    "ax.xaxis.grid(True)\n",
    "plt.show()"
   ],
   "outputs": [
    {
     "output_type": "display_data",
     "data": {
      "text/plain": [
       "<Figure size 504x432 with 1 Axes>"
      ],
      "image/png": "[encoded data removed]"
     },
     "metadata": {
      "needs_background": "light"
     }
    }
   ],
   "metadata": {}
  },
  {
   "cell_type": "code",
   "execution_count": 12,
   "source": [
    "def draw_boxplots(x_val, xlab):\n",
    "    fig, ax = plt.subplots(1, 2, figsize=(14, 7), sharey=True)\n",
    "    ax[0].set_yscale(\"log\")\n",
    "    sns.boxplot(data = df, x =x_val, y=\"prep_time\", palette='vlag', ax=ax[0])\n",
    "    sns.boxplot(data = df, x =x_val, y=\"cook_time\", palette='vlag', ax=ax[1])\n",
    "    ax[0].set_ylabel(\"Prep time (log scale)\")\n",
    "    ax[0].set_xlabel(xlab)\n",
    "    ax[0].set_title(\"Preparation time by \" + xlab)\n",
    "    ax[1].set_ylabel(\"Cook time (log scale)\")\n",
    "    ax[1].set_xlabel(xlab)\n",
    "    ax[1].set_title(\"Cooking time by \"+ xlab)\n",
    "    plt.show()"
   ],
   "outputs": [],
   "metadata": {}
  },
  {
   "cell_type": "code",
   "execution_count": 13,
   "source": [
    "draw_boxplots(\"flavor_profile\", \"Flavors\")"
   ],
   "outputs": [
    {
     "output_type": "display_data",
     "data": {
      "text/plain": [
       "<Figure size 1008x504 with 2 Axes>"
      ],
      "image/png": "[encoded data removed]"
     },
     "metadata": {
      "needs_background": "light"
     }
    }
   ],
   "metadata": {}
  },
  {
   "cell_type": "code",
   "execution_count": 14,
   "source": [
    "draw_boxplots(\"course\", \"Course\")"
   ],
   "outputs": [
    {
     "output_type": "display_data",
     "data": {
      "text/plain": [
       "<Figure size 1008x504 with 2 Axes>"
      ],
      "image/png": "[encoded data removed]"
     },
     "metadata": {
      "needs_background": "light"
     }
    }
   ],
   "metadata": {}
  },
  {
   "cell_type": "code",
   "execution_count": 15,
   "source": [
    "draw_boxplots(\"diet\", \"Diet\")"
   ],
   "outputs": [
    {
     "output_type": "display_data",
     "data": {
      "text/plain": [
       "<Figure size 1008x504 with 2 Axes>"
      ],
      "image/png": "[encoded data removed]"
     },
     "metadata": {
      "needs_background": "light"
     }
    }
   ],
   "metadata": {}
  },
  {
   "cell_type": "code",
   "execution_count": 16,
   "source": [
    "df['diet'].value_counts()"
   ],
   "outputs": [
    {
     "output_type": "execute_result",
     "data": {
      "text/plain": [
       "vegetarian        226\n",
       "non vegetarian     29\n",
       "Name: diet, dtype: int64"
      ]
     },
     "metadata": {},
     "execution_count": 16
    }
   ],
   "metadata": {}
  },
  {
   "cell_type": "code",
   "execution_count": 17,
   "source": [
    "fig, ax = plt.subplots(figsize=(8, 8))\n",
    "sns.regplot(data=df, x='prep_time', y='cook_time', scatter=True, y_jitter=0.5, x_jitter=0.5)\n",
    "plt.yscale('log')\n",
    "plt.xscale('log')\n",
    "plt.show()"
   ],
   "outputs": [
    {
     "output_type": "display_data",
     "data": {
      "text/plain": [
       "<Figure size 576x576 with 1 Axes>"
      ],
      "image/png": "[encoded data removed]"
     },
     "metadata": {
      "needs_background": "light"
     }
    }
   ],
   "metadata": {}
  },
  {
   "cell_type": "markdown",
   "source": [
    "### 1.3 Missing data"
   ],
   "metadata": {}
  },
  {
   "cell_type": "code",
   "execution_count": 18,
   "source": [
    "df.isnull().mean().round(4)*100"
   ],
   "outputs": [
    {
     "output_type": "execute_result",
     "data": {
      "text/plain": [
       "name               0.00\n",
       "ingredients        0.00\n",
       "diet               0.00\n",
       "prep_time         11.76\n",
       "cook_time         10.98\n",
       "flavor_profile    11.37\n",
       "course             0.00\n",
       "state              9.41\n",
       "region             5.49\n",
       "dtype: float64"
      ]
     },
     "metadata": {},
     "execution_count": 18
    }
   ],
   "metadata": {}
  },
  {
   "cell_type": "code",
   "execution_count": 3,
   "source": [
    "# since the data is skewed, we use mode to impute the missing data in prep_time\n",
    "from sklearn.impute import SimpleImputer\n",
    "\n",
    "imp = SimpleImputer(missing_values=np.nan, strategy='most_frequent')\n",
    "df_wo_state_region = df.copy()\n",
    "df_wo_state_region.drop(['state', 'region'], axis=1, inplace=True)\n",
    "df_wo_state_region.dropna(subset=['cook_time'], inplace=True)\n",
    "df_wo_state_region['prep_time'] = imp.fit_transform(df_wo_state_region['prep_time'].values.reshape(-1, 1))\n",
    "print(df_wo_state_region.isnull().mean().round(4)*100)\n",
    "print(df_wo_state_region.shape)"
   ],
   "outputs": [
    {
     "output_type": "stream",
     "name": "stdout",
     "text": [
      "name               0.00\n",
      "ingredients        0.00\n",
      "diet               0.00\n",
      "prep_time          0.00\n",
      "cook_time          0.00\n",
      "flavor_profile    10.57\n",
      "course             0.00\n",
      "dtype: float64\n",
      "(227, 7)\n"
     ]
    }
   ],
   "metadata": {}
  },
  {
   "cell_type": "markdown",
   "source": [
    "Around 10% of the data has missing flavor profile. Since our dataset is small, we will proceed to impute them. We will preprocess and encode the categorical variables before using KNN to fill in the missing flavor_profile values."
   ],
   "metadata": {}
  },
  {
   "cell_type": "code",
   "execution_count": 4,
   "source": [
    "df_train = df_wo_state_region.copy()"
   ],
   "outputs": [],
   "metadata": {}
  },
  {
   "cell_type": "code",
   "execution_count": 7,
   "source": [
    "# no duplicates\n",
    "df_train.duplicated().any()"
   ],
   "outputs": [
    {
     "output_type": "execute_result",
     "data": {
      "text/plain": [
       "False"
      ]
     },
     "metadata": {},
     "execution_count": 7
    }
   ],
   "metadata": {}
  },
  {
   "cell_type": "markdown",
   "source": [
    "### 1.4 One hot encode categorical data"
   ],
   "metadata": {}
  },
  {
   "cell_type": "code",
   "execution_count": 5,
   "source": [
    "# preprocess ingredients columns\n",
    "df_train['is_vegetarian'] = df_train['diet'].map({'vegetarian': 1, 'non vegetarian' : 0}).astype('object')\n",
    "df_train.head()"
   ],
   "outputs": [
    {
     "output_type": "execute_result",
     "data": {
      "text/plain": [
       "             name                                        ingredients  \\\n",
       "0      Balu shahi                    Maida flour, yogurt, oil, sugar   \n",
       "1          Boondi                            Gram flour, ghee, sugar   \n",
       "2  Gajar ka halwa       Carrots, milk, sugar, ghee, cashews, raisins   \n",
       "3          Ghevar  Flour, ghee, kewra, milk, clarified butter, su...   \n",
       "4     Gulab jamun  Milk powder, plain flour, baking powder, ghee,...   \n",
       "\n",
       "         diet  prep_time  cook_time flavor_profile   course is_vegetarian  \n",
       "0  vegetarian       45.0       25.0          sweet  dessert             1  \n",
       "1  vegetarian       80.0       30.0          sweet  dessert             1  \n",
       "2  vegetarian       15.0       60.0          sweet  dessert             1  \n",
       "3  vegetarian       15.0       30.0          sweet  dessert             1  \n",
       "4  vegetarian       15.0       40.0          sweet  dessert             1  "
      ],
      "text/html": [
       "<div>\n",
       "<style scoped>\n",
       "    .dataframe tbody tr th:only-of-type {\n",
       "        vertical-align: middle;\n",
       "    }\n",
       "\n",
       "    .dataframe tbody tr th {\n",
       "        vertical-align: top;\n",
       "    }\n",
       "\n",
       "    .dataframe thead th {\n",
       "        text-align: right;\n",
       "    }\n",
       "</style>\n",
       "<table border=\"1\" class=\"dataframe\">\n",
       "  <thead>\n",
       "    <tr style=\"text-align: right;\">\n",
       "      <th></th>\n",
       "      <th>name</th>\n",
       "      <th>ingredients</th>\n",
       "      <th>diet</th>\n",
       "      <th>prep_time</th>\n",
       "      <th>cook_time</th>\n",
       "      <th>flavor_profile</th>\n",
       "      <th>course</th>\n",
       "      <th>is_vegetarian</th>\n",
       "    </tr>\n",
       "  </thead>\n",
       "  <tbody>\n",
       "    <tr>\n",
       "      <th>0</th>\n",
       "      <td>Balu shahi</td>\n",
       "      <td>Maida flour, yogurt, oil, sugar</td>\n",
       "      <td>vegetarian</td>\n",
       "      <td>45.0</td>\n",
       "      <td>25.0</td>\n",
       "      <td>sweet</td>\n",
       "      <td>dessert</td>\n",
       "      <td>1</td>\n",
       "    </tr>\n",
       "    <tr>\n",
       "      <th>1</th>\n",
       "      <td>Boondi</td>\n",
       "      <td>Gram flour, ghee, sugar</td>\n",
       "      <td>vegetarian</td>\n",
       "      <td>80.0</td>\n",
       "      <td>30.0</td>\n",
       "      <td>sweet</td>\n",
       "      <td>dessert</td>\n",
       "      <td>1</td>\n",
       "    </tr>\n",
       "    <tr>\n",
       "      <th>2</th>\n",
       "      <td>Gajar ka halwa</td>\n",
       "      <td>Carrots, milk, sugar, ghee, cashews, raisins</td>\n",
       "      <td>vegetarian</td>\n",
       "      <td>15.0</td>\n",
       "      <td>60.0</td>\n",
       "      <td>sweet</td>\n",
       "      <td>dessert</td>\n",
       "      <td>1</td>\n",
       "    </tr>\n",
       "    <tr>\n",
       "      <th>3</th>\n",
       "      <td>Ghevar</td>\n",
       "      <td>Flour, ghee, kewra, milk, clarified butter, su...</td>\n",
       "      <td>vegetarian</td>\n",
       "      <td>15.0</td>\n",
       "      <td>30.0</td>\n",
       "      <td>sweet</td>\n",
       "      <td>dessert</td>\n",
       "      <td>1</td>\n",
       "    </tr>\n",
       "    <tr>\n",
       "      <th>4</th>\n",
       "      <td>Gulab jamun</td>\n",
       "      <td>Milk powder, plain flour, baking powder, ghee,...</td>\n",
       "      <td>vegetarian</td>\n",
       "      <td>15.0</td>\n",
       "      <td>40.0</td>\n",
       "      <td>sweet</td>\n",
       "      <td>dessert</td>\n",
       "      <td>1</td>\n",
       "    </tr>\n",
       "  </tbody>\n",
       "</table>\n",
       "</div>"
      ]
     },
     "metadata": {},
     "execution_count": 5
    }
   ],
   "metadata": {}
  },
  {
   "cell_type": "code",
   "execution_count": 5,
   "source": [
    "df_train = df_train.reset_index(drop=True)"
   ],
   "outputs": [],
   "metadata": {}
  },
  {
   "cell_type": "code",
   "execution_count": 6,
   "source": [
    "# discretize cook_time\n",
    "bins = [0, 30, 60, 720]\n",
    "group_names = ['quick', 'medium', 'slow']\n",
    "df_train['cook_time'] = pd.cut(df_train['cook_time'], bins, labels=group_names)"
   ],
   "outputs": [],
   "metadata": {}
  },
  {
   "cell_type": "code",
   "execution_count": 7,
   "source": [
    "df_train['cook_time'].value_counts()"
   ],
   "outputs": [
    {
     "output_type": "execute_result",
     "data": {
      "text/plain": [
       "quick     131\n",
       "medium     84\n",
       "slow       12\n",
       "Name: cook_time, dtype: int64"
      ]
     },
     "metadata": {},
     "execution_count": 7
    }
   ],
   "metadata": {}
  },
  {
   "cell_type": "code",
   "execution_count": 8,
   "source": [
    "# feature encoding for ingredients\n",
    "from sklearn.feature_extraction.text import TfidfVectorizer"
   ],
   "outputs": [],
   "metadata": {}
  },
  {
   "cell_type": "code",
   "execution_count": 9,
   "source": [
    "vectorizer = TfidfVectorizer()\n",
    "vectors = vectorizer.fit_transform(df_train['ingredients'])\n",
    "feature_names = vectorizer.get_feature_names()\n",
    "dense = vectors.todense()\n",
    "denselist = dense.tolist()\n",
    "pd.DataFrame(denselist, columns=feature_names)"
   ],
   "outputs": [
    {
     "output_type": "execute_result",
     "data": {
      "text/plain": [
       "     acid       all  almond   almonds  aloo  alum  amaranth  amchur  and  \\\n",
       "0     0.0  0.000000     0.0  0.000000   0.0   0.0       0.0     0.0  0.0   \n",
       "1     0.0  0.000000     0.0  0.000000   0.0   0.0       0.0     0.0  0.0   \n",
       "2     0.0  0.000000     0.0  0.000000   0.0   0.0       0.0     0.0  0.0   \n",
       "3     0.0  0.000000     0.0  0.355991   0.0   0.0       0.0     0.0  0.0   \n",
       "4     0.0  0.000000     0.0  0.000000   0.0   0.0       0.0     0.0  0.0   \n",
       "..    ...       ...     ...       ...   ...   ...       ...     ...  ...   \n",
       "222   0.0  0.000000     0.0  0.000000   0.0   0.0       0.0     0.0  0.0   \n",
       "223   0.0  0.000000     0.0  0.000000   0.0   0.0       0.0     0.0  0.0   \n",
       "224   0.0  0.000000     0.0  0.000000   0.0   0.0       0.0     0.0  0.0   \n",
       "225   0.0  0.359378     0.0  0.000000   0.0   0.0       0.0     0.0  0.0   \n",
       "226   0.0  0.346548     0.0  0.000000   0.0   0.0       0.0     0.0  0.0   \n",
       "\n",
       "     anise  ...  whipping  white  whole  wild  wine  yam  yellow  yoghurt  \\\n",
       "0      0.0  ...       0.0    0.0    0.0   0.0   0.0  0.0     0.0      0.0   \n",
       "1      0.0  ...       0.0    0.0    0.0   0.0   0.0  0.0     0.0      0.0   \n",
       "2      0.0  ...       0.0    0.0    0.0   0.0   0.0  0.0     0.0      0.0   \n",
       "3      0.0  ...       0.0    0.0    0.0   0.0   0.0  0.0     0.0      0.0   \n",
       "4      0.0  ...       0.0    0.0    0.0   0.0   0.0  0.0     0.0      0.0   \n",
       "..     ...  ...       ...    ...    ...   ...   ...  ...     ...      ...   \n",
       "222    0.0  ...       0.0    0.0    0.0   0.0   0.0  0.0     0.0      0.0   \n",
       "223    0.0  ...       0.0    0.0    0.0   0.0   0.0  0.0     0.0      0.0   \n",
       "224    0.0  ...       0.0    0.0    0.0   0.0   0.0  0.0     0.0      0.0   \n",
       "225    0.0  ...       0.0    0.0    0.0   0.0   0.0  0.0     0.0      0.0   \n",
       "226    0.0  ...       0.0    0.0    0.0   0.0   0.0  0.0     0.0      0.0   \n",
       "\n",
       "       yogurt     yolks  \n",
       "0    0.531785  0.000000  \n",
       "1    0.000000  0.000000  \n",
       "2    0.000000  0.000000  \n",
       "3    0.000000  0.000000  \n",
       "4    0.000000  0.000000  \n",
       "..        ...       ...  \n",
       "222  0.000000  0.000000  \n",
       "223  0.000000  0.000000  \n",
       "224  0.000000  0.000000  \n",
       "225  0.000000  0.459796  \n",
       "226  0.000000  0.000000  \n",
       "\n",
       "[227 rows x 312 columns]"
      ],
      "text/html": [
       "<div>\n",
       "<style scoped>\n",
       "    .dataframe tbody tr th:only-of-type {\n",
       "        vertical-align: middle;\n",
       "    }\n",
       "\n",
       "    .dataframe tbody tr th {\n",
       "        vertical-align: top;\n",
       "    }\n",
       "\n",
       "    .dataframe thead th {\n",
       "        text-align: right;\n",
       "    }\n",
       "</style>\n",
       "<table border=\"1\" class=\"dataframe\">\n",
       "  <thead>\n",
       "    <tr style=\"text-align: right;\">\n",
       "      <th></th>\n",
       "      <th>acid</th>\n",
       "      <th>all</th>\n",
       "      <th>almond</th>\n",
       "      <th>almonds</th>\n",
       "      <th>aloo</th>\n",
       "      <th>alum</th>\n",
       "      <th>amaranth</th>\n",
       "      <th>amchur</th>\n",
       "      <th>and</th>\n",
       "      <th>anise</th>\n",
       "      <th>...</th>\n",
       "      <th>whipping</th>\n",
       "      <th>white</th>\n",
       "      <th>whole</th>\n",
       "      <th>wild</th>\n",
       "      <th>wine</th>\n",
       "      <th>yam</th>\n",
       "      <th>yellow</th>\n",
       "      <th>yoghurt</th>\n",
       "      <th>yogurt</th>\n",
       "      <th>yolks</th>\n",
       "    </tr>\n",
       "  </thead>\n",
       "  <tbody>\n",
       "    <tr>\n",
       "      <th>0</th>\n",
       "      <td>0.0</td>\n",
       "      <td>0.000000</td>\n",
       "      <td>0.0</td>\n",
       "      <td>0.000000</td>\n",
       "      <td>0.0</td>\n",
       "      <td>0.0</td>\n",
       "      <td>0.0</td>\n",
       "      <td>0.0</td>\n",
       "      <td>0.0</td>\n",
       "      <td>0.0</td>\n",
       "      <td>...</td>\n",
       "      <td>0.0</td>\n",
       "      <td>0.0</td>\n",
       "      <td>0.0</td>\n",
       "      <td>0.0</td>\n",
       "      <td>0.0</td>\n",
       "      <td>0.0</td>\n",
       "      <td>0.0</td>\n",
       "      <td>0.0</td>\n",
       "      <td>0.531785</td>\n",
       "      <td>0.000000</td>\n",
       "    </tr>\n",
       "    <tr>\n",
       "      <th>1</th>\n",
       "      <td>0.0</td>\n",
       "      <td>0.000000</td>\n",
       "      <td>0.0</td>\n",
       "      <td>0.000000</td>\n",
       "      <td>0.0</td>\n",
       "      <td>0.0</td>\n",
       "      <td>0.0</td>\n",
       "      <td>0.0</td>\n",
       "      <td>0.0</td>\n",
       "      <td>0.0</td>\n",
       "      <td>...</td>\n",
       "      <td>0.0</td>\n",
       "      <td>0.0</td>\n",
       "      <td>0.0</td>\n",
       "      <td>0.0</td>\n",
       "      <td>0.0</td>\n",
       "      <td>0.0</td>\n",
       "      <td>0.0</td>\n",
       "      <td>0.0</td>\n",
       "      <td>0.000000</td>\n",
       "      <td>0.000000</td>\n",
       "    </tr>\n",
       "    <tr>\n",
       "      <th>2</th>\n",
       "      <td>0.0</td>\n",
       "      <td>0.000000</td>\n",
       "      <td>0.0</td>\n",
       "      <td>0.000000</td>\n",
       "      <td>0.0</td>\n",
       "      <td>0.0</td>\n",
       "      <td>0.0</td>\n",
       "      <td>0.0</td>\n",
       "      <td>0.0</td>\n",
       "      <td>0.0</td>\n",
       "      <td>...</td>\n",
       "      <td>0.0</td>\n",
       "      <td>0.0</td>\n",
       "      <td>0.0</td>\n",
       "      <td>0.0</td>\n",
       "      <td>0.0</td>\n",
       "      <td>0.0</td>\n",
       "      <td>0.0</td>\n",
       "      <td>0.0</td>\n",
       "      <td>0.000000</td>\n",
       "      <td>0.000000</td>\n",
       "    </tr>\n",
       "    <tr>\n",
       "      <th>3</th>\n",
       "      <td>0.0</td>\n",
       "      <td>0.000000</td>\n",
       "      <td>0.0</td>\n",
       "      <td>0.355991</td>\n",
       "      <td>0.0</td>\n",
       "      <td>0.0</td>\n",
       "      <td>0.0</td>\n",
       "      <td>0.0</td>\n",
       "      <td>0.0</td>\n",
       "      <td>0.0</td>\n",
       "      <td>...</td>\n",
       "      <td>0.0</td>\n",
       "      <td>0.0</td>\n",
       "      <td>0.0</td>\n",
       "      <td>0.0</td>\n",
       "      <td>0.0</td>\n",
       "      <td>0.0</td>\n",
       "      <td>0.0</td>\n",
       "      <td>0.0</td>\n",
       "      <td>0.000000</td>\n",
       "      <td>0.000000</td>\n",
       "    </tr>\n",
       "    <tr>\n",
       "      <th>4</th>\n",
       "      <td>0.0</td>\n",
       "      <td>0.000000</td>\n",
       "      <td>0.0</td>\n",
       "      <td>0.000000</td>\n",
       "      <td>0.0</td>\n",
       "      <td>0.0</td>\n",
       "      <td>0.0</td>\n",
       "      <td>0.0</td>\n",
       "      <td>0.0</td>\n",
       "      <td>0.0</td>\n",
       "      <td>...</td>\n",
       "      <td>0.0</td>\n",
       "      <td>0.0</td>\n",
       "      <td>0.0</td>\n",
       "      <td>0.0</td>\n",
       "      <td>0.0</td>\n",
       "      <td>0.0</td>\n",
       "      <td>0.0</td>\n",
       "      <td>0.0</td>\n",
       "      <td>0.000000</td>\n",
       "      <td>0.000000</td>\n",
       "    </tr>\n",
       "    <tr>\n",
       "      <th>...</th>\n",
       "      <td>...</td>\n",
       "      <td>...</td>\n",
       "      <td>...</td>\n",
       "      <td>...</td>\n",
       "      <td>...</td>\n",
       "      <td>...</td>\n",
       "      <td>...</td>\n",
       "      <td>...</td>\n",
       "      <td>...</td>\n",
       "      <td>...</td>\n",
       "      <td>...</td>\n",
       "      <td>...</td>\n",
       "      <td>...</td>\n",
       "      <td>...</td>\n",
       "      <td>...</td>\n",
       "      <td>...</td>\n",
       "      <td>...</td>\n",
       "      <td>...</td>\n",
       "      <td>...</td>\n",
       "      <td>...</td>\n",
       "      <td>...</td>\n",
       "    </tr>\n",
       "    <tr>\n",
       "      <th>222</th>\n",
       "      <td>0.0</td>\n",
       "      <td>0.000000</td>\n",
       "      <td>0.0</td>\n",
       "      <td>0.000000</td>\n",
       "      <td>0.0</td>\n",
       "      <td>0.0</td>\n",
       "      <td>0.0</td>\n",
       "      <td>0.0</td>\n",
       "      <td>0.0</td>\n",
       "      <td>0.0</td>\n",
       "      <td>...</td>\n",
       "      <td>0.0</td>\n",
       "      <td>0.0</td>\n",
       "      <td>0.0</td>\n",
       "      <td>0.0</td>\n",
       "      <td>0.0</td>\n",
       "      <td>0.0</td>\n",
       "      <td>0.0</td>\n",
       "      <td>0.0</td>\n",
       "      <td>0.000000</td>\n",
       "      <td>0.000000</td>\n",
       "    </tr>\n",
       "    <tr>\n",
       "      <th>223</th>\n",
       "      <td>0.0</td>\n",
       "      <td>0.000000</td>\n",
       "      <td>0.0</td>\n",
       "      <td>0.000000</td>\n",
       "      <td>0.0</td>\n",
       "      <td>0.0</td>\n",
       "      <td>0.0</td>\n",
       "      <td>0.0</td>\n",
       "      <td>0.0</td>\n",
       "      <td>0.0</td>\n",
       "      <td>...</td>\n",
       "      <td>0.0</td>\n",
       "      <td>0.0</td>\n",
       "      <td>0.0</td>\n",
       "      <td>0.0</td>\n",
       "      <td>0.0</td>\n",
       "      <td>0.0</td>\n",
       "      <td>0.0</td>\n",
       "      <td>0.0</td>\n",
       "      <td>0.000000</td>\n",
       "      <td>0.000000</td>\n",
       "    </tr>\n",
       "    <tr>\n",
       "      <th>224</th>\n",
       "      <td>0.0</td>\n",
       "      <td>0.000000</td>\n",
       "      <td>0.0</td>\n",
       "      <td>0.000000</td>\n",
       "      <td>0.0</td>\n",
       "      <td>0.0</td>\n",
       "      <td>0.0</td>\n",
       "      <td>0.0</td>\n",
       "      <td>0.0</td>\n",
       "      <td>0.0</td>\n",
       "      <td>...</td>\n",
       "      <td>0.0</td>\n",
       "      <td>0.0</td>\n",
       "      <td>0.0</td>\n",
       "      <td>0.0</td>\n",
       "      <td>0.0</td>\n",
       "      <td>0.0</td>\n",
       "      <td>0.0</td>\n",
       "      <td>0.0</td>\n",
       "      <td>0.000000</td>\n",
       "      <td>0.000000</td>\n",
       "    </tr>\n",
       "    <tr>\n",
       "      <th>225</th>\n",
       "      <td>0.0</td>\n",
       "      <td>0.359378</td>\n",
       "      <td>0.0</td>\n",
       "      <td>0.000000</td>\n",
       "      <td>0.0</td>\n",
       "      <td>0.0</td>\n",
       "      <td>0.0</td>\n",
       "      <td>0.0</td>\n",
       "      <td>0.0</td>\n",
       "      <td>0.0</td>\n",
       "      <td>...</td>\n",
       "      <td>0.0</td>\n",
       "      <td>0.0</td>\n",
       "      <td>0.0</td>\n",
       "      <td>0.0</td>\n",
       "      <td>0.0</td>\n",
       "      <td>0.0</td>\n",
       "      <td>0.0</td>\n",
       "      <td>0.0</td>\n",
       "      <td>0.000000</td>\n",
       "      <td>0.459796</td>\n",
       "    </tr>\n",
       "    <tr>\n",
       "      <th>226</th>\n",
       "      <td>0.0</td>\n",
       "      <td>0.346548</td>\n",
       "      <td>0.0</td>\n",
       "      <td>0.000000</td>\n",
       "      <td>0.0</td>\n",
       "      <td>0.0</td>\n",
       "      <td>0.0</td>\n",
       "      <td>0.0</td>\n",
       "      <td>0.0</td>\n",
       "      <td>0.0</td>\n",
       "      <td>...</td>\n",
       "      <td>0.0</td>\n",
       "      <td>0.0</td>\n",
       "      <td>0.0</td>\n",
       "      <td>0.0</td>\n",
       "      <td>0.0</td>\n",
       "      <td>0.0</td>\n",
       "      <td>0.0</td>\n",
       "      <td>0.0</td>\n",
       "      <td>0.000000</td>\n",
       "      <td>0.000000</td>\n",
       "    </tr>\n",
       "  </tbody>\n",
       "</table>\n",
       "<p>227 rows × 312 columns</p>\n",
       "</div>"
      ]
     },
     "metadata": {},
     "execution_count": 9
    }
   ],
   "metadata": {}
  },
  {
   "cell_type": "code",
   "execution_count": 10,
   "source": [
    "dummies = pd.DataFrame(denselist, columns=feature_names)"
   ],
   "outputs": [],
   "metadata": {}
  },
  {
   "cell_type": "code",
   "execution_count": 11,
   "source": [
    "# one hot encoding the flavors\n",
    "one_hot_encode_data = pd.get_dummies(df_train, columns=['flavor_profile', 'course'])"
   ],
   "outputs": [],
   "metadata": {}
  },
  {
   "cell_type": "code",
   "execution_count": 12,
   "source": [
    "one_hot_encode_data = one_hot_encode_data.join(dummies.add_prefix('ingre_'))\n",
    "one_hot_encode_data.drop(['ingredients', 'diet', 'name'], axis=1, inplace=True)"
   ],
   "outputs": [],
   "metadata": {}
  },
  {
   "cell_type": "code",
   "execution_count": 36,
   "source": [
    "one_hot_encode_data"
   ],
   "outputs": [
    {
     "output_type": "execute_result",
     "data": {
      "text/plain": [
       "     prep_time cook_time is_vegetarian  flavor_profile_bitter  \\\n",
       "0         45.0     quick             1                      0   \n",
       "1         80.0     quick             1                      0   \n",
       "2         15.0    medium             1                      0   \n",
       "3         15.0     quick             1                      0   \n",
       "4         15.0    medium             1                      0   \n",
       "..         ...       ...           ...                    ...   \n",
       "222       15.0    medium             0                      0   \n",
       "223       10.0     quick             1                      0   \n",
       "224        5.0     quick             1                      0   \n",
       "225       20.0    medium             1                      0   \n",
       "226       20.0    medium             1                      0   \n",
       "\n",
       "     flavor_profile_sour  flavor_profile_spicy  flavor_profile_sweet  \\\n",
       "0                      0                     0                     1   \n",
       "1                      0                     0                     1   \n",
       "2                      0                     0                     1   \n",
       "3                      0                     0                     1   \n",
       "4                      0                     0                     1   \n",
       "..                   ...                   ...                   ...   \n",
       "222                    0                     1                     0   \n",
       "223                    0                     1                     0   \n",
       "224                    0                     0                     1   \n",
       "225                    0                     0                     1   \n",
       "226                    0                     0                     1   \n",
       "\n",
       "     course_dessert  course_main course  course_snack  ...  ingre_whipping  \\\n",
       "0                 1                   0             0  ...             0.0   \n",
       "1                 1                   0             0  ...             0.0   \n",
       "2                 1                   0             0  ...             0.0   \n",
       "3                 1                   0             0  ...             0.0   \n",
       "4                 1                   0             0  ...             0.0   \n",
       "..              ...                 ...           ...  ...             ...   \n",
       "222               0                   1             0  ...             0.0   \n",
       "223               0                   1             0  ...             0.0   \n",
       "224               1                   0             0  ...             0.0   \n",
       "225               1                   0             0  ...             0.0   \n",
       "226               1                   0             0  ...             0.0   \n",
       "\n",
       "     ingre_white  ingre_whole  ingre_wild  ingre_wine  ingre_yam  \\\n",
       "0            0.0          0.0         0.0         0.0        0.0   \n",
       "1            0.0          0.0         0.0         0.0        0.0   \n",
       "2            0.0          0.0         0.0         0.0        0.0   \n",
       "3            0.0          0.0         0.0         0.0        0.0   \n",
       "4            0.0          0.0         0.0         0.0        0.0   \n",
       "..           ...          ...         ...         ...        ...   \n",
       "222          0.0          0.0         0.0         0.0        0.0   \n",
       "223          0.0          0.0         0.0         0.0        0.0   \n",
       "224          0.0          0.0         0.0         0.0        0.0   \n",
       "225          0.0          0.0         0.0         0.0        0.0   \n",
       "226          0.0          0.0         0.0         0.0        0.0   \n",
       "\n",
       "     ingre_yellow  ingre_yoghurt  ingre_yogurt  ingre_yolks  \n",
       "0             0.0            0.0      0.531785     0.000000  \n",
       "1             0.0            0.0      0.000000     0.000000  \n",
       "2             0.0            0.0      0.000000     0.000000  \n",
       "3             0.0            0.0      0.000000     0.000000  \n",
       "4             0.0            0.0      0.000000     0.000000  \n",
       "..            ...            ...           ...          ...  \n",
       "222           0.0            0.0      0.000000     0.000000  \n",
       "223           0.0            0.0      0.000000     0.000000  \n",
       "224           0.0            0.0      0.000000     0.000000  \n",
       "225           0.0            0.0      0.000000     0.459796  \n",
       "226           0.0            0.0      0.000000     0.000000  \n",
       "\n",
       "[227 rows x 323 columns]"
      ],
      "text/html": [
       "<div>\n",
       "<style scoped>\n",
       "    .dataframe tbody tr th:only-of-type {\n",
       "        vertical-align: middle;\n",
       "    }\n",
       "\n",
       "    .dataframe tbody tr th {\n",
       "        vertical-align: top;\n",
       "    }\n",
       "\n",
       "    .dataframe thead th {\n",
       "        text-align: right;\n",
       "    }\n",
       "</style>\n",
       "<table border=\"1\" class=\"dataframe\">\n",
       "  <thead>\n",
       "    <tr style=\"text-align: right;\">\n",
       "      <th></th>\n",
       "      <th>prep_time</th>\n",
       "      <th>cook_time</th>\n",
       "      <th>is_vegetarian</th>\n",
       "      <th>flavor_profile_bitter</th>\n",
       "      <th>flavor_profile_sour</th>\n",
       "      <th>flavor_profile_spicy</th>\n",
       "      <th>flavor_profile_sweet</th>\n",
       "      <th>course_dessert</th>\n",
       "      <th>course_main course</th>\n",
       "      <th>course_snack</th>\n",
       "      <th>...</th>\n",
       "      <th>ingre_whipping</th>\n",
       "      <th>ingre_white</th>\n",
       "      <th>ingre_whole</th>\n",
       "      <th>ingre_wild</th>\n",
       "      <th>ingre_wine</th>\n",
       "      <th>ingre_yam</th>\n",
       "      <th>ingre_yellow</th>\n",
       "      <th>ingre_yoghurt</th>\n",
       "      <th>ingre_yogurt</th>\n",
       "      <th>ingre_yolks</th>\n",
       "    </tr>\n",
       "  </thead>\n",
       "  <tbody>\n",
       "    <tr>\n",
       "      <th>0</th>\n",
       "      <td>45.0</td>\n",
       "      <td>quick</td>\n",
       "      <td>1</td>\n",
       "      <td>0</td>\n",
       "      <td>0</td>\n",
       "      <td>0</td>\n",
       "      <td>1</td>\n",
       "      <td>1</td>\n",
       "      <td>0</td>\n",
       "      <td>0</td>\n",
       "      <td>...</td>\n",
       "      <td>0.0</td>\n",
       "      <td>0.0</td>\n",
       "      <td>0.0</td>\n",
       "      <td>0.0</td>\n",
       "      <td>0.0</td>\n",
       "      <td>0.0</td>\n",
       "      <td>0.0</td>\n",
       "      <td>0.0</td>\n",
       "      <td>0.531785</td>\n",
       "      <td>0.000000</td>\n",
       "    </tr>\n",
       "    <tr>\n",
       "      <th>1</th>\n",
       "      <td>80.0</td>\n",
       "      <td>quick</td>\n",
       "      <td>1</td>\n",
       "      <td>0</td>\n",
       "      <td>0</td>\n",
       "      <td>0</td>\n",
       "      <td>1</td>\n",
       "      <td>1</td>\n",
       "      <td>0</td>\n",
       "      <td>0</td>\n",
       "      <td>...</td>\n",
       "      <td>0.0</td>\n",
       "      <td>0.0</td>\n",
       "      <td>0.0</td>\n",
       "      <td>0.0</td>\n",
       "      <td>0.0</td>\n",
       "      <td>0.0</td>\n",
       "      <td>0.0</td>\n",
       "      <td>0.0</td>\n",
       "      <td>0.000000</td>\n",
       "      <td>0.000000</td>\n",
       "    </tr>\n",
       "    <tr>\n",
       "      <th>2</th>\n",
       "      <td>15.0</td>\n",
       "      <td>medium</td>\n",
       "      <td>1</td>\n",
       "      <td>0</td>\n",
       "      <td>0</td>\n",
       "      <td>0</td>\n",
       "      <td>1</td>\n",
       "      <td>1</td>\n",
       "      <td>0</td>\n",
       "      <td>0</td>\n",
       "      <td>...</td>\n",
       "      <td>0.0</td>\n",
       "      <td>0.0</td>\n",
       "      <td>0.0</td>\n",
       "      <td>0.0</td>\n",
       "      <td>0.0</td>\n",
       "      <td>0.0</td>\n",
       "      <td>0.0</td>\n",
       "      <td>0.0</td>\n",
       "      <td>0.000000</td>\n",
       "      <td>0.000000</td>\n",
       "    </tr>\n",
       "    <tr>\n",
       "      <th>3</th>\n",
       "      <td>15.0</td>\n",
       "      <td>quick</td>\n",
       "      <td>1</td>\n",
       "      <td>0</td>\n",
       "      <td>0</td>\n",
       "      <td>0</td>\n",
       "      <td>1</td>\n",
       "      <td>1</td>\n",
       "      <td>0</td>\n",
       "      <td>0</td>\n",
       "      <td>...</td>\n",
       "      <td>0.0</td>\n",
       "      <td>0.0</td>\n",
       "      <td>0.0</td>\n",
       "      <td>0.0</td>\n",
       "      <td>0.0</td>\n",
       "      <td>0.0</td>\n",
       "      <td>0.0</td>\n",
       "      <td>0.0</td>\n",
       "      <td>0.000000</td>\n",
       "      <td>0.000000</td>\n",
       "    </tr>\n",
       "    <tr>\n",
       "      <th>4</th>\n",
       "      <td>15.0</td>\n",
       "      <td>medium</td>\n",
       "      <td>1</td>\n",
       "      <td>0</td>\n",
       "      <td>0</td>\n",
       "      <td>0</td>\n",
       "      <td>1</td>\n",
       "      <td>1</td>\n",
       "      <td>0</td>\n",
       "      <td>0</td>\n",
       "      <td>...</td>\n",
       "      <td>0.0</td>\n",
       "      <td>0.0</td>\n",
       "      <td>0.0</td>\n",
       "      <td>0.0</td>\n",
       "      <td>0.0</td>\n",
       "      <td>0.0</td>\n",
       "      <td>0.0</td>\n",
       "      <td>0.0</td>\n",
       "      <td>0.000000</td>\n",
       "      <td>0.000000</td>\n",
       "    </tr>\n",
       "    <tr>\n",
       "      <th>...</th>\n",
       "      <td>...</td>\n",
       "      <td>...</td>\n",
       "      <td>...</td>\n",
       "      <td>...</td>\n",
       "      <td>...</td>\n",
       "      <td>...</td>\n",
       "      <td>...</td>\n",
       "      <td>...</td>\n",
       "      <td>...</td>\n",
       "      <td>...</td>\n",
       "      <td>...</td>\n",
       "      <td>...</td>\n",
       "      <td>...</td>\n",
       "      <td>...</td>\n",
       "      <td>...</td>\n",
       "      <td>...</td>\n",
       "      <td>...</td>\n",
       "      <td>...</td>\n",
       "      <td>...</td>\n",
       "      <td>...</td>\n",
       "      <td>...</td>\n",
       "    </tr>\n",
       "    <tr>\n",
       "      <th>222</th>\n",
       "      <td>15.0</td>\n",
       "      <td>medium</td>\n",
       "      <td>0</td>\n",
       "      <td>0</td>\n",
       "      <td>0</td>\n",
       "      <td>1</td>\n",
       "      <td>0</td>\n",
       "      <td>0</td>\n",
       "      <td>1</td>\n",
       "      <td>0</td>\n",
       "      <td>...</td>\n",
       "      <td>0.0</td>\n",
       "      <td>0.0</td>\n",
       "      <td>0.0</td>\n",
       "      <td>0.0</td>\n",
       "      <td>0.0</td>\n",
       "      <td>0.0</td>\n",
       "      <td>0.0</td>\n",
       "      <td>0.0</td>\n",
       "      <td>0.000000</td>\n",
       "      <td>0.000000</td>\n",
       "    </tr>\n",
       "    <tr>\n",
       "      <th>223</th>\n",
       "      <td>10.0</td>\n",
       "      <td>quick</td>\n",
       "      <td>1</td>\n",
       "      <td>0</td>\n",
       "      <td>0</td>\n",
       "      <td>1</td>\n",
       "      <td>0</td>\n",
       "      <td>0</td>\n",
       "      <td>1</td>\n",
       "      <td>0</td>\n",
       "      <td>...</td>\n",
       "      <td>0.0</td>\n",
       "      <td>0.0</td>\n",
       "      <td>0.0</td>\n",
       "      <td>0.0</td>\n",
       "      <td>0.0</td>\n",
       "      <td>0.0</td>\n",
       "      <td>0.0</td>\n",
       "      <td>0.0</td>\n",
       "      <td>0.000000</td>\n",
       "      <td>0.000000</td>\n",
       "    </tr>\n",
       "    <tr>\n",
       "      <th>224</th>\n",
       "      <td>5.0</td>\n",
       "      <td>quick</td>\n",
       "      <td>1</td>\n",
       "      <td>0</td>\n",
       "      <td>0</td>\n",
       "      <td>0</td>\n",
       "      <td>1</td>\n",
       "      <td>1</td>\n",
       "      <td>0</td>\n",
       "      <td>0</td>\n",
       "      <td>...</td>\n",
       "      <td>0.0</td>\n",
       "      <td>0.0</td>\n",
       "      <td>0.0</td>\n",
       "      <td>0.0</td>\n",
       "      <td>0.0</td>\n",
       "      <td>0.0</td>\n",
       "      <td>0.0</td>\n",
       "      <td>0.0</td>\n",
       "      <td>0.000000</td>\n",
       "      <td>0.000000</td>\n",
       "    </tr>\n",
       "    <tr>\n",
       "      <th>225</th>\n",
       "      <td>20.0</td>\n",
       "      <td>medium</td>\n",
       "      <td>1</td>\n",
       "      <td>0</td>\n",
       "      <td>0</td>\n",
       "      <td>0</td>\n",
       "      <td>1</td>\n",
       "      <td>1</td>\n",
       "      <td>0</td>\n",
       "      <td>0</td>\n",
       "      <td>...</td>\n",
       "      <td>0.0</td>\n",
       "      <td>0.0</td>\n",
       "      <td>0.0</td>\n",
       "      <td>0.0</td>\n",
       "      <td>0.0</td>\n",
       "      <td>0.0</td>\n",
       "      <td>0.0</td>\n",
       "      <td>0.0</td>\n",
       "      <td>0.000000</td>\n",
       "      <td>0.459796</td>\n",
       "    </tr>\n",
       "    <tr>\n",
       "      <th>226</th>\n",
       "      <td>20.0</td>\n",
       "      <td>medium</td>\n",
       "      <td>1</td>\n",
       "      <td>0</td>\n",
       "      <td>0</td>\n",
       "      <td>0</td>\n",
       "      <td>1</td>\n",
       "      <td>1</td>\n",
       "      <td>0</td>\n",
       "      <td>0</td>\n",
       "      <td>...</td>\n",
       "      <td>0.0</td>\n",
       "      <td>0.0</td>\n",
       "      <td>0.0</td>\n",
       "      <td>0.0</td>\n",
       "      <td>0.0</td>\n",
       "      <td>0.0</td>\n",
       "      <td>0.0</td>\n",
       "      <td>0.0</td>\n",
       "      <td>0.000000</td>\n",
       "      <td>0.000000</td>\n",
       "    </tr>\n",
       "  </tbody>\n",
       "</table>\n",
       "<p>227 rows × 323 columns</p>\n",
       "</div>"
      ]
     },
     "metadata": {},
     "execution_count": 36
    }
   ],
   "metadata": {}
  },
  {
   "cell_type": "code",
   "execution_count": 13,
   "source": [
    "one_hot_encode_data['cook_time'] = one_hot_encode_data['cook_time'].map({'quick': 1, 'medium' : 2, 'slow':3})"
   ],
   "outputs": [],
   "metadata": {}
  },
  {
   "cell_type": "code",
   "execution_count": 14,
   "source": [
    "# use KNN to impute the values for flavor profile\n",
    "from sklearn.impute import KNNImputer\n",
    "\n",
    "imputer = KNNImputer(n_neighbors=3)\n",
    "one_hot_encode_data_full = imputer.fit_transform(one_hot_encode_data)"
   ],
   "outputs": [],
   "metadata": {}
  },
  {
   "cell_type": "markdown",
   "source": [
    "### 1.5 Train test split"
   ],
   "metadata": {}
  },
  {
   "cell_type": "code",
   "execution_count": 15,
   "source": [
    "train_info = pd.DataFrame(one_hot_encode_data_full, columns=one_hot_encode_data.columns)\n",
    "train_info.head()"
   ],
   "outputs": [
    {
     "output_type": "execute_result",
     "data": {
      "text/plain": [
       "   prep_time  cook_time  flavor_profile_bitter  flavor_profile_sour  \\\n",
       "0       45.0        1.0                    0.0                  0.0   \n",
       "1       80.0        1.0                    0.0                  0.0   \n",
       "2       15.0        2.0                    0.0                  0.0   \n",
       "3       15.0        1.0                    0.0                  0.0   \n",
       "4       15.0        2.0                    0.0                  0.0   \n",
       "\n",
       "   flavor_profile_spicy  flavor_profile_sweet  course_dessert  \\\n",
       "0                   0.0                   1.0             1.0   \n",
       "1                   0.0                   1.0             1.0   \n",
       "2                   0.0                   1.0             1.0   \n",
       "3                   0.0                   1.0             1.0   \n",
       "4                   0.0                   1.0             1.0   \n",
       "\n",
       "   course_main course  course_snack  course_starter  ...  ingre_whipping  \\\n",
       "0                 0.0           0.0             0.0  ...             0.0   \n",
       "1                 0.0           0.0             0.0  ...             0.0   \n",
       "2                 0.0           0.0             0.0  ...             0.0   \n",
       "3                 0.0           0.0             0.0  ...             0.0   \n",
       "4                 0.0           0.0             0.0  ...             0.0   \n",
       "\n",
       "   ingre_white  ingre_whole  ingre_wild  ingre_wine  ingre_yam  ingre_yellow  \\\n",
       "0          0.0          0.0         0.0         0.0        0.0           0.0   \n",
       "1          0.0          0.0         0.0         0.0        0.0           0.0   \n",
       "2          0.0          0.0         0.0         0.0        0.0           0.0   \n",
       "3          0.0          0.0         0.0         0.0        0.0           0.0   \n",
       "4          0.0          0.0         0.0         0.0        0.0           0.0   \n",
       "\n",
       "   ingre_yoghurt  ingre_yogurt  ingre_yolks  \n",
       "0            0.0      0.531785          0.0  \n",
       "1            0.0      0.000000          0.0  \n",
       "2            0.0      0.000000          0.0  \n",
       "3            0.0      0.000000          0.0  \n",
       "4            0.0      0.000000          0.0  \n",
       "\n",
       "[5 rows x 322 columns]"
      ],
      "text/html": [
       "<div>\n",
       "<style scoped>\n",
       "    .dataframe tbody tr th:only-of-type {\n",
       "        vertical-align: middle;\n",
       "    }\n",
       "\n",
       "    .dataframe tbody tr th {\n",
       "        vertical-align: top;\n",
       "    }\n",
       "\n",
       "    .dataframe thead th {\n",
       "        text-align: right;\n",
       "    }\n",
       "</style>\n",
       "<table border=\"1\" class=\"dataframe\">\n",
       "  <thead>\n",
       "    <tr style=\"text-align: right;\">\n",
       "      <th></th>\n",
       "      <th>prep_time</th>\n",
       "      <th>cook_time</th>\n",
       "      <th>flavor_profile_bitter</th>\n",
       "      <th>flavor_profile_sour</th>\n",
       "      <th>flavor_profile_spicy</th>\n",
       "      <th>flavor_profile_sweet</th>\n",
       "      <th>course_dessert</th>\n",
       "      <th>course_main course</th>\n",
       "      <th>course_snack</th>\n",
       "      <th>course_starter</th>\n",
       "      <th>...</th>\n",
       "      <th>ingre_whipping</th>\n",
       "      <th>ingre_white</th>\n",
       "      <th>ingre_whole</th>\n",
       "      <th>ingre_wild</th>\n",
       "      <th>ingre_wine</th>\n",
       "      <th>ingre_yam</th>\n",
       "      <th>ingre_yellow</th>\n",
       "      <th>ingre_yoghurt</th>\n",
       "      <th>ingre_yogurt</th>\n",
       "      <th>ingre_yolks</th>\n",
       "    </tr>\n",
       "  </thead>\n",
       "  <tbody>\n",
       "    <tr>\n",
       "      <th>0</th>\n",
       "      <td>45.0</td>\n",
       "      <td>1.0</td>\n",
       "      <td>0.0</td>\n",
       "      <td>0.0</td>\n",
       "      <td>0.0</td>\n",
       "      <td>1.0</td>\n",
       "      <td>1.0</td>\n",
       "      <td>0.0</td>\n",
       "      <td>0.0</td>\n",
       "      <td>0.0</td>\n",
       "      <td>...</td>\n",
       "      <td>0.0</td>\n",
       "      <td>0.0</td>\n",
       "      <td>0.0</td>\n",
       "      <td>0.0</td>\n",
       "      <td>0.0</td>\n",
       "      <td>0.0</td>\n",
       "      <td>0.0</td>\n",
       "      <td>0.0</td>\n",
       "      <td>0.531785</td>\n",
       "      <td>0.0</td>\n",
       "    </tr>\n",
       "    <tr>\n",
       "      <th>1</th>\n",
       "      <td>80.0</td>\n",
       "      <td>1.0</td>\n",
       "      <td>0.0</td>\n",
       "      <td>0.0</td>\n",
       "      <td>0.0</td>\n",
       "      <td>1.0</td>\n",
       "      <td>1.0</td>\n",
       "      <td>0.0</td>\n",
       "      <td>0.0</td>\n",
       "      <td>0.0</td>\n",
       "      <td>...</td>\n",
       "      <td>0.0</td>\n",
       "      <td>0.0</td>\n",
       "      <td>0.0</td>\n",
       "      <td>0.0</td>\n",
       "      <td>0.0</td>\n",
       "      <td>0.0</td>\n",
       "      <td>0.0</td>\n",
       "      <td>0.0</td>\n",
       "      <td>0.000000</td>\n",
       "      <td>0.0</td>\n",
       "    </tr>\n",
       "    <tr>\n",
       "      <th>2</th>\n",
       "      <td>15.0</td>\n",
       "      <td>2.0</td>\n",
       "      <td>0.0</td>\n",
       "      <td>0.0</td>\n",
       "      <td>0.0</td>\n",
       "      <td>1.0</td>\n",
       "      <td>1.0</td>\n",
       "      <td>0.0</td>\n",
       "      <td>0.0</td>\n",
       "      <td>0.0</td>\n",
       "      <td>...</td>\n",
       "      <td>0.0</td>\n",
       "      <td>0.0</td>\n",
       "      <td>0.0</td>\n",
       "      <td>0.0</td>\n",
       "      <td>0.0</td>\n",
       "      <td>0.0</td>\n",
       "      <td>0.0</td>\n",
       "      <td>0.0</td>\n",
       "      <td>0.000000</td>\n",
       "      <td>0.0</td>\n",
       "    </tr>\n",
       "    <tr>\n",
       "      <th>3</th>\n",
       "      <td>15.0</td>\n",
       "      <td>1.0</td>\n",
       "      <td>0.0</td>\n",
       "      <td>0.0</td>\n",
       "      <td>0.0</td>\n",
       "      <td>1.0</td>\n",
       "      <td>1.0</td>\n",
       "      <td>0.0</td>\n",
       "      <td>0.0</td>\n",
       "      <td>0.0</td>\n",
       "      <td>...</td>\n",
       "      <td>0.0</td>\n",
       "      <td>0.0</td>\n",
       "      <td>0.0</td>\n",
       "      <td>0.0</td>\n",
       "      <td>0.0</td>\n",
       "      <td>0.0</td>\n",
       "      <td>0.0</td>\n",
       "      <td>0.0</td>\n",
       "      <td>0.000000</td>\n",
       "      <td>0.0</td>\n",
       "    </tr>\n",
       "    <tr>\n",
       "      <th>4</th>\n",
       "      <td>15.0</td>\n",
       "      <td>2.0</td>\n",
       "      <td>0.0</td>\n",
       "      <td>0.0</td>\n",
       "      <td>0.0</td>\n",
       "      <td>1.0</td>\n",
       "      <td>1.0</td>\n",
       "      <td>0.0</td>\n",
       "      <td>0.0</td>\n",
       "      <td>0.0</td>\n",
       "      <td>...</td>\n",
       "      <td>0.0</td>\n",
       "      <td>0.0</td>\n",
       "      <td>0.0</td>\n",
       "      <td>0.0</td>\n",
       "      <td>0.0</td>\n",
       "      <td>0.0</td>\n",
       "      <td>0.0</td>\n",
       "      <td>0.0</td>\n",
       "      <td>0.000000</td>\n",
       "      <td>0.0</td>\n",
       "    </tr>\n",
       "  </tbody>\n",
       "</table>\n",
       "<p>5 rows × 322 columns</p>\n",
       "</div>"
      ]
     },
     "metadata": {},
     "execution_count": 15
    }
   ],
   "metadata": {}
  },
  {
   "cell_type": "code",
   "execution_count": 16,
   "source": [
    "# ytrain\n",
    "cook_time = one_hot_encode_data['cook_time']"
   ],
   "outputs": [],
   "metadata": {}
  },
  {
   "cell_type": "code",
   "execution_count": 17,
   "source": [
    "x_full = train_info.drop('cook_time', axis=1)"
   ],
   "outputs": [],
   "metadata": {}
  },
  {
   "cell_type": "markdown",
   "source": [
    "# 2. Baseline model"
   ],
   "metadata": {}
  },
  {
   "cell_type": "code",
   "execution_count": 18,
   "source": [
    "# healper function to evaluate a model\n",
    "def evaluate_model(X, y, model):\n",
    "\tcv = RepeatedStratifiedKFold(n_splits=5, n_repeats=3, random_state=1)\n",
    "\tscores = cross_val_score(model, X, y, scoring='accuracy', cv=cv, n_jobs=-1)\n",
    "\treturn scores"
   ],
   "outputs": [],
   "metadata": {}
  },
  {
   "cell_type": "code",
   "execution_count": 24,
   "source": [
    "model = DummyClassifier(strategy='most_frequent')\n",
    "scores = evaluate_model(x_full, cook_time, model)\n",
    "print('Mean Accuracy: %.3f (%.3f)' % (mean(scores), std(scores)))"
   ],
   "outputs": [
    {
     "output_type": "stream",
     "name": "stdout",
     "text": [
      "Mean Accuracy: 0.577 (0.007)\n"
     ]
    }
   ],
   "metadata": {}
  },
  {
   "cell_type": "code",
   "execution_count": 52,
   "source": [
    "# base logistic regression model\n",
    "base_lm = LogisticRegression()\n",
    "scores = evaluate_model(x_full, cook_time, base_lm)\n",
    "print('Mean Accuracy: %.3f (%.3f)' % (mean(scores), std(scores)))"
   ],
   "outputs": [
    {
     "output_type": "stream",
     "name": "stdout",
     "text": [
      "Mean Accuracy: 0.614 (0.048)\n"
     ]
    }
   ],
   "metadata": {}
  },
  {
   "cell_type": "code",
   "execution_count": 53,
   "source": [
    "# base random forest model\n",
    "base_rfc = RandomForestClassifier(random_state=0)\n",
    "scores = evaluate_model(x_full, cook_time, base_rfc)\n",
    "print('Mean Accuracy: %.3f (%.3f)' % (mean(scores), std(scores)))"
   ],
   "outputs": [
    {
     "output_type": "stream",
     "name": "stdout",
     "text": [
      "Mean Accuracy: 0.601 (0.047)\n"
     ]
    }
   ],
   "metadata": {}
  },
  {
   "cell_type": "code",
   "execution_count": 55,
   "source": [
    "base_clf = MultinomialNB()\n",
    "scores = evaluate_model(x_full, cook_time, base_clf)\n",
    "print('Mean Accuracy: %.3f (%.3f)' % (mean(scores), std(scores)))"
   ],
   "outputs": [
    {
     "output_type": "stream",
     "name": "stdout",
     "text": [
      "Mean Accuracy: 0.576 (0.048)\n"
     ]
    }
   ],
   "metadata": {}
  },
  {
   "cell_type": "code",
   "execution_count": 58,
   "source": [
    "base_svm = SVC(random_state=0)\n",
    "scores = evaluate_model(x_full, cook_time, base_svm)\n",
    "print('Mean Accuracy: %.3f (%.3f)' % (mean(scores), std(scores)))"
   ],
   "outputs": [
    {
     "output_type": "stream",
     "name": "stdout",
     "text": [
      "Mean Accuracy: 0.583 (0.019)\n"
     ]
    }
   ],
   "metadata": {}
  },
  {
   "cell_type": "markdown",
   "source": [
    "# 3. Feature engineering"
   ],
   "metadata": {}
  },
  {
   "cell_type": "code",
   "execution_count": 19,
   "source": [
    "# make a copy to modify\n",
    "data_improve = train_info.copy()\n",
    "data_improve = data_improve.reset_index(drop = True)"
   ],
   "outputs": [],
   "metadata": {}
  },
  {
   "cell_type": "markdown",
   "source": [
    "As we have seen before, the preparation time highly skewed to the right, with some outliers. Thus, we will bring the distribution closer to a bell-shaped normal distribution, by using box-cox transformation"
   ],
   "metadata": {}
  },
  {
   "cell_type": "code",
   "execution_count": 20,
   "source": [
    "# standardize preparation time\n",
    "from sklearn.preprocessing import PowerTransformer\n",
    "scaler = PowerTransformer(method='box-cox', standardize=False)\n",
    "data_improve['prep_time'] = scaler.fit_transform(data_improve['prep_time'].values.reshape(-1, 1))\n",
    "data_improve"
   ],
   "outputs": [
    {
     "output_type": "execute_result",
     "data": {
      "text/plain": [
       "     prep_time  cook_time  flavor_profile_bitter  flavor_profile_sour  \\\n",
       "0     1.463390        1.0                    0.0                  0.0   \n",
       "1     1.509367        1.0                    0.0                  0.0   \n",
       "2     1.314016        2.0                    0.0                  0.0   \n",
       "3     1.314016        1.0                    0.0                  0.0   \n",
       "4     1.314016        2.0                    0.0                  0.0   \n",
       "..         ...        ...                    ...                  ...   \n",
       "222   1.314016        2.0                    0.0                  0.0   \n",
       "223   1.227681        1.0                    0.0                  0.0   \n",
       "224   1.019336        1.0                    0.0                  0.0   \n",
       "225   1.363390        2.0                    0.0                  0.0   \n",
       "226   1.363390        2.0                    0.0                  0.0   \n",
       "\n",
       "     flavor_profile_spicy  flavor_profile_sweet  course_dessert  \\\n",
       "0                     0.0                   1.0             1.0   \n",
       "1                     0.0                   1.0             1.0   \n",
       "2                     0.0                   1.0             1.0   \n",
       "3                     0.0                   1.0             1.0   \n",
       "4                     0.0                   1.0             1.0   \n",
       "..                    ...                   ...             ...   \n",
       "222                   1.0                   0.0             0.0   \n",
       "223                   1.0                   0.0             0.0   \n",
       "224                   0.0                   1.0             1.0   \n",
       "225                   0.0                   1.0             1.0   \n",
       "226                   0.0                   1.0             1.0   \n",
       "\n",
       "     course_main course  course_snack  course_starter  ...  ingre_whipping  \\\n",
       "0                   0.0           0.0             0.0  ...             0.0   \n",
       "1                   0.0           0.0             0.0  ...             0.0   \n",
       "2                   0.0           0.0             0.0  ...             0.0   \n",
       "3                   0.0           0.0             0.0  ...             0.0   \n",
       "4                   0.0           0.0             0.0  ...             0.0   \n",
       "..                  ...           ...             ...  ...             ...   \n",
       "222                 1.0           0.0             0.0  ...             0.0   \n",
       "223                 1.0           0.0             0.0  ...             0.0   \n",
       "224                 0.0           0.0             0.0  ...             0.0   \n",
       "225                 0.0           0.0             0.0  ...             0.0   \n",
       "226                 0.0           0.0             0.0  ...             0.0   \n",
       "\n",
       "     ingre_white  ingre_whole  ingre_wild  ingre_wine  ingre_yam  \\\n",
       "0            0.0          0.0         0.0         0.0        0.0   \n",
       "1            0.0          0.0         0.0         0.0        0.0   \n",
       "2            0.0          0.0         0.0         0.0        0.0   \n",
       "3            0.0          0.0         0.0         0.0        0.0   \n",
       "4            0.0          0.0         0.0         0.0        0.0   \n",
       "..           ...          ...         ...         ...        ...   \n",
       "222          0.0          0.0         0.0         0.0        0.0   \n",
       "223          0.0          0.0         0.0         0.0        0.0   \n",
       "224          0.0          0.0         0.0         0.0        0.0   \n",
       "225          0.0          0.0         0.0         0.0        0.0   \n",
       "226          0.0          0.0         0.0         0.0        0.0   \n",
       "\n",
       "     ingre_yellow  ingre_yoghurt  ingre_yogurt  ingre_yolks  \n",
       "0             0.0            0.0      0.531785     0.000000  \n",
       "1             0.0            0.0      0.000000     0.000000  \n",
       "2             0.0            0.0      0.000000     0.000000  \n",
       "3             0.0            0.0      0.000000     0.000000  \n",
       "4             0.0            0.0      0.000000     0.000000  \n",
       "..            ...            ...           ...          ...  \n",
       "222           0.0            0.0      0.000000     0.000000  \n",
       "223           0.0            0.0      0.000000     0.000000  \n",
       "224           0.0            0.0      0.000000     0.000000  \n",
       "225           0.0            0.0      0.000000     0.459796  \n",
       "226           0.0            0.0      0.000000     0.000000  \n",
       "\n",
       "[227 rows x 322 columns]"
      ],
      "text/html": [
       "<div>\n",
       "<style scoped>\n",
       "    .dataframe tbody tr th:only-of-type {\n",
       "        vertical-align: middle;\n",
       "    }\n",
       "\n",
       "    .dataframe tbody tr th {\n",
       "        vertical-align: top;\n",
       "    }\n",
       "\n",
       "    .dataframe thead th {\n",
       "        text-align: right;\n",
       "    }\n",
       "</style>\n",
       "<table border=\"1\" class=\"dataframe\">\n",
       "  <thead>\n",
       "    <tr style=\"text-align: right;\">\n",
       "      <th></th>\n",
       "      <th>prep_time</th>\n",
       "      <th>cook_time</th>\n",
       "      <th>flavor_profile_bitter</th>\n",
       "      <th>flavor_profile_sour</th>\n",
       "      <th>flavor_profile_spicy</th>\n",
       "      <th>flavor_profile_sweet</th>\n",
       "      <th>course_dessert</th>\n",
       "      <th>course_main course</th>\n",
       "      <th>course_snack</th>\n",
       "      <th>course_starter</th>\n",
       "      <th>...</th>\n",
       "      <th>ingre_whipping</th>\n",
       "      <th>ingre_white</th>\n",
       "      <th>ingre_whole</th>\n",
       "      <th>ingre_wild</th>\n",
       "      <th>ingre_wine</th>\n",
       "      <th>ingre_yam</th>\n",
       "      <th>ingre_yellow</th>\n",
       "      <th>ingre_yoghurt</th>\n",
       "      <th>ingre_yogurt</th>\n",
       "      <th>ingre_yolks</th>\n",
       "    </tr>\n",
       "  </thead>\n",
       "  <tbody>\n",
       "    <tr>\n",
       "      <th>0</th>\n",
       "      <td>1.463390</td>\n",
       "      <td>1.0</td>\n",
       "      <td>0.0</td>\n",
       "      <td>0.0</td>\n",
       "      <td>0.0</td>\n",
       "      <td>1.0</td>\n",
       "      <td>1.0</td>\n",
       "      <td>0.0</td>\n",
       "      <td>0.0</td>\n",
       "      <td>0.0</td>\n",
       "      <td>...</td>\n",
       "      <td>0.0</td>\n",
       "      <td>0.0</td>\n",
       "      <td>0.0</td>\n",
       "      <td>0.0</td>\n",
       "      <td>0.0</td>\n",
       "      <td>0.0</td>\n",
       "      <td>0.0</td>\n",
       "      <td>0.0</td>\n",
       "      <td>0.531785</td>\n",
       "      <td>0.000000</td>\n",
       "    </tr>\n",
       "    <tr>\n",
       "      <th>1</th>\n",
       "      <td>1.509367</td>\n",
       "      <td>1.0</td>\n",
       "      <td>0.0</td>\n",
       "      <td>0.0</td>\n",
       "      <td>0.0</td>\n",
       "      <td>1.0</td>\n",
       "      <td>1.0</td>\n",
       "      <td>0.0</td>\n",
       "      <td>0.0</td>\n",
       "      <td>0.0</td>\n",
       "      <td>...</td>\n",
       "      <td>0.0</td>\n",
       "      <td>0.0</td>\n",
       "      <td>0.0</td>\n",
       "      <td>0.0</td>\n",
       "      <td>0.0</td>\n",
       "      <td>0.0</td>\n",
       "      <td>0.0</td>\n",
       "      <td>0.0</td>\n",
       "      <td>0.000000</td>\n",
       "      <td>0.000000</td>\n",
       "    </tr>\n",
       "    <tr>\n",
       "      <th>2</th>\n",
       "      <td>1.314016</td>\n",
       "      <td>2.0</td>\n",
       "      <td>0.0</td>\n",
       "      <td>0.0</td>\n",
       "      <td>0.0</td>\n",
       "      <td>1.0</td>\n",
       "      <td>1.0</td>\n",
       "      <td>0.0</td>\n",
       "      <td>0.0</td>\n",
       "      <td>0.0</td>\n",
       "      <td>...</td>\n",
       "      <td>0.0</td>\n",
       "      <td>0.0</td>\n",
       "      <td>0.0</td>\n",
       "      <td>0.0</td>\n",
       "      <td>0.0</td>\n",
       "      <td>0.0</td>\n",
       "      <td>0.0</td>\n",
       "      <td>0.0</td>\n",
       "      <td>0.000000</td>\n",
       "      <td>0.000000</td>\n",
       "    </tr>\n",
       "    <tr>\n",
       "      <th>3</th>\n",
       "      <td>1.314016</td>\n",
       "      <td>1.0</td>\n",
       "      <td>0.0</td>\n",
       "      <td>0.0</td>\n",
       "      <td>0.0</td>\n",
       "      <td>1.0</td>\n",
       "      <td>1.0</td>\n",
       "      <td>0.0</td>\n",
       "      <td>0.0</td>\n",
       "      <td>0.0</td>\n",
       "      <td>...</td>\n",
       "      <td>0.0</td>\n",
       "      <td>0.0</td>\n",
       "      <td>0.0</td>\n",
       "      <td>0.0</td>\n",
       "      <td>0.0</td>\n",
       "      <td>0.0</td>\n",
       "      <td>0.0</td>\n",
       "      <td>0.0</td>\n",
       "      <td>0.000000</td>\n",
       "      <td>0.000000</td>\n",
       "    </tr>\n",
       "    <tr>\n",
       "      <th>4</th>\n",
       "      <td>1.314016</td>\n",
       "      <td>2.0</td>\n",
       "      <td>0.0</td>\n",
       "      <td>0.0</td>\n",
       "      <td>0.0</td>\n",
       "      <td>1.0</td>\n",
       "      <td>1.0</td>\n",
       "      <td>0.0</td>\n",
       "      <td>0.0</td>\n",
       "      <td>0.0</td>\n",
       "      <td>...</td>\n",
       "      <td>0.0</td>\n",
       "      <td>0.0</td>\n",
       "      <td>0.0</td>\n",
       "      <td>0.0</td>\n",
       "      <td>0.0</td>\n",
       "      <td>0.0</td>\n",
       "      <td>0.0</td>\n",
       "      <td>0.0</td>\n",
       "      <td>0.000000</td>\n",
       "      <td>0.000000</td>\n",
       "    </tr>\n",
       "    <tr>\n",
       "      <th>...</th>\n",
       "      <td>...</td>\n",
       "      <td>...</td>\n",
       "      <td>...</td>\n",
       "      <td>...</td>\n",
       "      <td>...</td>\n",
       "      <td>...</td>\n",
       "      <td>...</td>\n",
       "      <td>...</td>\n",
       "      <td>...</td>\n",
       "      <td>...</td>\n",
       "      <td>...</td>\n",
       "      <td>...</td>\n",
       "      <td>...</td>\n",
       "      <td>...</td>\n",
       "      <td>...</td>\n",
       "      <td>...</td>\n",
       "      <td>...</td>\n",
       "      <td>...</td>\n",
       "      <td>...</td>\n",
       "      <td>...</td>\n",
       "      <td>...</td>\n",
       "    </tr>\n",
       "    <tr>\n",
       "      <th>222</th>\n",
       "      <td>1.314016</td>\n",
       "      <td>2.0</td>\n",
       "      <td>0.0</td>\n",
       "      <td>0.0</td>\n",
       "      <td>1.0</td>\n",
       "      <td>0.0</td>\n",
       "      <td>0.0</td>\n",
       "      <td>1.0</td>\n",
       "      <td>0.0</td>\n",
       "      <td>0.0</td>\n",
       "      <td>...</td>\n",
       "      <td>0.0</td>\n",
       "      <td>0.0</td>\n",
       "      <td>0.0</td>\n",
       "      <td>0.0</td>\n",
       "      <td>0.0</td>\n",
       "      <td>0.0</td>\n",
       "      <td>0.0</td>\n",
       "      <td>0.0</td>\n",
       "      <td>0.000000</td>\n",
       "      <td>0.000000</td>\n",
       "    </tr>\n",
       "    <tr>\n",
       "      <th>223</th>\n",
       "      <td>1.227681</td>\n",
       "      <td>1.0</td>\n",
       "      <td>0.0</td>\n",
       "      <td>0.0</td>\n",
       "      <td>1.0</td>\n",
       "      <td>0.0</td>\n",
       "      <td>0.0</td>\n",
       "      <td>1.0</td>\n",
       "      <td>0.0</td>\n",
       "      <td>0.0</td>\n",
       "      <td>...</td>\n",
       "      <td>0.0</td>\n",
       "      <td>0.0</td>\n",
       "      <td>0.0</td>\n",
       "      <td>0.0</td>\n",
       "      <td>0.0</td>\n",
       "      <td>0.0</td>\n",
       "      <td>0.0</td>\n",
       "      <td>0.0</td>\n",
       "      <td>0.000000</td>\n",
       "      <td>0.000000</td>\n",
       "    </tr>\n",
       "    <tr>\n",
       "      <th>224</th>\n",
       "      <td>1.019336</td>\n",
       "      <td>1.0</td>\n",
       "      <td>0.0</td>\n",
       "      <td>0.0</td>\n",
       "      <td>0.0</td>\n",
       "      <td>1.0</td>\n",
       "      <td>1.0</td>\n",
       "      <td>0.0</td>\n",
       "      <td>0.0</td>\n",
       "      <td>0.0</td>\n",
       "      <td>...</td>\n",
       "      <td>0.0</td>\n",
       "      <td>0.0</td>\n",
       "      <td>0.0</td>\n",
       "      <td>0.0</td>\n",
       "      <td>0.0</td>\n",
       "      <td>0.0</td>\n",
       "      <td>0.0</td>\n",
       "      <td>0.0</td>\n",
       "      <td>0.000000</td>\n",
       "      <td>0.000000</td>\n",
       "    </tr>\n",
       "    <tr>\n",
       "      <th>225</th>\n",
       "      <td>1.363390</td>\n",
       "      <td>2.0</td>\n",
       "      <td>0.0</td>\n",
       "      <td>0.0</td>\n",
       "      <td>0.0</td>\n",
       "      <td>1.0</td>\n",
       "      <td>1.0</td>\n",
       "      <td>0.0</td>\n",
       "      <td>0.0</td>\n",
       "      <td>0.0</td>\n",
       "      <td>...</td>\n",
       "      <td>0.0</td>\n",
       "      <td>0.0</td>\n",
       "      <td>0.0</td>\n",
       "      <td>0.0</td>\n",
       "      <td>0.0</td>\n",
       "      <td>0.0</td>\n",
       "      <td>0.0</td>\n",
       "      <td>0.0</td>\n",
       "      <td>0.000000</td>\n",
       "      <td>0.459796</td>\n",
       "    </tr>\n",
       "    <tr>\n",
       "      <th>226</th>\n",
       "      <td>1.363390</td>\n",
       "      <td>2.0</td>\n",
       "      <td>0.0</td>\n",
       "      <td>0.0</td>\n",
       "      <td>0.0</td>\n",
       "      <td>1.0</td>\n",
       "      <td>1.0</td>\n",
       "      <td>0.0</td>\n",
       "      <td>0.0</td>\n",
       "      <td>0.0</td>\n",
       "      <td>...</td>\n",
       "      <td>0.0</td>\n",
       "      <td>0.0</td>\n",
       "      <td>0.0</td>\n",
       "      <td>0.0</td>\n",
       "      <td>0.0</td>\n",
       "      <td>0.0</td>\n",
       "      <td>0.0</td>\n",
       "      <td>0.0</td>\n",
       "      <td>0.000000</td>\n",
       "      <td>0.000000</td>\n",
       "    </tr>\n",
       "  </tbody>\n",
       "</table>\n",
       "<p>227 rows × 322 columns</p>\n",
       "</div>"
      ]
     },
     "metadata": {},
     "execution_count": 20
    }
   ],
   "metadata": {}
  },
  {
   "cell_type": "code",
   "execution_count": 61,
   "source": [
    "# the distribution post transformation\n",
    "sns.histplot(data=data_improve, x='prep_time')"
   ],
   "outputs": [
    {
     "output_type": "execute_result",
     "data": {
      "text/plain": [
       "<matplotlib.axes._subplots.AxesSubplot at 0x1b336bb150>"
      ]
     },
     "metadata": {},
     "execution_count": 61
    },
    {
     "output_type": "display_data",
     "data": {
      "text/plain": [
       "<Figure size 432x288 with 1 Axes>"
      ],
      "image/png": "[encoded data removed]"
     },
     "metadata": {
      "needs_background": "light"
     }
    }
   ],
   "metadata": {}
  },
  {
   "cell_type": "code",
   "execution_count": 21,
   "source": [
    "x_full2 = data_improve.drop('cook_time', axis=1)\n",
    "y_full2 = data_improve['cook_time']"
   ],
   "outputs": [],
   "metadata": {}
  },
  {
   "cell_type": "code",
   "execution_count": 27,
   "source": [
    "# fit the models again -- the improvement is not so significant (yet!)\n",
    "lm = LogisticRegression()\n",
    "scores = evaluate_model(x_full2, y_full2, lm)\n",
    "print('Mean Accuracy: %.3f (%.3f)' % (mean(scores), std(scores)))\n",
    "\n",
    "rfc = RandomForestClassifier(random_state=0)\n",
    "scores = evaluate_model(x_full2, y_full2, rfc)\n",
    "print('Mean Accuracy: %.3f (%.3f)' % (mean(scores), std(scores)))\n",
    "\n",
    "clf = MultinomialNB()\n",
    "scores = evaluate_model(x_full2, y_full2, clf)\n",
    "print('Mean Accuracy: %.3f (%.3f)' % (mean(scores), std(scores)))\n",
    "\n",
    "svm = SVC(random_state=0)\n",
    "scores = evaluate_model(x_full2, y_full2, svm)\n",
    "print('Mean Accuracy: %.3f (%.3f)' % (mean(scores), std(scores)))"
   ],
   "outputs": [
    {
     "output_type": "stream",
     "name": "stdout",
     "text": [
      "Mean Accuracy: 0.598 (0.047)\n",
      "Mean Accuracy: 0.602 (0.047)\n",
      "Mean Accuracy: 0.596 (0.042)\n",
      "Mean Accuracy: 0.596 (0.030)\n"
     ]
    }
   ],
   "metadata": {}
  },
  {
   "cell_type": "markdown",
   "source": [
    "Another problem about this dataset is that it's imbalanced. The number of slow-cooked dishes are way smaller than the other 2 categories. Thus, we are going to use a resampling method to see if fixing this problem will help improve the model as well."
   ],
   "metadata": {}
  },
  {
   "cell_type": "code",
   "execution_count": 23,
   "source": [
    "X_resampled, y_resampled = SMOTENC(categorical_features=range(1, 11), random_state=0, \n",
    "sampling_strategy='minority').fit_resample(x_full2, y_full2)"
   ],
   "outputs": [],
   "metadata": {}
  },
  {
   "cell_type": "code",
   "execution_count": 24,
   "source": [
    "X_resampled, y_resampled = SMOTENC(categorical_features=range(1, 11), random_state=0, \n",
    "sampling_strategy='minority').fit_resample(X_resampled, y_resampled)"
   ],
   "outputs": [],
   "metadata": {}
  },
  {
   "cell_type": "code",
   "execution_count": 25,
   "source": [
    "lm = LogisticRegression()\n",
    "scores = evaluate_model(X_resampled, y_resampled, lm)\n",
    "print('Mean Accuracy: %.3f (%.3f)' % (mean(scores), std(scores)))\n",
    "\n",
    "rfc = RandomForestClassifier(random_state=0)\n",
    "scores = evaluate_model(X_resampled, y_resampled, rfc)\n",
    "print('Mean Accuracy: %.3f (%.3f)' % (mean(scores), std(scores)))\n",
    "\n",
    "clf = MultinomialNB()\n",
    "scores = evaluate_model(X_resampled, y_resampled, clf)\n",
    "print('Mean Accuracy: %.3f (%.3f)' % (mean(scores), std(scores)))\n",
    "\n",
    "svm = SVC(random_state=0)\n",
    "scores = evaluate_model(X_resampled, y_resampled, svm)\n",
    "print('Mean Accuracy: %.3f (%.3f)' % (mean(scores), std(scores)))"
   ],
   "outputs": [
    {
     "output_type": "stream",
     "name": "stdout",
     "text": [
      "Mean Accuracy: 0.762 (0.036)\n",
      "Mean Accuracy: 0.789 (0.035)\n",
      "Mean Accuracy: 0.645 (0.044)\n",
      "Mean Accuracy: 0.757 (0.052)\n"
     ]
    }
   ],
   "metadata": {}
  },
  {
   "cell_type": "markdown",
   "source": [
    "The accuracy scores improve across all the model, suggesting that our feature engineering techniques worked!"
   ],
   "metadata": {}
  },
  {
   "cell_type": "markdown",
   "source": [
    "# 4. Feature selection"
   ],
   "metadata": {}
  },
  {
   "cell_type": "markdown",
   "source": [
    "Our dataset is small (only over 200 observations), yet there are a lot of features resulting from engineering the ingredient column. Even though the model performs relatively well, having such many features implies overfitting. By using feature selection techniques to only keep a subset of significant features, we reduce the complexity of the model, hence lessen the effect of overfitting, and the model will also be less costly to be put into production. For this task, we will use 2 different feature selection methods to select the best subset of features: mutual information and chi-square, and select the technique that yields better results. Unlike chi-square, mutual information deals with datasets that have both categorical and numerical features, which is the characteristics of our dataset. However, since we only have 1 numerical feature, chi-square may still perform just as well, and we are going to examine that.\n",
    "\n",
    "\n",
    "A quote I found:\n",
    "*\"Logistic Regression is a good model for testing feature selection methods as it can perform better if irrelevant features are removed from the model\"*\n",
    "\n",
    "\n",
    "!! The overall result shows that the models with feature selection do better than the previous models. Chi-square performs a little better than mutual_info but both perform comparably well overall"
   ],
   "metadata": {}
  },
  {
   "cell_type": "markdown",
   "source": [
    "### 4.1 Mutual Information model"
   ],
   "metadata": {}
  },
  {
   "cell_type": "code",
   "execution_count": 26,
   "source": [
    "from functools import partial\n",
    "discrete_feat_idx = range(1, 11)\n",
    "score_func = partial(mutual_info_classif, discrete_features=discrete_feat_idx, random_state=0)\n",
    "k_vals = list(np.arange(300, step=10))"
   ],
   "outputs": [],
   "metadata": {}
  },
  {
   "cell_type": "code",
   "execution_count": 27,
   "source": [
    "import warnings\n",
    "warnings.filterwarnings(\"ignore\")\n",
    "def select_features_mutual_info(X_train, Y_train, k_val):\n",
    "    fs = SelectKBest(score_func=score_func, k=k_val)\n",
    "    fs.fit(X_train, Y_train)\n",
    "    X_train_fs = fs.transform(X_train)\n",
    "    return X_train_fs, fs\n",
    "\n",
    "x_train_fs, fs = select_features_mutual_info(x_full, cook_time, 'all')"
   ],
   "outputs": [],
   "metadata": {}
  },
  {
   "cell_type": "code",
   "execution_count": 75,
   "source": [
    "plt.bar([i for i in range(len(fs.scores_))], fs.scores_)"
   ],
   "outputs": [
    {
     "output_type": "execute_result",
     "data": {
      "text/plain": [
       "<BarContainer object of 322 artists>"
      ]
     },
     "metadata": {},
     "execution_count": 75
    },
    {
     "output_type": "display_data",
     "data": {
      "text/plain": [
       "<Figure size 432x288 with 1 Axes>"
      ],
      "image/png": "[encoded data removed]"
     },
     "metadata": {
      "needs_background": "light"
     }
    }
   ],
   "metadata": {}
  },
  {
   "cell_type": "markdown",
   "source": [
    "Just a handful (around a fifth) of all the features have significant implications for the model, and we are to keep only these features."
   ],
   "metadata": {}
  },
  {
   "cell_type": "markdown",
   "source": [
    "#### Logistic Regression"
   ],
   "metadata": {}
  },
  {
   "cell_type": "code",
   "execution_count": 29,
   "source": [
    "# original\n",
    "acc = []\n",
    "for k in k_vals:\n",
    "    x_train_fs, fs = select_features_mutual_info(x_full, cook_time, k_val=k)\n",
    "    lr_mutual_info = LogisticRegression()\n",
    "    scores = evaluate_model(x_train_fs, cook_time, lr_mutual_info)\n",
    "    acc.append(mean(scores))\n",
    "plt.plot(k_vals, acc)\n",
    "plt.show()\n",
    "print(max(acc[1:]))\n",
    "print(k_vals[acc.index(max(acc[1:]))])\n",
    "# best is k=40"
   ],
   "outputs": [
    {
     "output_type": "display_data",
     "data": {
      "text/plain": [
       "<Figure size 432x288 with 1 Axes>"
      ],
      "image/png": "[encoded data removed]"
     },
     "metadata": {
      "needs_background": "light"
     }
    },
    {
     "output_type": "stream",
     "name": "stdout",
     "text": [
      "0.6049597423510468\n",
      "40\n"
     ]
    }
   ],
   "metadata": {}
  },
  {
   "cell_type": "code",
   "execution_count": 30,
   "source": [
    "# post-trans\n",
    "acc = []\n",
    "for k in k_vals:\n",
    "    x_train_fs, fs = select_features_mutual_info(x_full2, y_full2, k_val=k)\n",
    "    lr_mutual_info = LogisticRegression()\n",
    "    scores = evaluate_model(x_train_fs, y_full2, lr_mutual_info)\n",
    "    acc.append(mean(scores))\n",
    "plt.plot(k_vals, acc)\n",
    "plt.show()\n",
    "print(max(acc[1:]))\n",
    "print(k_vals[acc.index(max(acc[1:]))])\n",
    "# best k = 40"
   ],
   "outputs": [
    {
     "output_type": "display_data",
     "data": {
      "text/plain": [
       "<Figure size 432x288 with 1 Axes>"
      ],
      "image/png": "[encoded data removed]"
     },
     "metadata": {
      "needs_background": "light"
     }
    },
    {
     "output_type": "stream",
     "name": "stdout",
     "text": [
      "0.6049597423510468\n",
      "40\n"
     ]
    }
   ],
   "metadata": {}
  },
  {
   "cell_type": "code",
   "execution_count": 31,
   "source": [
    "# resampled \n",
    "acc = []\n",
    "for k in k_vals:\n",
    "    x_train_fs, fs = select_features_mutual_info(X_resampled, y_resampled, k_val=k)\n",
    "    lr_mutual_info = LogisticRegression()\n",
    "    scores = evaluate_model(x_train_fs, y_resampled, lr_mutual_info)\n",
    "    acc.append(mean(scores))\n",
    "plt.plot(k_vals, acc)\n",
    "plt.show()\n",
    "print(max(acc[1:]))\n",
    "print(k_vals[acc.index(max(acc[1:]))])\n",
    "# best k = 190"
   ],
   "outputs": [
    {
     "output_type": "display_data",
     "data": {
      "text/plain": [
       "<Figure size 432x288 with 1 Axes>"
      ],
      "image/png": "[encoded data removed]"
     },
     "metadata": {
      "needs_background": "light"
     }
    },
    {
     "output_type": "stream",
     "name": "stdout",
     "text": [
      "0.7769447149193986\n",
      "190\n"
     ]
    }
   ],
   "metadata": {}
  },
  {
   "cell_type": "markdown",
   "source": [
    "#### Random Forest"
   ],
   "metadata": {}
  },
  {
   "cell_type": "code",
   "execution_count": 32,
   "source": [
    "# original\n",
    "acc = []\n",
    "for k in k_vals:\n",
    "    x_train_fs, fs = select_features_mutual_info(x_full, cook_time, k_val=k)\n",
    "    rfc_mutual_info = RandomForestClassifier(random_state=0)\n",
    "    scores = evaluate_model(x_train_fs, cook_time, rfc_mutual_info)\n",
    "    acc.append(mean(scores))\n",
    "plt.plot(k_vals, acc)\n",
    "plt.show()\n",
    "print(max(acc[1:]))\n",
    "print(k_vals[acc.index(max(acc[1:]))])"
   ],
   "outputs": [
    {
     "output_type": "display_data",
     "data": {
      "text/plain": [
       "<Figure size 432x288 with 1 Axes>"
      ],
      "image/png": "[encoded data removed]"
     },
     "metadata": {
      "needs_background": "light"
     }
    },
    {
     "output_type": "stream",
     "name": "stdout",
     "text": [
      "0.609500805152979\n",
      "10\n"
     ]
    }
   ],
   "metadata": {}
  },
  {
   "cell_type": "code",
   "execution_count": 34,
   "source": [
    "# post-trans\n",
    "acc = []\n",
    "for k in k_vals:\n",
    "    x_train_fs, fs = select_features_mutual_info(x_full2, y_full2, k_val=k)\n",
    "    rfc_mutual_info = RandomForestClassifier(random_state=0)\n",
    "    scores = evaluate_model(x_train_fs, y_full2, rfc_mutual_info)\n",
    "    acc.append(mean(scores))\n",
    "plt.plot(k_vals, acc)\n",
    "plt.show()\n",
    "print(max(acc[1:]))\n",
    "print(k_vals[acc.index(max(acc[1:]))])"
   ],
   "outputs": [
    {
     "output_type": "display_data",
     "data": {
      "text/plain": [
       "<Figure size 432x288 with 1 Axes>"
      ],
      "image/png": "[encoded data removed]"
     },
     "metadata": {
      "needs_background": "light"
     }
    },
    {
     "output_type": "stream",
     "name": "stdout",
     "text": [
      "0.609500805152979\n",
      "10\n"
     ]
    }
   ],
   "metadata": {}
  },
  {
   "cell_type": "code",
   "execution_count": 35,
   "source": [
    "# resampled\n",
    "acc = []\n",
    "for k in k_vals:\n",
    "    x_train_fs, fs = select_features_mutual_info(X_resampled, y_resampled, k_val=k)\n",
    "    rfc_mutual_info = RandomForestClassifier(random_state=0)\n",
    "    scores = evaluate_model(x_train_fs, y_resampled, rfc_mutual_info)\n",
    "    acc.append(mean(scores))\n",
    "plt.plot(k_vals, acc)\n",
    "plt.show()\n",
    "print(max(acc[1:]))\n",
    "print(k_vals[acc.index(max(acc[1:]))])\n",
    "#best k = 290"
   ],
   "outputs": [
    {
     "output_type": "display_data",
     "data": {
      "text/plain": [
       "<Figure size 432x288 with 1 Axes>"
      ],
      "image/png": "[encoded data removed]"
     },
     "metadata": {
      "needs_background": "light"
     }
    },
    {
     "output_type": "stream",
     "name": "stdout",
     "text": [
      "0.7905441956074869\n",
      "290\n"
     ]
    }
   ],
   "metadata": {}
  },
  {
   "cell_type": "markdown",
   "source": [
    "#### MultiBayes"
   ],
   "metadata": {}
  },
  {
   "cell_type": "code",
   "execution_count": 36,
   "source": [
    "# original\n",
    "acc = []\n",
    "for k in k_vals:\n",
    "    x_train_fs, fs = select_features_mutual_info(x_full, cook_time, k_val=k)\n",
    "    clf_mutual_info = MultinomialNB()\n",
    "    scores = evaluate_model(x_train_fs, cook_time, clf_mutual_info)\n",
    "    acc.append(mean(scores))\n",
    "plt.plot(k_vals, acc)\n",
    "plt.show()\n",
    "print(max(acc[1:]))\n",
    "print(k_vals[acc.index(max(acc[1:]))])\n",
    "#best k = 100"
   ],
   "outputs": [
    {
     "output_type": "display_data",
     "data": {
      "text/plain": [
       "<Figure size 432x288 with 1 Axes>"
      ],
      "image/png": "[encoded data removed]"
     },
     "metadata": {
      "needs_background": "light"
     }
    },
    {
     "output_type": "stream",
     "name": "stdout",
     "text": [
      "0.6035426731078904\n",
      "100\n"
     ]
    }
   ],
   "metadata": {}
  },
  {
   "cell_type": "code",
   "execution_count": 37,
   "source": [
    "# post-trans\n",
    "acc = []\n",
    "for k in k_vals:\n",
    "    x_train_fs, fs = select_features_mutual_info(x_full2, y_full2, k_val=k)\n",
    "    clf_mutual_info = MultinomialNB()\n",
    "    scores = evaluate_model(x_train_fs, y_full2, clf_mutual_info)\n",
    "    acc.append(mean(scores))\n",
    "plt.plot(k_vals, acc)\n",
    "plt.show()\n",
    "print(max(acc[1:]))\n",
    "print(k_vals[acc.index(max(acc[1:]))])\n",
    "# best k = 100"
   ],
   "outputs": [
    {
     "output_type": "display_data",
     "data": {
      "text/plain": [
       "<Figure size 432x288 with 1 Axes>"
      ],
      "image/png": "[encoded data removed]"
     },
     "metadata": {
      "needs_background": "light"
     }
    },
    {
     "output_type": "stream",
     "name": "stdout",
     "text": [
      "0.6035426731078904\n",
      "100\n"
     ]
    }
   ],
   "metadata": {}
  },
  {
   "cell_type": "code",
   "execution_count": 44,
   "source": [
    "# resampled\n",
    "k_vals2 = list(np.arange(322, step=10))\n",
    "acc = []\n",
    "for k in k_vals2:\n",
    "    x_train_fs, fs = select_features_mutual_info(X_resampled, y_resampled, k_val=k)\n",
    "    clf_mutual_info = MultinomialNB()\n",
    "    scores = evaluate_model(x_train_fs, y_resampled, clf_mutual_info)\n",
    "    acc.append(mean(scores))\n",
    "plt.plot(k_vals2, acc)\n",
    "plt.show()\n",
    "print(max(acc[1:]))\n",
    "print(k_vals2[acc.index(max(acc[1:]))])\n",
    "#best k = 80"
   ],
   "outputs": [
    {
     "output_type": "display_data",
     "data": {
      "text/plain": [
       "<Figure size 432x288 with 1 Axes>"
      ],
      "image/png": "[encoded data removed]"
     },
     "metadata": {
      "needs_background": "light"
     }
    },
    {
     "output_type": "stream",
     "name": "stdout",
     "text": [
      "0.6946878719030618\n",
      "80\n"
     ]
    }
   ],
   "metadata": {}
  },
  {
   "cell_type": "markdown",
   "source": [
    "#### SVM"
   ],
   "metadata": {}
  },
  {
   "cell_type": "code",
   "execution_count": 45,
   "source": [
    "# original\n",
    "acc = []\n",
    "for k in k_vals:\n",
    "    x_train_fs, fs = select_features_mutual_info(x_full, cook_time, k_val=k)\n",
    "    svm_mutual_info = SVC(random_state=0)\n",
    "    scores = evaluate_model(x_train_fs, cook_time, svm_mutual_info)\n",
    "    acc.append(mean(scores))\n",
    "plt.plot(k_vals, acc)\n",
    "plt.show()\n",
    "print(max(acc[1:]))\n",
    "print(k_vals[acc.index(max(acc[1:]))])\n",
    "# best k = 10"
   ],
   "outputs": [
    {
     "output_type": "display_data",
     "data": {
      "text/plain": [
       "<Figure size 432x288 with 1 Axes>"
      ],
      "image/png": "[encoded data removed]"
     },
     "metadata": {
      "needs_background": "light"
     }
    },
    {
     "output_type": "stream",
     "name": "stdout",
     "text": [
      "0.5947826086956521\n",
      "10\n"
     ]
    }
   ],
   "metadata": {}
  },
  {
   "cell_type": "code",
   "execution_count": 46,
   "source": [
    "# post-trans\n",
    "acc = []\n",
    "for k in k_vals:\n",
    "    x_train_fs, fs = select_features_mutual_info(x_full2, y_full2, k_val=k)\n",
    "    svm_mutual_info = SVC(random_state=0)\n",
    "    scores = evaluate_model(x_train_fs, y_full2, svm_mutual_info)\n",
    "    acc.append(mean(scores))\n",
    "plt.plot(k_vals, acc)\n",
    "plt.show()\n",
    "print(max(acc[1:]))\n",
    "print(k_vals[acc.index(max(acc[1:]))])\n",
    "#best k = 10"
   ],
   "outputs": [
    {
     "output_type": "display_data",
     "data": {
      "text/plain": [
       "<Figure size 432x288 with 1 Axes>"
      ],
      "image/png": "[encoded data removed]"
     },
     "metadata": {
      "needs_background": "light"
     }
    },
    {
     "output_type": "stream",
     "name": "stdout",
     "text": [
      "0.5947826086956521\n",
      "10\n"
     ]
    }
   ],
   "metadata": {}
  },
  {
   "cell_type": "code",
   "execution_count": 47,
   "source": [
    "# resampled\n",
    "acc = []\n",
    "for k in k_vals2:\n",
    "    x_train_fs, fs = select_features_mutual_info(X_resampled, y_resampled, k_val=k)\n",
    "    svm_mutual_info = SVC(random_state=0)\n",
    "    scores = evaluate_model(x_train_fs, y_resampled, svm_mutual_info)\n",
    "    acc.append(mean(scores))\n",
    "plt.plot(k_vals2, acc)\n",
    "plt.show()\n",
    "print(max(acc[1:]))\n",
    "print(k_vals2[acc.index(max(acc[1:]))])\n",
    "#best k = 320"
   ],
   "outputs": [
    {
     "output_type": "display_data",
     "data": {
      "text/plain": [
       "<Figure size 432x288 with 1 Axes>"
      ],
      "image/png": "[encoded data removed]"
     },
     "metadata": {
      "needs_background": "light"
     }
    },
    {
     "output_type": "stream",
     "name": "stdout",
     "text": [
      "0.755782754516932\n",
      "320\n"
     ]
    }
   ],
   "metadata": {}
  },
  {
   "cell_type": "markdown",
   "source": [
    "Transforming the continuous variable - prep_time, help Logistic Regression converges faster, but ended up hurting the performance compared to the baseline model. The best logistic regression model obtained is with 7 features."
   ],
   "metadata": {}
  },
  {
   "cell_type": "markdown",
   "source": [
    "### 4.2 Chi-square"
   ],
   "metadata": {}
  },
  {
   "cell_type": "code",
   "execution_count": 48,
   "source": [
    "def select_features_chi2(X_train, Y_train, k_val):\n",
    "    fs = SelectKBest(score_func=chi2, k=k_val)\n",
    "    fs.fit(X_train, Y_train)\n",
    "    X_train_fs = fs.transform(X_train)\n",
    "    # X_test_fs = fs.transform(X_test)\n",
    "    return X_train_fs, fs"
   ],
   "outputs": [],
   "metadata": {}
  },
  {
   "cell_type": "markdown",
   "source": [
    "#### Logistic Regression"
   ],
   "metadata": {}
  },
  {
   "cell_type": "code",
   "execution_count": 50,
   "source": [
    "# original\n",
    "acc = []\n",
    "for k in k_vals:\n",
    "    x_train_fs, fs = select_features_chi2(x_full, cook_time, k_val=k)\n",
    "    lr_mutual_info = LogisticRegression()\n",
    "    scores = evaluate_model(x_train_fs, cook_time, lr_mutual_info)\n",
    "    acc.append(mean(scores))\n",
    "plt.plot(k_vals, acc)\n",
    "plt.show()\n",
    "print(max(acc[1:]))\n",
    "print(k_vals[acc.index(max(acc[1:]))])\n",
    "# best is k=80"
   ],
   "outputs": [
    {
     "output_type": "display_data",
     "data": {
      "text/plain": [
       "<Figure size 432x288 with 1 Axes>"
      ],
      "image/png": "[encoded data removed]"
     },
     "metadata": {
      "needs_background": "light"
     }
    },
    {
     "output_type": "stream",
     "name": "stdout",
     "text": [
      "0.673977455716586\n",
      "80\n"
     ]
    }
   ],
   "metadata": {}
  },
  {
   "cell_type": "code",
   "execution_count": 51,
   "source": [
    "# post-trans\n",
    "acc = []\n",
    "for k in k_vals:\n",
    "    x_train_fs, fs = select_features_chi2(x_full2, y_full2, k_val=k)\n",
    "    lr_mutual_info = LogisticRegression()\n",
    "    scores = evaluate_model(x_train_fs, y_full2, lr_mutual_info)\n",
    "    acc.append(mean(scores))\n",
    "plt.plot(k_vals, acc)\n",
    "plt.show()\n",
    "print(max(acc[1:]))\n",
    "print(k_vals[acc.index(max(acc[1:]))])\n",
    "# best k = 80"
   ],
   "outputs": [
    {
     "output_type": "display_data",
     "data": {
      "text/plain": [
       "<Figure size 432x288 with 1 Axes>"
      ],
      "image/png": "[encoded data removed]"
     },
     "metadata": {
      "needs_background": "light"
     }
    },
    {
     "output_type": "stream",
     "name": "stdout",
     "text": [
      "0.6609339774557165\n",
      "80\n"
     ]
    }
   ],
   "metadata": {}
  },
  {
   "cell_type": "code",
   "execution_count": 52,
   "source": [
    "# resampled \n",
    "acc = []\n",
    "for k in k_vals:\n",
    "    x_train_fs, fs = select_features_chi2(X_resampled, y_resampled, k_val=k)\n",
    "    lr_mutual_info = LogisticRegression()\n",
    "    scores = evaluate_model(x_train_fs, y_resampled, lr_mutual_info)\n",
    "    acc.append(mean(scores))\n",
    "plt.plot(k_vals, acc)\n",
    "plt.show()\n",
    "print(max(acc[1:]))\n",
    "print(k_vals[acc.index(max(acc[1:]))])\n",
    "# best k = 120"
   ],
   "outputs": [
    {
     "output_type": "display_data",
     "data": {
      "text/plain": [
       "<Figure size 432x288 with 1 Axes>"
      ],
      "image/png": "[encoded data removed]"
     },
     "metadata": {
      "needs_background": "light"
     }
    },
    {
     "output_type": "stream",
     "name": "stdout",
     "text": [
      "0.7794871794871797\n",
      "120\n"
     ]
    }
   ],
   "metadata": {}
  },
  {
   "cell_type": "markdown",
   "source": [
    "#### Random Forest"
   ],
   "metadata": {}
  },
  {
   "cell_type": "code",
   "execution_count": 53,
   "source": [
    "# original\n",
    "acc = []\n",
    "for k in k_vals:\n",
    "    x_train_fs, fs = select_features_chi2(x_full, cook_time, k_val=k)\n",
    "    rfc_mutual_info = RandomForestClassifier(random_state=0)\n",
    "    scores = evaluate_model(x_train_fs, cook_time, rfc_mutual_info)\n",
    "    acc.append(mean(scores))\n",
    "plt.plot(k_vals, acc)\n",
    "plt.show()\n",
    "print(max(acc[1:]))\n",
    "print(k_vals[acc.index(max(acc[1:]))])\n",
    "# best k = 60"
   ],
   "outputs": [
    {
     "output_type": "display_data",
     "data": {
      "text/plain": [
       "<Figure size 432x288 with 1 Axes>"
      ],
      "image/png": "[encoded data removed]"
     },
     "metadata": {
      "needs_background": "light"
     }
    },
    {
     "output_type": "stream",
     "name": "stdout",
     "text": [
      "0.6227697262479871\n",
      "60\n"
     ]
    }
   ],
   "metadata": {}
  },
  {
   "cell_type": "code",
   "execution_count": 54,
   "source": [
    "# post-trans\n",
    "acc = []\n",
    "for k in k_vals:\n",
    "    x_train_fs, fs = select_features_chi2(x_full2, y_full2, k_val=k)\n",
    "    rfc_mutual_info = RandomForestClassifier(random_state=0)\n",
    "    scores = evaluate_model(x_train_fs, y_full2, rfc_mutual_info)\n",
    "    acc.append(mean(scores))\n",
    "plt.plot(k_vals, acc)\n",
    "plt.show()\n",
    "print(max(acc[1:]))\n",
    "print(k_vals[acc.index(max(acc[1:]))])\n",
    "# best k = 30"
   ],
   "outputs": [
    {
     "output_type": "display_data",
     "data": {
      "text/plain": [
       "<Figure size 432x288 with 1 Axes>"
      ],
      "image/png": "[encoded data removed]"
     },
     "metadata": {
      "needs_background": "light"
     }
    },
    {
     "output_type": "stream",
     "name": "stdout",
     "text": [
      "0.6477294685990337\n",
      "30\n"
     ]
    }
   ],
   "metadata": {}
  },
  {
   "cell_type": "code",
   "execution_count": 55,
   "source": [
    "# resampled\n",
    "acc = []\n",
    "for k in k_vals:\n",
    "    x_train_fs, fs = select_features_chi2(X_resampled, y_resampled, k_val=k)\n",
    "    rfc_mutual_info = RandomForestClassifier(random_state=0)\n",
    "    scores = evaluate_model(x_train_fs, y_resampled, rfc_mutual_info)\n",
    "    acc.append(mean(scores))\n",
    "plt.plot(k_vals, acc)\n",
    "plt.show()\n",
    "print(max(acc[1:]))\n",
    "print(k_vals[acc.index(max(acc[1:]))])\n",
    "#best k = 250"
   ],
   "outputs": [
    {
     "output_type": "display_data",
     "data": {
      "text/plain": [
       "<Figure size 432x288 with 1 Axes>"
      ],
      "image/png": "[encoded data removed]"
     },
     "metadata": {
      "needs_background": "light"
     }
    },
    {
     "output_type": "stream",
     "name": "stdout",
     "text": [
      "0.7914097154603484\n",
      "250\n"
     ]
    }
   ],
   "metadata": {}
  },
  {
   "cell_type": "markdown",
   "source": [
    "#### Multiple Bayes"
   ],
   "metadata": {}
  },
  {
   "cell_type": "code",
   "execution_count": 56,
   "source": [
    "# original\n",
    "acc = []\n",
    "for k in k_vals:\n",
    "    x_train_fs, fs = select_features_chi2(x_full, cook_time, k_val=k)\n",
    "    clf_mutual_info = MultinomialNB()\n",
    "    scores = evaluate_model(x_train_fs, cook_time, clf_mutual_info)\n",
    "    acc.append(mean(scores))\n",
    "plt.plot(k_vals, acc)\n",
    "plt.show()\n",
    "print(max(acc[1:]))\n",
    "print(k_vals[acc.index(max(acc[1:]))])\n",
    "#best k = 70"
   ],
   "outputs": [
    {
     "output_type": "display_data",
     "data": {
      "text/plain": [
       "<Figure size 432x288 with 1 Axes>"
      ],
      "image/png": "[encoded data removed]"
     },
     "metadata": {
      "needs_background": "light"
     }
    },
    {
     "output_type": "stream",
     "name": "stdout",
     "text": [
      "0.6532689210950079\n",
      "70\n"
     ]
    }
   ],
   "metadata": {}
  },
  {
   "cell_type": "code",
   "execution_count": 57,
   "source": [
    "# post-trans\n",
    "acc = []\n",
    "for k in k_vals:\n",
    "    x_train_fs, fs = select_features_chi2(x_full2, y_full2, k_val=k)\n",
    "    clf_mutual_info = MultinomialNB()\n",
    "    scores = evaluate_model(x_train_fs, y_full2, clf_mutual_info)\n",
    "    acc.append(mean(scores))\n",
    "plt.plot(k_vals, acc)\n",
    "plt.show()\n",
    "print(max(acc[1:]))\n",
    "print(k_vals[acc.index(max(acc[1:]))])\n",
    "#best k = 100"
   ],
   "outputs": [
    {
     "output_type": "display_data",
     "data": {
      "text/plain": [
       "<Figure size 432x288 with 1 Axes>"
      ],
      "image/png": "[encoded data removed]"
     },
     "metadata": {
      "needs_background": "light"
     }
    },
    {
     "output_type": "stream",
     "name": "stdout",
     "text": [
      "0.6798711755233493\n",
      "100\n"
     ]
    }
   ],
   "metadata": {}
  },
  {
   "cell_type": "code",
   "execution_count": 58,
   "source": [
    "# resampled\n",
    "acc = []\n",
    "for k in k_vals:\n",
    "    x_train_fs, fs = select_features_chi2(X_resampled, y_resampled, k_val=k)\n",
    "    clf_mutual_info = MultinomialNB()\n",
    "    scores = evaluate_model(x_train_fs, y_resampled, clf_mutual_info)\n",
    "    acc.append(mean(scores))\n",
    "plt.plot(k_vals, acc)\n",
    "plt.show()\n",
    "print(max(acc[1:]))\n",
    "print(k_vals[acc.index(max(acc[1:]))])\n",
    "#best k = 150"
   ],
   "outputs": [
    {
     "output_type": "display_data",
     "data": {
      "text/plain": [
       "<Figure size 432x288 with 1 Axes>"
      ],
      "image/png": "[encoded data removed]"
     },
     "metadata": {
      "needs_background": "light"
     }
    },
    {
     "output_type": "stream",
     "name": "stdout",
     "text": [
      "0.6803310613437197\n",
      "150\n"
     ]
    }
   ],
   "metadata": {}
  },
  {
   "cell_type": "markdown",
   "source": [
    "#### SVM"
   ],
   "metadata": {}
  },
  {
   "cell_type": "code",
   "execution_count": 59,
   "source": [
    "# original\n",
    "acc = []\n",
    "for k in k_vals:\n",
    "    x_train_fs, fs = select_features_chi2(x_full, cook_time, k_val=k)\n",
    "    svm_mutual_info = SVC(random_state=0)\n",
    "    scores = evaluate_model(x_train_fs, cook_time, svm_mutual_info)\n",
    "    acc.append(mean(scores))\n",
    "plt.plot(k_vals, acc)\n",
    "plt.show()\n",
    "print(max(acc[1:]))\n",
    "print(k_vals[acc.index(max(acc[1:]))])"
   ],
   "outputs": [
    {
     "output_type": "display_data",
     "data": {
      "text/plain": [
       "<Figure size 432x288 with 1 Axes>"
      ],
      "image/png": "[encoded data removed]"
     },
     "metadata": {
      "needs_background": "light"
     }
    },
    {
     "output_type": "stream",
     "name": "stdout",
     "text": [
      "0.5829307568438004\n",
      "10\n"
     ]
    }
   ],
   "metadata": {}
  },
  {
   "cell_type": "code",
   "execution_count": 60,
   "source": [
    "# post-trans\n",
    "acc = []\n",
    "for k in k_vals:\n",
    "    x_train_fs, fs = select_features_chi2(x_full2, y_full2, k_val=k)\n",
    "    svm_mutual_info = SVC(random_state=0)\n",
    "    scores = evaluate_model(x_train_fs, y_full2, svm_mutual_info)\n",
    "    acc.append(mean(scores))\n",
    "plt.plot(k_vals, acc)\n",
    "plt.show()\n",
    "print(max(acc[1:]))\n",
    "print(k_vals[acc.index(max(acc[1:]))])\n",
    "#best k = 40"
   ],
   "outputs": [
    {
     "output_type": "display_data",
     "data": {
      "text/plain": [
       "<Figure size 432x288 with 1 Axes>"
      ],
      "image/png": "[encoded data removed]"
     },
     "metadata": {
      "needs_background": "light"
     }
    },
    {
     "output_type": "stream",
     "name": "stdout",
     "text": [
      "0.6550080515297906\n",
      "50\n"
     ]
    }
   ],
   "metadata": {}
  },
  {
   "cell_type": "code",
   "execution_count": 61,
   "source": [
    "# resampled\n",
    "acc = []\n",
    "for k in k_vals2:\n",
    "    x_train_fs, fs = select_features_chi2(X_resampled, y_resampled, k_val=k)\n",
    "    svm_mutual_info = SVC(random_state=0)\n",
    "    scores = evaluate_model(x_train_fs, y_resampled, svm_mutual_info)\n",
    "    acc.append(mean(scores))\n",
    "plt.plot(k_vals2, acc)\n",
    "plt.show()\n",
    "print(max(acc[1:]))\n",
    "print(k_vals2[acc.index(max(acc[1:]))])\n",
    "#best k = 70"
   ],
   "outputs": [
    {
     "output_type": "display_data",
     "data": {
      "text/plain": [
       "<Figure size 432x288 with 1 Axes>"
      ],
      "image/png": "[encoded data removed]"
     },
     "metadata": {
      "needs_background": "light"
     }
    },
    {
     "output_type": "stream",
     "name": "stdout",
     "text": [
      "0.7820837390457646\n",
      "70\n"
     ]
    }
   ],
   "metadata": {}
  },
  {
   "cell_type": "markdown",
   "source": [
    "# 5. Model tuning"
   ],
   "metadata": {}
  },
  {
   "cell_type": "markdown",
   "source": [
    "We are going to tune the best models we achieve so far. Besides, we are also trying out a stacking model out of these best models and evaluate the performances. So, from the above analysis, the models on the resampled data generally work better than the ones on the original data. And the chi-square feature selction models work better than the mutual info models and than other models as well. Therefore, also for the sake of stacking models, we are going to tune the models that yield equally good results when fitted on a dataset compared to other datasets. These models are LR, MultiBayes, and SVM models, fitted on the resampled, feature-selection dataset."
   ],
   "metadata": {}
  },
  {
   "cell_type": "markdown",
   "source": [
    "#### 1. FS_RESAMPLED_LR"
   ],
   "metadata": {}
  },
  {
   "cell_type": "code",
   "execution_count": 65,
   "source": [
    "# chi2 feature selection\n",
    "x_train_fs, fs = select_features_chi2(X_resampled, y_resampled, k_val=120)\n",
    "acc = []\n",
    "C = np.logspace(-3,3,20)\n",
    "for c in C:\n",
    "    lr = LogisticRegression(C=c, max_iter=500)\n",
    "    # C = 1.438449888287663\n",
    "    scores = evaluate_model(x_train_fs, y_resampled, lr)\n",
    "    acc.append(mean(scores))\n",
    "\n",
    "plt.plot(C, acc)\n",
    "plt.show()\n",
    "print(max(acc[1:]))\n",
    "print(C[acc.index(max(acc[1:]))])"
   ],
   "outputs": [
    {
     "output_type": "display_data",
     "data": {
      "text/plain": [
       "<Figure size 432x288 with 1 Axes>"
      ],
      "image/png": "[encoded data removed]"
     },
     "metadata": {
      "needs_background": "light"
     }
    },
    {
     "output_type": "stream",
     "name": "stdout",
     "text": [
      "0.7837282267662017\n",
      "1.438449888287663\n"
     ]
    }
   ],
   "metadata": {}
  },
  {
   "cell_type": "code",
   "execution_count": 66,
   "source": [
    "# mutual_info feature selection\n",
    "x_train_fs, fs = select_features_mutual_info(X_resampled, y_resampled, k_val=320)\n",
    "acc = []\n",
    "C = np.logspace(-3,3,20)\n",
    "for c in C:\n",
    "    lr = LogisticRegression(C=c, max_iter=500)\n",
    "    # C = 2.976351441631316\n",
    "    scores = evaluate_model(x_train_fs, y_resampled, lr)\n",
    "    acc.append(mean(scores))\n",
    "\n",
    "plt.plot(C, acc)\n",
    "plt.show()\n",
    "print(max(acc))\n",
    "print(C[acc.index(max(acc))])"
   ],
   "outputs": [
    {
     "output_type": "display_data",
     "data": {
      "text/plain": [
       "<Figure size 432x288 with 1 Axes>"
      ],
      "image/png": "[encoded data removed]"
     },
     "metadata": {
      "needs_background": "light"
     }
    },
    {
     "output_type": "stream",
     "name": "stdout",
     "text": [
      "0.778578383641675\n",
      "2.976351441631316\n"
     ]
    }
   ],
   "metadata": {}
  },
  {
   "cell_type": "markdown",
   "source": [
    "#### 2. FS_RESAMPLED_SVM"
   ],
   "metadata": {}
  },
  {
   "cell_type": "code",
   "execution_count": 72,
   "source": [
    "x_train_fs, fs = select_features_chi2(X_resampled, y_resampled, k_val=70)"
   ],
   "outputs": [],
   "metadata": {}
  },
  {
   "cell_type": "code",
   "execution_count": 73,
   "source": [
    "acc = []\n",
    "C = np.logspace(-3,1,20)\n",
    "for c in C:\n",
    "    svc = SVC(C=c)\n",
    "    # C = 3.792690190732246\n",
    "    scores = evaluate_model(x_train_fs, y_resampled, svc)\n",
    "    acc.append(mean(scores))\n",
    "\n",
    "plt.plot(C, acc)\n",
    "plt.show()\n",
    "print(max(acc))\n",
    "print(C[acc.index(max(acc))])"
   ],
   "outputs": [
    {
     "output_type": "display_data",
     "data": {
      "text/plain": [
       "<Figure size 432x288 with 1 Axes>"
      ],
      "image/png": "[encoded data removed]"
     },
     "metadata": {
      "needs_background": "light"
     }
    },
    {
     "output_type": "stream",
     "name": "stdout",
     "text": [
      "0.7981932273071515\n",
      "3.792690190732246\n"
     ]
    }
   ],
   "metadata": {}
  },
  {
   "cell_type": "code",
   "execution_count": 76,
   "source": [
    "acc = []\n",
    "gamma = np.logspace(-3, 0, 50)\n",
    "for g in gamma:\n",
    "    svc = SVC(random_state=0, C=3.792690190732246,gamma = g)\n",
    "    # gamma = 0.5689866029018293\n",
    "    scores = evaluate_model(x_train_fs, y_resampled, svc)\n",
    "    acc.append(mean(scores))\n",
    "\n",
    "plt.plot(gamma, acc)\n",
    "plt.show()\n",
    "print(max(acc))\n",
    "print(gamma[acc.index(max(acc))])"
   ],
   "outputs": [
    {
     "output_type": "display_data",
     "data": {
      "text/plain": [
       "<Figure size 432x288 with 1 Axes>"
      ],
      "image/png": "[encoded data removed]"
     },
     "metadata": {
      "needs_background": "light"
     }
    },
    {
     "output_type": "stream",
     "name": "stdout",
     "text": [
      "0.7982040463053122\n",
      "0.5689866029018293\n"
     ]
    }
   ],
   "metadata": {}
  },
  {
   "cell_type": "code",
   "execution_count": 77,
   "source": [
    "x_train_fs, fs = select_features_mutual_info(X_resampled, y_resampled, k_val=320)"
   ],
   "outputs": [],
   "metadata": {}
  },
  {
   "cell_type": "code",
   "execution_count": 78,
   "source": [
    "acc = []\n",
    "C = np.logspace(-3,1,20)\n",
    "for c in C:\n",
    "    svc = SVC(C=c)\n",
    "    # C = 2.3357214690901213\n",
    "    scores = evaluate_model(x_train_fs, y_resampled, svc)\n",
    "    acc.append(mean(scores))\n",
    "\n",
    "plt.plot(C, acc)\n",
    "plt.show()\n",
    "print(max(acc))\n",
    "print(C[acc.index(max(acc))])"
   ],
   "outputs": [
    {
     "output_type": "display_data",
     "data": {
      "text/plain": [
       "<Figure size 432x288 with 1 Axes>"
      ],
      "image/png": "[encoded data removed]"
     },
     "metadata": {
      "needs_background": "light"
     }
    },
    {
     "output_type": "stream",
     "name": "stdout",
     "text": [
      "0.7812182191929029\n",
      "2.3357214690901213\n"
     ]
    }
   ],
   "metadata": {}
  },
  {
   "cell_type": "code",
   "execution_count": 80,
   "source": [
    "acc = []\n",
    "gamma = np.logspace(-3, 1, 50)\n",
    "for g in gamma:\n",
    "    svc = SVC(random_state=0, C=2.3357214690901213,gamma = g)\n",
    "    # gamma = 2.6826957952797246\n",
    "    scores = evaluate_model(x_train_fs, y_resampled, svc)\n",
    "    acc.append(mean(scores))\n",
    "\n",
    "plt.plot(gamma, acc)\n",
    "plt.show()\n",
    "print(max(acc))\n",
    "print(gamma[acc.index(max(acc))])"
   ],
   "outputs": [
    {
     "output_type": "display_data",
     "data": {
      "text/plain": [
       "<Figure size 432x288 with 1 Axes>"
      ],
      "image/png": "[encoded data removed]"
     },
     "metadata": {
      "needs_background": "light"
     }
    },
    {
     "output_type": "stream",
     "name": "stdout",
     "text": [
      "0.796473006599589\n",
      "2.6826957952797246\n"
     ]
    }
   ],
   "metadata": {}
  },
  {
   "cell_type": "markdown",
   "source": [
    "#### 3. FS_RESAMPLED_MULTBAYES "
   ],
   "metadata": {}
  },
  {
   "cell_type": "code",
   "execution_count": 81,
   "source": [
    "x_train_fs, fs = select_features_chi2(X_resampled, y_resampled, k_val=150)"
   ],
   "outputs": [],
   "metadata": {}
  },
  {
   "cell_type": "code",
   "execution_count": 84,
   "source": [
    "acc = []\n",
    "alpha = np.logspace(-4, -1, 50)\n",
    "for a in alpha:\n",
    "    mulb = MultinomialNB(alpha=a)\n",
    "    # alpha=0.0001\n",
    "    scores = evaluate_model(x_train_fs, y_resampled, mulb)\n",
    "    acc.append(mean(scores))\n",
    "\n",
    "plt.plot(alpha, acc)\n",
    "plt.show()\n",
    "print(max(acc))\n",
    "print(alpha[acc.index(max(acc))])"
   ],
   "outputs": [
    {
     "output_type": "display_data",
     "data": {
      "text/plain": [
       "<Figure size 432x288 with 1 Axes>"
      ],
      "image/png": "[encoded data removed]"
     },
     "metadata": {
      "needs_background": "light"
     }
    },
    {
     "output_type": "stream",
     "name": "stdout",
     "text": [
      "0.7769771719138808\n",
      "0.0001\n"
     ]
    }
   ],
   "metadata": {}
  },
  {
   "cell_type": "code",
   "execution_count": 86,
   "source": [
    "x_train_fs, fs = select_features_mutual_info(X_resampled, y_resampled, k_val=80)"
   ],
   "outputs": [],
   "metadata": {}
  },
  {
   "cell_type": "code",
   "execution_count": 87,
   "source": [
    "acc = []\n",
    "alpha = np.logspace(-4, -1, 50)\n",
    "for a in alpha:\n",
    "    mulb = MultinomialNB(alpha=a)\n",
    "    # alpha = 0.05689866029018293\n",
    "    scores = evaluate_model(x_train_fs, y_resampled, mulb)\n",
    "    acc.append(mean(scores))\n",
    "\n",
    "plt.plot(alpha, acc)\n",
    "plt.show()\n",
    "print(max(acc))\n",
    "print(alpha[acc.index(max(acc))])"
   ],
   "outputs": [
    {
     "output_type": "display_data",
     "data": {
      "text/plain": [
       "<Figure size 432x288 with 1 Axes>"
      ],
      "image/png": "[encoded data removed]"
     },
     "metadata": {
      "needs_background": "light"
     }
    },
    {
     "output_type": "stream",
     "name": "stdout",
     "text": [
      "0.7218435572865952\n",
      "0.05689866029018293\n"
     ]
    }
   ],
   "metadata": {}
  },
  {
   "cell_type": "markdown",
   "source": [
    "#### 4. FS_RESAMPLED_RFC"
   ],
   "metadata": {}
  },
  {
   "cell_type": "code",
   "execution_count": 88,
   "source": [
    "x_train_fs, fs = select_features_mutual_info(X_resampled, y_resampled, k_val=290)\n",
    "acc = []\n",
    "n_est = np.arange(start=10, stop = 200, step=10)\n",
    "for n in n_est:\n",
    "    rf = RandomForestClassifier(n_estimators=n, random_state=0)\n",
    "    # n_est=130\n",
    "    scores = evaluate_model(x_train_fs, y_resampled, rf)\n",
    "    acc.append(mean(scores))\n",
    "\n",
    "plt.plot(n_est, acc)\n",
    "plt.show()\n",
    "print(max(acc))\n",
    "print(n_est[acc.index(max(acc))])"
   ],
   "outputs": [
    {
     "output_type": "display_data",
     "data": {
      "text/plain": [
       "<Figure size 432x288 with 1 Axes>"
      ],
      "image/png": "[encoded data removed]"
     },
     "metadata": {
      "needs_background": "light"
     }
    },
    {
     "output_type": "stream",
     "name": "stdout",
     "text": [
      "0.7913988964621878\n",
      "140\n"
     ]
    }
   ],
   "metadata": {}
  },
  {
   "cell_type": "code",
   "execution_count": 90,
   "source": [
    "acc = []\n",
    "max_depth = [int(x) for x in np.linspace(20, 100, num = 10)]\n",
    "for m in max_depth:\n",
    "    rf = RandomForestClassifier(n_estimators=140, random_state=0, max_depth=m)\n",
    "    # max_depth = 37\n",
    "    scores = evaluate_model(x_train_fs, y_resampled, rf)\n",
    "    acc.append(mean(scores))\n",
    "\n",
    "plt.plot(max_depth, acc)\n",
    "plt.show()\n",
    "print(max(acc))\n",
    "print(max_depth[acc.index(max(acc))])"
   ],
   "outputs": [
    {
     "output_type": "display_data",
     "data": {
      "text/plain": [
       "<Figure size 432x288 with 1 Axes>"
      ],
      "image/png": "[encoded data removed]"
     },
     "metadata": {
      "needs_background": "light"
     }
    },
    {
     "output_type": "stream",
     "name": "stdout",
     "text": [
      "0.7931191171697501\n",
      "37\n"
     ]
    }
   ],
   "metadata": {}
  },
  {
   "cell_type": "code",
   "execution_count": 91,
   "source": [
    "x_train_fs, fs = select_features_chi2(X_resampled, y_resampled, k_val=250)\n",
    "acc = []\n",
    "n_est = np.arange(start=10, stop = 200, step=10)\n",
    "for n in n_est:\n",
    "    rf = RandomForestClassifier(n_estimators=n, random_state=0)\n",
    "    # n_est=80\n",
    "    scores = evaluate_model(x_train_fs, y_resampled, rf)\n",
    "    acc.append(mean(scores))\n",
    "\n",
    "plt.plot(n_est, acc)\n",
    "plt.show()\n",
    "print(max(acc))\n",
    "print(n_est[acc.index(max(acc))])"
   ],
   "outputs": [
    {
     "output_type": "display_data",
     "data": {
      "text/plain": [
       "<Figure size 432x288 with 1 Axes>"
      ],
      "image/png": "[encoded data removed]"
     },
     "metadata": {
      "needs_background": "light"
     }
    },
    {
     "output_type": "stream",
     "name": "stdout",
     "text": [
      "0.7922211403224062\n",
      "80\n"
     ]
    }
   ],
   "metadata": {}
  },
  {
   "cell_type": "code",
   "execution_count": 92,
   "source": [
    "acc = []\n",
    "max_depth = [int(x) for x in np.linspace(20, 100, num = 10)]\n",
    "for m in max_depth:\n",
    "    rf = RandomForestClassifier(n_estimators=80, random_state=0, max_depth=m)\n",
    "    # max_depth = 37\n",
    "    scores = evaluate_model(x_train_fs, y_resampled, rf)\n",
    "    acc.append(mean(scores))\n",
    "\n",
    "plt.plot(max_depth, acc)\n",
    "print(max(acc))\n",
    "print(max_depth[acc.index(max(acc))])"
   ],
   "outputs": [
    {
     "output_type": "stream",
     "name": "stdout",
     "text": [
      "0.7939197230336472\n",
      "37\n"
     ]
    },
    {
     "output_type": "display_data",
     "data": {
      "text/plain": [
       "<Figure size 432x288 with 1 Axes>"
      ],
      "image/png": "[encoded data removed]"
     },
     "metadata": {
      "needs_background": "light"
     }
    }
   ],
   "metadata": {}
  },
  {
   "cell_type": "markdown",
   "source": [
    "#### Stacking"
   ],
   "metadata": {}
  },
  {
   "cell_type": "markdown",
   "source": [
    "Initially, I tried using pipelines inside each model in the stacking for feature selection, since each model performs well on a different chi-square selection threshold. However, splitting these thresholds up hurts the performance, and it turns out that the threshold of k for the stacking model also diverts slightly from the individual thresholds we've seen above, suggesting that for these models to work together, we need to choose a \"common\" threshold.\n",
    "\n",
    "The result also shows that re-examining the best number of features selected to build the stacked model as a whole is better than letting each individual model select its own subset of features. All the stacking models show consistently good result (most of them peaks at >= 80% accuracy), with the best performing models are the stacking of all 4 models, logistic-multibayes-svm model and svm-mulbayes model. These models are going to be examined more in-depth, with other metrics like recall and f1_score to determine which one is the best model overall."
   ],
   "metadata": {}
  },
  {
   "cell_type": "code",
   "execution_count": 96,
   "source": [
    "# models with individual feature selection threshold stacked together\n",
    "models = [\n",
    "    ('lr', make_pipeline(SelectKBest(score_func=chi2, k=120), LogisticRegression(C=1.438449888287663, max_iter=500) )),\n",
    "    ('svm', make_pipeline(SelectKBest(score_func=chi2, k=70), SVC(random_state=0, C=3.792690190732246,gamma = 0.5689866029018293) )), \n",
    "    ('mulb', make_pipeline(SelectKBest(score_func=chi2, k=150), MultinomialNB(alpha=0.0001) )),\n",
    "    ('rfc', make_pipeline(SelectKBest(score_func=chi2, k=250), RandomForestClassifier(n_estimators=80, random_state=0, max_depth=37) ))]\n",
    "\n",
    "level1 = LogisticRegression()\n",
    "stacking = StackingClassifier(estimators=models, final_estimator=level1, cv=5)\n",
    "scores = evaluate_model(X_resampled, y_resampled, stacking)\n",
    "mean(scores)"
   ],
   "outputs": [
    {
     "output_type": "execute_result",
     "data": {
      "text/plain": [
       "0.7744022503516175"
      ]
     },
     "metadata": {},
     "execution_count": 96
    }
   ],
   "metadata": {}
  },
  {
   "cell_type": "code",
   "execution_count": 97,
   "source": [
    "# models with a common feature selection threshold stacked together\n",
    "models = [\n",
    "    ('lr', LogisticRegression(C=1.438449888287663, max_iter=500) ),\n",
    "    ('svm', SVC(random_state=0, C=3.792690190732246,gamma = 0.5689866029018293) ), \n",
    "    ('mulb', MultinomialNB(alpha=0.0001) ),\n",
    "    ('rfc', RandomForestClassifier(n_estimators=80, random_state=0, max_depth=37) )]\n",
    "\n",
    "acc = []\n",
    "k_vals = np.arange(300, step=5)\n",
    "for k in k_vals:\n",
    "    x_train_fs, fs = select_features_chi2(X_resampled, y_resampled, k_val=k)\n",
    "    stacking = StackingClassifier(estimators=models, final_estimator=level1, cv=5)\n",
    "    scores = evaluate_model(x_train_fs, y_resampled, stacking)\n",
    "    acc.append(mean(scores))\n",
    "plt.plot(k_vals, acc)\n",
    "plt.show()"
   ],
   "outputs": [
    {
     "output_type": "display_data",
     "data": {
      "text/plain": [
       "<Figure size 432x288 with 1 Axes>"
      ],
      "image/png": "[encoded data removed]"
     },
     "metadata": {
      "needs_background": "light"
     }
    }
   ],
   "metadata": {}
  },
  {
   "cell_type": "code",
   "execution_count": 98,
   "source": [
    "print(max(acc[1:]))\n",
    "print(k_vals[acc.index(max(acc[1:]))])"
   ],
   "outputs": [
    {
     "output_type": "stream",
     "name": "stdout",
     "text": [
      "0.8159904792816186\n",
      "150\n"
     ]
    }
   ],
   "metadata": {}
  },
  {
   "cell_type": "code",
   "execution_count": 102,
   "source": [
    "# 3 most accurate models\n",
    "models = [\n",
    "    ('lr', LogisticRegression(C=1.438449888287663, max_iter=500) ),\n",
    "    ('svm', SVC(random_state=0, C=3.792690190732246,gamma = 0.5689866029018293) ), \n",
    "    ('rfc', RandomForestClassifier(n_estimators=80, random_state=0, max_depth=37) ) ]\n",
    "\n",
    "acc = []\n",
    "k_vals = np.arange(300, step=5)\n",
    "for k in k_vals:\n",
    "    x_train_fs, fs = select_features_chi2(X_resampled, y_resampled, k_val=k)\n",
    "    stacking = StackingClassifier(estimators=models, final_estimator=level1, cv=5)\n",
    "    scores = evaluate_model(x_train_fs, y_resampled, stacking)\n",
    "    acc.append(mean(scores))\n",
    "plt.plot(k_vals, acc)\n",
    "plt.show()\n",
    "print(max(acc[1:]))\n",
    "print(k_vals[acc.index(max(acc[1:]))])"
   ],
   "outputs": [
    {
     "output_type": "display_data",
     "data": {
      "text/plain": [
       "<Figure size 432x288 with 1 Axes>"
      ],
      "image/png": "[encoded data removed]"
     },
     "metadata": {
      "needs_background": "light"
     }
    },
    {
     "output_type": "stream",
     "name": "stdout",
     "text": [
      "0.8007681488694147\n",
      "60\n"
     ]
    }
   ],
   "metadata": {}
  },
  {
   "cell_type": "code",
   "execution_count": 103,
   "source": [
    "# Other combinations\n",
    "models = [\n",
    "    ('lr', LogisticRegression(C=1.438449888287663, max_iter=500) ),\n",
    "    ('svm', SVC(random_state=0, C=3.792690190732246,gamma = 0.5689866029018293) ), \n",
    "    ('mulb', MultinomialNB(alpha=0.0001) ) ]\n",
    "\n",
    "acc = []\n",
    "k_vals = np.arange(300, step=5)\n",
    "for k in k_vals:\n",
    "    x_train_fs, fs = select_features_chi2(X_resampled, y_resampled, k_val=k)\n",
    "    stacking = StackingClassifier(estimators=models, final_estimator=level1, cv=5)\n",
    "    scores = evaluate_model(x_train_fs, y_resampled, stacking)\n",
    "    acc.append(mean(scores))\n",
    "plt.plot(k_vals, acc)\n",
    "plt.show()\n",
    "print(max(acc[1:]))\n",
    "print(k_vals[acc.index(max(acc[1:]))])"
   ],
   "outputs": [
    {
     "output_type": "display_data",
     "data": {
      "text/plain": [
       "<Figure size 432x288 with 1 Axes>"
      ],
      "image/png": "[encoded data removed]"
     },
     "metadata": {
      "needs_background": "light"
     }
    },
    {
     "output_type": "stream",
     "name": "stdout",
     "text": [
      "0.8142702585740563\n",
      "155\n"
     ]
    }
   ],
   "metadata": {}
  },
  {
   "cell_type": "code",
   "execution_count": 105,
   "source": [
    "# Other combinations\n",
    "models = [\n",
    "    ('rfc', RandomForestClassifier(n_estimators=80, random_state=0, max_depth=37, n_jobs=-1) ),\n",
    "    ('lr', LogisticRegression(C=1.438449888287663, max_iter=500) ), \n",
    "    ('mulb', MultinomialNB(alpha=0.0001) ) ]\n",
    "\n",
    "acc = []\n",
    "k_vals = np.arange(300, step=5)\n",
    "for k in k_vals:\n",
    "    x_train_fs, fs = select_features_chi2(X_resampled, y_resampled, k_val=k)\n",
    "    stacking = StackingClassifier(estimators=models, final_estimator=level1, cv=5)\n",
    "    scores = evaluate_model(x_train_fs, y_resampled, stacking)\n",
    "    acc.append(mean(scores))\n",
    "plt.plot(k_vals, acc)\n",
    "plt.show()\n",
    "print(max(acc[1:]))\n",
    "print(k_vals[acc.index(max(acc[1:]))])"
   ],
   "outputs": [
    {
     "output_type": "display_data",
     "data": {
      "text/plain": [
       "<Figure size 432x288 with 1 Axes>"
      ],
      "image/png": "[encoded data removed]"
     },
     "metadata": {
      "needs_background": "light"
     }
    },
    {
     "output_type": "stream",
     "name": "stdout",
     "text": [
      "0.8100075732987126\n",
      "120\n"
     ]
    }
   ],
   "metadata": {}
  },
  {
   "cell_type": "code",
   "execution_count": 106,
   "source": [
    "# Other combinations\n",
    "models = [\n",
    "    ('rfc', RandomForestClassifier(n_estimators=80, random_state=0, max_depth=37, n_jobs=-1) ),\n",
    "    ('svm', SVC(random_state=0, C=3.792690190732246,gamma = 0.5689866029018293) ), \n",
    "    ('mulb', MultinomialNB(alpha=0.0001) ) ]\n",
    "\n",
    "acc = []\n",
    "k_vals = np.arange(300, step=5)\n",
    "for k in k_vals:\n",
    "    x_train_fs, fs = select_features_chi2(X_resampled, y_resampled, k_val=k)\n",
    "    stacking = StackingClassifier(estimators=models, final_estimator=level1, cv=5)\n",
    "    scores = evaluate_model(x_train_fs, y_resampled, stacking)\n",
    "    acc.append(mean(scores))\n",
    "plt.plot(k_vals, acc)\n",
    "plt.show()\n",
    "print(max(acc[1:]))\n",
    "print(k_vals[acc.index(max(acc[1:]))])"
   ],
   "outputs": [
    {
     "output_type": "display_data",
     "data": {
      "text/plain": [
       "<Figure size 432x288 with 1 Axes>"
      ],
      "image/png": "[encoded data removed]"
     },
     "metadata": {
      "needs_background": "light"
     }
    },
    {
     "output_type": "stream",
     "name": "stdout",
     "text": [
      "0.8108947311478959\n",
      "150\n"
     ]
    }
   ],
   "metadata": {}
  },
  {
   "cell_type": "code",
   "execution_count": 101,
   "source": [
    "# 2 most accurate models\n",
    "models = [\n",
    "    ('svm', SVC(random_state=0, C=3.792690190732246,gamma = 0.5689866029018293) ), \n",
    "    ('rfc', RandomForestClassifier(n_estimators=80, random_state=0, max_depth=37) ) ]\n",
    "\n",
    "acc = []\n",
    "k_vals = np.arange(300, step=5)\n",
    "for k in k_vals:\n",
    "    x_train_fs, fs = select_features_chi2(X_resampled, y_resampled, k_val=k)\n",
    "    stacking = StackingClassifier(estimators=models, final_estimator=level1, cv=5)\n",
    "    scores = evaluate_model(x_train_fs, y_resampled, stacking)\n",
    "    acc.append(mean(scores))\n",
    "plt.plot(k_vals, acc)\n",
    "plt.show()\n",
    "print(max(acc[1:]))\n",
    "print(k_vals[acc.index(max(acc[1:]))])"
   ],
   "outputs": [
    {
     "output_type": "display_data",
     "data": {
      "text/plain": [
       "<Figure size 432x288 with 1 Axes>"
      ],
      "image/png": "[encoded data removed]"
     },
     "metadata": {
      "needs_background": "light"
     }
    },
    {
     "output_type": "stream",
     "name": "stdout",
     "text": [
      "0.7965487395867143\n",
      "75\n"
     ]
    }
   ],
   "metadata": {}
  },
  {
   "cell_type": "code",
   "execution_count": 107,
   "source": [
    "# \n",
    "models = [\n",
    "    ('svm', SVC(random_state=0, C=3.792690190732246,gamma = 0.5689866029018293) ), \n",
    "    ('mulb', MultinomialNB(alpha=0.0001) ) ]\n",
    "\n",
    "acc = []\n",
    "k_vals = np.arange(300, step=5)\n",
    "for k in k_vals:\n",
    "    x_train_fs, fs = select_features_chi2(X_resampled, y_resampled, k_val=k)\n",
    "    stacking = StackingClassifier(estimators=models, final_estimator=level1, cv=5)\n",
    "    scores = evaluate_model(x_train_fs, y_resampled, stacking)\n",
    "    acc.append(mean(scores))\n",
    "plt.plot(k_vals, acc)\n",
    "plt.show()\n",
    "print(max(acc[1:]))\n",
    "print(k_vals[acc.index(max(acc[1:]))])"
   ],
   "outputs": [
    {
     "output_type": "display_data",
     "data": {
      "text/plain": [
       "<Figure size 432x288 with 1 Axes>"
      ],
      "image/png": "[encoded data removed]"
     },
     "metadata": {
      "needs_background": "light"
     }
    },
    {
     "output_type": "stream",
     "name": "stdout",
     "text": [
      "0.8176890619928596\n",
      "145\n"
     ]
    }
   ],
   "metadata": {}
  },
  {
   "cell_type": "code",
   "execution_count": 108,
   "source": [
    "# \n",
    "models = [\n",
    "    ('lr', LogisticRegression(C=1.438449888287663, max_iter=500) ), \n",
    "    ('mulb', MultinomialNB(alpha=0.0001) ) ]\n",
    "\n",
    "acc = []\n",
    "k_vals = np.arange(300, step=5)\n",
    "for k in k_vals:\n",
    "    x_train_fs, fs = select_features_chi2(X_resampled, y_resampled, k_val=k)\n",
    "    stacking = StackingClassifier(estimators=models, final_estimator=level1, cv=5)\n",
    "    scores = evaluate_model(x_train_fs, y_resampled, stacking)\n",
    "    acc.append(mean(scores))\n",
    "plt.plot(k_vals, acc)\n",
    "plt.show()\n",
    "print(max(acc[1:]))\n",
    "print(k_vals[acc.index(max(acc[1:]))])"
   ],
   "outputs": [
    {
     "output_type": "display_data",
     "data": {
      "text/plain": [
       "<Figure size 432x288 with 1 Axes>"
      ],
      "image/png": "[encoded data removed]"
     },
     "metadata": {
      "needs_background": "light"
     }
    },
    {
     "output_type": "stream",
     "name": "stdout",
     "text": [
      "0.8040895813047713\n",
      "150\n"
     ]
    }
   ],
   "metadata": {}
  },
  {
   "cell_type": "code",
   "execution_count": 109,
   "source": [
    "# \n",
    "models = [\n",
    "    ('rfc', RandomForestClassifier(n_estimators=80, random_state=0, max_depth=37, n_jobs=-1) ), \n",
    "    ('mulb', MultinomialNB(alpha=0.0001) ) ]\n",
    "\n",
    "acc = []\n",
    "k_vals = np.arange(300, step=5)\n",
    "for k in k_vals:\n",
    "    x_train_fs, fs = select_features_chi2(X_resampled, y_resampled, k_val=k)\n",
    "    stacking = StackingClassifier(estimators=models, final_estimator=level1, cv=5)\n",
    "    scores = evaluate_model(x_train_fs, y_resampled, stacking)\n",
    "    acc.append(mean(scores))\n",
    "plt.plot(k_vals, acc)\n",
    "plt.show()\n",
    "print(max(acc[1:]))\n",
    "print(k_vals[acc.index(max(acc[1:]))])"
   ],
   "outputs": [
    {
     "output_type": "display_data",
     "data": {
      "text/plain": [
       "<Figure size 432x288 with 1 Axes>"
      ],
      "image/png": "[encoded data removed]"
     },
     "metadata": {
      "needs_background": "light"
     }
    },
    {
     "output_type": "stream",
     "name": "stdout",
     "text": [
      "0.8049659201557938\n",
      "140\n"
     ]
    }
   ],
   "metadata": {}
  },
  {
   "cell_type": "code",
   "execution_count": 110,
   "source": [
    "models = [\n",
    "    ('rfc', RandomForestClassifier(n_estimators=80, random_state=0, max_depth=37, n_jobs=-1) ), \n",
    "    ('lr', LogisticRegression(C=1.438449888287663, max_iter=500) ) ]\n",
    "\n",
    "acc = []\n",
    "k_vals = np.arange(300, step=5)\n",
    "for k in k_vals:\n",
    "    x_train_fs, fs = select_features_chi2(X_resampled, y_resampled, k_val=k)\n",
    "    stacking = StackingClassifier(estimators=models, final_estimator=level1, cv=5)\n",
    "    scores = evaluate_model(x_train_fs, y_resampled, stacking)\n",
    "    acc.append(mean(scores))\n",
    "plt.plot(k_vals, acc)\n",
    "plt.show()\n",
    "print(max(acc[1:]))\n",
    "print(k_vals[acc.index(max(acc[1:]))])"
   ],
   "outputs": [
    {
     "output_type": "display_data",
     "data": {
      "text/plain": [
       "<Figure size 432x288 with 1 Axes>"
      ],
      "image/png": "[encoded data removed]"
     },
     "metadata": {
      "needs_background": "light"
     }
    },
    {
     "output_type": "stream",
     "name": "stdout",
     "text": [
      "0.8024775505788164\n",
      "60\n"
     ]
    }
   ],
   "metadata": {}
  },
  {
   "cell_type": "code",
   "execution_count": 111,
   "source": [
    "models = [\n",
    "    ('svm', SVC(random_state=0, C=3.792690190732246,gamma = 0.5689866029018293) ), \n",
    "    ('lr', LogisticRegression(C=1.438449888287663, max_iter=500) ) ]\n",
    "\n",
    "acc = []\n",
    "k_vals = np.arange(300, step=5)\n",
    "for k in k_vals:\n",
    "    x_train_fs, fs = select_features_chi2(X_resampled, y_resampled, k_val=k)\n",
    "    stacking = StackingClassifier(estimators=models, final_estimator=level1, cv=5)\n",
    "    scores = evaluate_model(x_train_fs, y_resampled, stacking)\n",
    "    acc.append(mean(scores))\n",
    "plt.plot(k_vals, acc)\n",
    "plt.show()\n",
    "print(max(acc[1:]))\n",
    "print(k_vals[acc.index(max(acc[1:]))])"
   ],
   "outputs": [
    {
     "output_type": "display_data",
     "data": {
      "text/plain": [
       "<Figure size 432x288 with 1 Axes>"
      ],
      "image/png": "[encoded data removed]"
     },
     "metadata": {
      "needs_background": "light"
     }
    },
    {
     "output_type": "stream",
     "name": "stdout",
     "text": [
      "0.8033647084279997\n",
      "75\n"
     ]
    }
   ],
   "metadata": {}
  },
  {
   "cell_type": "markdown",
   "source": [
    "#### Save model"
   ],
   "metadata": {}
  },
  {
   "cell_type": "code",
   "execution_count": 112,
   "source": [
    "np.savetxt('x_train.csv', X_resampled, delimiter=',')\n",
    "np.savetxt('y_train.csv', y_resampled, delimiter=',')"
   ],
   "outputs": [],
   "metadata": {}
  },
  {
   "cell_type": "code",
   "execution_count": 116,
   "source": [
    "# save model\n",
    "import pickle\n",
    "models = [\n",
    "    ('svm', SVC(random_state=0, C=3.792690190732246,gamma = 0.5689866029018293) ),\n",
    "    ('mulb', MultinomialNB(alpha=0.0001) )]\n",
    "\n",
    "level1 = LogisticRegression()\n",
    "stacking = StackingClassifier(estimators=models, final_estimator=level1, cv=5)\n",
    "x_train_fs, fs = select_features_chi2(X_resampled, y_resampled, k_val=145)\n",
    "stacking.fit(x_train_fs, y_resampled)\n",
    "pickle.dump(stacking, open('finalized_svm_mulb_model.sav', 'wb'))"
   ],
   "outputs": [],
   "metadata": {}
  },
  {
   "cell_type": "code",
   "execution_count": 117,
   "source": [
    "models = [\n",
    "    ('lr', LogisticRegression(C=1.438449888287663, max_iter=500) ),\n",
    "    ('svm', SVC(random_state=0, C=3.792690190732246,gamma = 0.5689866029018293) ), \n",
    "    ('mulb', MultinomialNB(alpha=0.0001) ),\n",
    "    ('rfc', RandomForestClassifier(n_estimators=80, random_state=0, max_depth=37) )]\n",
    "\n",
    "stacking = StackingClassifier(estimators=models, final_estimator=level1, cv=5)\n",
    "x_train_fs, fs = select_features_chi2(X_resampled, y_resampled, k_val=150)\n",
    "stacking.fit(x_train_fs, y_resampled)\n",
    "pickle.dump(stacking, open('finalized_all_models.sav', 'wb'))"
   ],
   "outputs": [],
   "metadata": {}
  },
  {
   "cell_type": "code",
   "execution_count": 118,
   "source": [
    "models = [\n",
    "    ('lr', LogisticRegression(C=1.438449888287663, max_iter=500) ),\n",
    "    ('svm', SVC(random_state=0, C=3.792690190732246,gamma = 0.5689866029018293) ), \n",
    "    ('mulb', MultinomialNB(alpha=0.0001) )]\n",
    "\n",
    "stacking = StackingClassifier(estimators=models, final_estimator=level1, cv=5)\n",
    "x_train_fs, fs = select_features_chi2(X_resampled, y_resampled, k_val=155)\n",
    "stacking.fit(x_train_fs, y_resampled)\n",
    "pickle.dump(stacking, open('finalized_lr_svm_mulb_models.sav', 'wb'))"
   ],
   "outputs": [],
   "metadata": {}
  }
 ],
 "metadata": {
  "kernelspec": {
   "name": "python3",
   "display_name": "Python 3.7.6 64-bit ('base': conda)"
  },
  "language_info": {
   "codemirror_mode": {
    "name": "ipython",
    "version": 3
   },
   "file_extension": ".py",
   "mimetype": "text/x-python",
   "name": "python",
   "nbconvert_exporter": "python",
   "pygments_lexer": "ipython3",
   "version": "3.7.6"
  },
  "interpreter": {
   "hash": "dca0ade3e726a953b501b15e8e990130d2b7799f14cfd9f4271676035ebe5511"
  }
 },
 "nbformat": 4,
 "nbformat_minor": 4
}