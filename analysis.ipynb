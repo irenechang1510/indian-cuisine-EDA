{
 "cells": [
  {
   "cell_type": "code",
   "execution_count": 1,
   "source": [
    "import pandas as pd\n",
    "import matplotlib.pyplot as plt\n",
    "import numpy as np\n",
    "import seaborn as sns\n",
    "\n",
    "from sklearn.linear_model import LogisticRegression\n",
    "from sklearn.model_selection import train_test_split\n",
    "from sklearn.metrics import classification_report, confusion_matrix, balanced_accuracy_score\n",
    "from sklearn.feature_selection import SelectKBest, mutual_info_classif, chi2\n",
    "from sklearn.linear_model import LogisticRegressionCV\n",
    "from imblearn.over_sampling import SMOTENC\n",
    "from sklearn.model_selection import RandomizedSearchCV\n",
    "\n",
    "%matplotlib inline"
   ],
   "outputs": [],
   "metadata": {}
  },
  {
   "cell_type": "markdown",
   "source": [
    "# 1. Exploratory data analysis"
   ],
   "metadata": {}
  },
  {
   "cell_type": "markdown",
   "source": [
    "### 1.1 Some statistics of the data"
   ],
   "metadata": {}
  },
  {
   "cell_type": "code",
   "execution_count": 2,
   "source": [
    "df = pd.read_csv('indian_food.csv', na_values=-1)\n",
    "df.head()"
   ],
   "outputs": [
    {
     "output_type": "execute_result",
     "data": {
      "text/plain": [
       "             name                                        ingredients  \\\n",
       "0      Balu shahi                    Maida flour, yogurt, oil, sugar   \n",
       "1          Boondi                            Gram flour, ghee, sugar   \n",
       "2  Gajar ka halwa       Carrots, milk, sugar, ghee, cashews, raisins   \n",
       "3          Ghevar  Flour, ghee, kewra, milk, clarified butter, su...   \n",
       "4     Gulab jamun  Milk powder, plain flour, baking powder, ghee,...   \n",
       "\n",
       "         diet  prep_time  cook_time flavor_profile   course        state  \\\n",
       "0  vegetarian       45.0       25.0          sweet  dessert  West Bengal   \n",
       "1  vegetarian       80.0       30.0          sweet  dessert    Rajasthan   \n",
       "2  vegetarian       15.0       60.0          sweet  dessert       Punjab   \n",
       "3  vegetarian       15.0       30.0          sweet  dessert    Rajasthan   \n",
       "4  vegetarian       15.0       40.0          sweet  dessert  West Bengal   \n",
       "\n",
       "  region  \n",
       "0   East  \n",
       "1   West  \n",
       "2  North  \n",
       "3   West  \n",
       "4   East  "
      ],
      "text/html": [
       "<div>\n",
       "<style scoped>\n",
       "    .dataframe tbody tr th:only-of-type {\n",
       "        vertical-align: middle;\n",
       "    }\n",
       "\n",
       "    .dataframe tbody tr th {\n",
       "        vertical-align: top;\n",
       "    }\n",
       "\n",
       "    .dataframe thead th {\n",
       "        text-align: right;\n",
       "    }\n",
       "</style>\n",
       "<table border=\"1\" class=\"dataframe\">\n",
       "  <thead>\n",
       "    <tr style=\"text-align: right;\">\n",
       "      <th></th>\n",
       "      <th>name</th>\n",
       "      <th>ingredients</th>\n",
       "      <th>diet</th>\n",
       "      <th>prep_time</th>\n",
       "      <th>cook_time</th>\n",
       "      <th>flavor_profile</th>\n",
       "      <th>course</th>\n",
       "      <th>state</th>\n",
       "      <th>region</th>\n",
       "    </tr>\n",
       "  </thead>\n",
       "  <tbody>\n",
       "    <tr>\n",
       "      <th>0</th>\n",
       "      <td>Balu shahi</td>\n",
       "      <td>Maida flour, yogurt, oil, sugar</td>\n",
       "      <td>vegetarian</td>\n",
       "      <td>45.0</td>\n",
       "      <td>25.0</td>\n",
       "      <td>sweet</td>\n",
       "      <td>dessert</td>\n",
       "      <td>West Bengal</td>\n",
       "      <td>East</td>\n",
       "    </tr>\n",
       "    <tr>\n",
       "      <th>1</th>\n",
       "      <td>Boondi</td>\n",
       "      <td>Gram flour, ghee, sugar</td>\n",
       "      <td>vegetarian</td>\n",
       "      <td>80.0</td>\n",
       "      <td>30.0</td>\n",
       "      <td>sweet</td>\n",
       "      <td>dessert</td>\n",
       "      <td>Rajasthan</td>\n",
       "      <td>West</td>\n",
       "    </tr>\n",
       "    <tr>\n",
       "      <th>2</th>\n",
       "      <td>Gajar ka halwa</td>\n",
       "      <td>Carrots, milk, sugar, ghee, cashews, raisins</td>\n",
       "      <td>vegetarian</td>\n",
       "      <td>15.0</td>\n",
       "      <td>60.0</td>\n",
       "      <td>sweet</td>\n",
       "      <td>dessert</td>\n",
       "      <td>Punjab</td>\n",
       "      <td>North</td>\n",
       "    </tr>\n",
       "    <tr>\n",
       "      <th>3</th>\n",
       "      <td>Ghevar</td>\n",
       "      <td>Flour, ghee, kewra, milk, clarified butter, su...</td>\n",
       "      <td>vegetarian</td>\n",
       "      <td>15.0</td>\n",
       "      <td>30.0</td>\n",
       "      <td>sweet</td>\n",
       "      <td>dessert</td>\n",
       "      <td>Rajasthan</td>\n",
       "      <td>West</td>\n",
       "    </tr>\n",
       "    <tr>\n",
       "      <th>4</th>\n",
       "      <td>Gulab jamun</td>\n",
       "      <td>Milk powder, plain flour, baking powder, ghee,...</td>\n",
       "      <td>vegetarian</td>\n",
       "      <td>15.0</td>\n",
       "      <td>40.0</td>\n",
       "      <td>sweet</td>\n",
       "      <td>dessert</td>\n",
       "      <td>West Bengal</td>\n",
       "      <td>East</td>\n",
       "    </tr>\n",
       "  </tbody>\n",
       "</table>\n",
       "</div>"
      ]
     },
     "metadata": {},
     "execution_count": 2
    }
   ],
   "metadata": {}
  },
  {
   "cell_type": "code",
   "execution_count": 3,
   "source": [
    "df.shape"
   ],
   "outputs": [
    {
     "output_type": "execute_result",
     "data": {
      "text/plain": [
       "(255, 9)"
      ]
     },
     "metadata": {},
     "execution_count": 3
    }
   ],
   "metadata": {}
  },
  {
   "cell_type": "code",
   "execution_count": 4,
   "source": [
    "df.info()"
   ],
   "outputs": [
    {
     "output_type": "stream",
     "name": "stdout",
     "text": [
      "<class 'pandas.core.frame.DataFrame'>\n",
      "RangeIndex: 255 entries, 0 to 254\n",
      "Data columns (total 9 columns):\n",
      " #   Column          Non-Null Count  Dtype  \n",
      "---  ------          --------------  -----  \n",
      " 0   name            255 non-null    object \n",
      " 1   ingredients     255 non-null    object \n",
      " 2   diet            255 non-null    object \n",
      " 3   prep_time       225 non-null    float64\n",
      " 4   cook_time       227 non-null    float64\n",
      " 5   flavor_profile  226 non-null    object \n",
      " 6   course          255 non-null    object \n",
      " 7   state           231 non-null    object \n",
      " 8   region          241 non-null    object \n",
      "dtypes: float64(2), object(7)\n",
      "memory usage: 18.1+ KB\n"
     ]
    }
   ],
   "metadata": {}
  },
  {
   "cell_type": "code",
   "execution_count": 5,
   "source": [
    "df.describe()"
   ],
   "outputs": [
    {
     "output_type": "execute_result",
     "data": {
      "text/plain": [
       "        prep_time   cook_time\n",
       "count  225.000000  227.000000\n",
       "mean    35.386667   38.911894\n",
       "std     76.241081   49.421711\n",
       "min      5.000000    2.000000\n",
       "25%     10.000000   20.000000\n",
       "50%     10.000000   30.000000\n",
       "75%     20.000000   45.000000\n",
       "max    500.000000  720.000000"
      ],
      "text/html": [
       "<div>\n",
       "<style scoped>\n",
       "    .dataframe tbody tr th:only-of-type {\n",
       "        vertical-align: middle;\n",
       "    }\n",
       "\n",
       "    .dataframe tbody tr th {\n",
       "        vertical-align: top;\n",
       "    }\n",
       "\n",
       "    .dataframe thead th {\n",
       "        text-align: right;\n",
       "    }\n",
       "</style>\n",
       "<table border=\"1\" class=\"dataframe\">\n",
       "  <thead>\n",
       "    <tr style=\"text-align: right;\">\n",
       "      <th></th>\n",
       "      <th>prep_time</th>\n",
       "      <th>cook_time</th>\n",
       "    </tr>\n",
       "  </thead>\n",
       "  <tbody>\n",
       "    <tr>\n",
       "      <th>count</th>\n",
       "      <td>225.000000</td>\n",
       "      <td>227.000000</td>\n",
       "    </tr>\n",
       "    <tr>\n",
       "      <th>mean</th>\n",
       "      <td>35.386667</td>\n",
       "      <td>38.911894</td>\n",
       "    </tr>\n",
       "    <tr>\n",
       "      <th>std</th>\n",
       "      <td>76.241081</td>\n",
       "      <td>49.421711</td>\n",
       "    </tr>\n",
       "    <tr>\n",
       "      <th>min</th>\n",
       "      <td>5.000000</td>\n",
       "      <td>2.000000</td>\n",
       "    </tr>\n",
       "    <tr>\n",
       "      <th>25%</th>\n",
       "      <td>10.000000</td>\n",
       "      <td>20.000000</td>\n",
       "    </tr>\n",
       "    <tr>\n",
       "      <th>50%</th>\n",
       "      <td>10.000000</td>\n",
       "      <td>30.000000</td>\n",
       "    </tr>\n",
       "    <tr>\n",
       "      <th>75%</th>\n",
       "      <td>20.000000</td>\n",
       "      <td>45.000000</td>\n",
       "    </tr>\n",
       "    <tr>\n",
       "      <th>max</th>\n",
       "      <td>500.000000</td>\n",
       "      <td>720.000000</td>\n",
       "    </tr>\n",
       "  </tbody>\n",
       "</table>\n",
       "</div>"
      ]
     },
     "metadata": {},
     "execution_count": 5
    }
   ],
   "metadata": {}
  },
  {
   "cell_type": "markdown",
   "source": [
    "The continuous features have right-skewed distribution, which we will examine further with some graphs in the next section"
   ],
   "metadata": {}
  },
  {
   "cell_type": "markdown",
   "source": [
    "### 1.2 Visualizations"
   ],
   "metadata": {}
  },
  {
   "cell_type": "code",
   "execution_count": 6,
   "source": [
    "ax = sns.countplot(x = 'flavor_profile', data = df)\n",
    "ax.set_title(\"Number of dishes by flavors\")\n",
    "ax.set_xlabel(\"Flavors\")\n",
    "plt.show()"
   ],
   "outputs": [
    {
     "output_type": "display_data",
     "data": {
      "text/plain": [
       "<Figure size 432x288 with 1 Axes>"
      ],
      "image/png": "[encoded data removed]"
     },
     "metadata": {
      "needs_background": "light"
     }
    }
   ],
   "metadata": {}
  },
  {
   "cell_type": "code",
   "execution_count": 7,
   "source": [
    "ax = sns.countplot(x = 'region', data = df)\n",
    "ax.set_title(\"Number of dishes by regions\")\n",
    "ax.set_xlabel(\"Regions\")\n",
    "plt.show()"
   ],
   "outputs": [
    {
     "output_type": "display_data",
     "data": {
      "text/plain": [
       "<Figure size 432x288 with 1 Axes>"
      ],
      "image/png": "[encoded data removed]"
     },
     "metadata": {
      "needs_background": "light"
     }
    }
   ],
   "metadata": {}
  },
  {
   "cell_type": "code",
   "execution_count": 8,
   "source": [
    "ax = sns.countplot(x = 'course', data = df)\n",
    "ax.set_title(\"Number of dishes by course\")\n",
    "ax.set_xlabel(\"Course\")\n",
    "plt.show()"
   ],
   "outputs": [
    {
     "output_type": "display_data",
     "data": {
      "text/plain": [
       "<Figure size 432x288 with 1 Axes>"
      ],
      "image/png": "[encoded data removed]"
     },
     "metadata": {
      "needs_background": "light"
     }
    }
   ],
   "metadata": {}
  },
  {
   "cell_type": "code",
   "execution_count": 9,
   "source": [
    "sns.barplot(data=df, x=\"region\", y=\"cook_time\")\n",
    "plt.show()"
   ],
   "outputs": [
    {
     "output_type": "display_data",
     "data": {
      "text/plain": [
       "<Figure size 432x288 with 1 Axes>"
      ],
      "image/png": "[encoded data removed]"
     },
     "metadata": {
      "needs_background": "light"
     }
    }
   ],
   "metadata": {}
  },
  {
   "cell_type": "code",
   "execution_count": 10,
   "source": [
    "fig, ax = plt.subplots(1, 2, figsize=(14, 7))\n",
    "sns.histplot(data = df, x = 'prep_time', kde = True, color='olive', ax =ax[0])\n",
    "sns.histplot(data = df, x = 'cook_time', kde = True, color='skyblue', ax=ax[1])\n",
    "plt.show()"
   ],
   "outputs": [
    {
     "output_type": "display_data",
     "data": {
      "text/plain": [
       "<Figure size 1008x504 with 2 Axes>"
      ],
      "image/png": "[encoded data removed]"
     },
     "metadata": {
      "needs_background": "light"
     }
    }
   ],
   "metadata": {}
  },
  {
   "cell_type": "code",
   "execution_count": 11,
   "source": [
    "f, ax = plt.subplots(figsize=(7, 6))\n",
    "ax.set_xscale(\"log\")\n",
    "sns.boxplot(data = df.loc[:,['prep_time', 'cook_time']], orient='h', palette='vlag')\n",
    "ax.set_xlabel(\"Time (log scale)\")\n",
    "ax.xaxis.grid(True)\n",
    "plt.show()"
   ],
   "outputs": [
    {
     "output_type": "display_data",
     "data": {
      "text/plain": [
       "<Figure size 504x432 with 1 Axes>"
      ],
      "image/png": "[encoded data removed]"
     },
     "metadata": {
      "needs_background": "light"
     }
    }
   ],
   "metadata": {}
  },
  {
   "cell_type": "code",
   "execution_count": 12,
   "source": [
    "def draw_boxplots(x_val, xlab):\n",
    "    fig, ax = plt.subplots(1, 2, figsize=(14, 7), sharey=True)\n",
    "    ax[0].set_yscale(\"log\")\n",
    "    sns.boxplot(data = df, x =x_val, y=\"prep_time\", palette='vlag', ax=ax[0])\n",
    "    sns.boxplot(data = df, x =x_val, y=\"cook_time\", palette='vlag', ax=ax[1])\n",
    "    ax[0].set_ylabel(\"Prep time (log scale)\")\n",
    "    ax[0].set_xlabel(xlab)\n",
    "    ax[0].set_title(\"Preparation time by \" + xlab)\n",
    "    ax[1].set_ylabel(\"Cook time (log scale)\")\n",
    "    ax[1].set_xlabel(xlab)\n",
    "    ax[1].set_title(\"Cooking time by \"+ xlab)\n",
    "    plt.show()"
   ],
   "outputs": [],
   "metadata": {}
  },
  {
   "cell_type": "code",
   "execution_count": 13,
   "source": [
    "draw_boxplots(\"flavor_profile\", \"Flavors\")"
   ],
   "outputs": [
    {
     "output_type": "display_data",
     "data": {
      "text/plain": [
       "<Figure size 1008x504 with 2 Axes>"
      ],
      "image/png": "[encoded data removed]"
     },
     "metadata": {
      "needs_background": "light"
     }
    }
   ],
   "metadata": {}
  },
  {
   "cell_type": "code",
   "execution_count": 14,
   "source": [
    "draw_boxplots(\"course\", \"Course\")"
   ],
   "outputs": [
    {
     "output_type": "display_data",
     "data": {
      "text/plain": [
       "<Figure size 1008x504 with 2 Axes>"
      ],
      "image/png": "[encoded data removed]"
     },
     "metadata": {
      "needs_background": "light"
     }
    }
   ],
   "metadata": {}
  },
  {
   "cell_type": "code",
   "execution_count": 15,
   "source": [
    "draw_boxplots(\"diet\", \"Diet\")"
   ],
   "outputs": [
    {
     "output_type": "display_data",
     "data": {
      "text/plain": [
       "<Figure size 1008x504 with 2 Axes>"
      ],
      "image/png": "[encoded data removed]"
     },
     "metadata": {
      "needs_background": "light"
     }
    }
   ],
   "metadata": {}
  },
  {
   "cell_type": "code",
   "execution_count": 16,
   "source": [
    "df['diet'].value_counts()"
   ],
   "outputs": [
    {
     "output_type": "execute_result",
     "data": {
      "text/plain": [
       "vegetarian        226\n",
       "non vegetarian     29\n",
       "Name: diet, dtype: int64"
      ]
     },
     "metadata": {},
     "execution_count": 16
    }
   ],
   "metadata": {}
  },
  {
   "cell_type": "code",
   "execution_count": 17,
   "source": [
    "fig, ax = plt.subplots(figsize=(8, 8))\n",
    "sns.regplot(data=df, x='prep_time', y='cook_time', scatter=True, y_jitter=0.5, x_jitter=0.5)\n",
    "plt.yscale('log')\n",
    "plt.xscale('log')\n",
    "plt.show()"
   ],
   "outputs": [
    {
     "output_type": "display_data",
     "data": {
      "text/plain": [
       "<Figure size 576x576 with 1 Axes>"
      ],
      "image/png": "[encoded data removed]"
     },
     "metadata": {
      "needs_background": "light"
     }
    }
   ],
   "metadata": {}
  },
  {
   "cell_type": "markdown",
   "source": [
    "### 1.3 Missing data"
   ],
   "metadata": {}
  },
  {
   "cell_type": "code",
   "execution_count": 18,
   "source": [
    "df.isnull().mean().round(4)*100"
   ],
   "outputs": [
    {
     "output_type": "execute_result",
     "data": {
      "text/plain": [
       "name               0.00\n",
       "ingredients        0.00\n",
       "diet               0.00\n",
       "prep_time         11.76\n",
       "cook_time         10.98\n",
       "flavor_profile    11.37\n",
       "course             0.00\n",
       "state              9.41\n",
       "region             5.49\n",
       "dtype: float64"
      ]
     },
     "metadata": {},
     "execution_count": 18
    }
   ],
   "metadata": {}
  },
  {
   "cell_type": "code",
   "execution_count": 19,
   "source": [
    "# since the data is skewed, we use mode to impute the missing data in prep_time\n",
    "from sklearn.impute import SimpleImputer\n",
    "\n",
    "imp = SimpleImputer(missing_values=np.nan, strategy='most_frequent')\n",
    "df_wo_state_region = df.copy()\n",
    "df_wo_state_region.drop(['state', 'region'], axis=1, inplace=True)\n",
    "df_wo_state_region.dropna(subset=['cook_time'], inplace=True)\n",
    "df_wo_state_region['prep_time'] = imp.fit_transform(df_wo_state_region['prep_time'].values.reshape(-1, 1))\n",
    "print(df_wo_state_region.isnull().mean().round(4)*100)\n",
    "print(df_wo_state_region.shape)"
   ],
   "outputs": [
    {
     "output_type": "stream",
     "name": "stdout",
     "text": [
      "name               0.00\n",
      "ingredients        0.00\n",
      "diet               0.00\n",
      "prep_time          0.00\n",
      "cook_time          0.00\n",
      "flavor_profile    10.57\n",
      "course             0.00\n",
      "dtype: float64\n",
      "(227, 7)\n"
     ]
    }
   ],
   "metadata": {}
  },
  {
   "cell_type": "markdown",
   "source": [
    "Around 10% of the data has missing flavor profile. Since our dataset is small, we will proceed to impute them. We will preprocess and encode the categorical variables before using KNN to fill in the missing flavor_profile values."
   ],
   "metadata": {}
  },
  {
   "cell_type": "code",
   "execution_count": 20,
   "source": [
    "df_train = df_wo_state_region.copy()"
   ],
   "outputs": [],
   "metadata": {}
  },
  {
   "cell_type": "code",
   "execution_count": 21,
   "source": [
    "# no duplicates\n",
    "df_train.duplicated().any()"
   ],
   "outputs": [
    {
     "output_type": "execute_result",
     "data": {
      "text/plain": [
       "False"
      ]
     },
     "metadata": {},
     "execution_count": 21
    }
   ],
   "metadata": {}
  },
  {
   "cell_type": "markdown",
   "source": [
    "### 1.4 One hot encode categorical data"
   ],
   "metadata": {}
  },
  {
   "cell_type": "code",
   "execution_count": 22,
   "source": [
    "# preprocess ingredients columns\n",
    "df_train['is_vegetarian'] = df_train['diet'].map({'vegetarian': 1, 'non vegetarian' : 0}).astype('object')\n",
    "df_train.head()"
   ],
   "outputs": [
    {
     "output_type": "execute_result",
     "data": {
      "text/plain": [
       "             name                                        ingredients  \\\n",
       "0      Balu shahi                    Maida flour, yogurt, oil, sugar   \n",
       "1          Boondi                            Gram flour, ghee, sugar   \n",
       "2  Gajar ka halwa       Carrots, milk, sugar, ghee, cashews, raisins   \n",
       "3          Ghevar  Flour, ghee, kewra, milk, clarified butter, su...   \n",
       "4     Gulab jamun  Milk powder, plain flour, baking powder, ghee,...   \n",
       "\n",
       "         diet  prep_time  cook_time flavor_profile   course is_vegetarian  \n",
       "0  vegetarian       45.0       25.0          sweet  dessert             1  \n",
       "1  vegetarian       80.0       30.0          sweet  dessert             1  \n",
       "2  vegetarian       15.0       60.0          sweet  dessert             1  \n",
       "3  vegetarian       15.0       30.0          sweet  dessert             1  \n",
       "4  vegetarian       15.0       40.0          sweet  dessert             1  "
      ],
      "text/html": [
       "<div>\n",
       "<style scoped>\n",
       "    .dataframe tbody tr th:only-of-type {\n",
       "        vertical-align: middle;\n",
       "    }\n",
       "\n",
       "    .dataframe tbody tr th {\n",
       "        vertical-align: top;\n",
       "    }\n",
       "\n",
       "    .dataframe thead th {\n",
       "        text-align: right;\n",
       "    }\n",
       "</style>\n",
       "<table border=\"1\" class=\"dataframe\">\n",
       "  <thead>\n",
       "    <tr style=\"text-align: right;\">\n",
       "      <th></th>\n",
       "      <th>name</th>\n",
       "      <th>ingredients</th>\n",
       "      <th>diet</th>\n",
       "      <th>prep_time</th>\n",
       "      <th>cook_time</th>\n",
       "      <th>flavor_profile</th>\n",
       "      <th>course</th>\n",
       "      <th>is_vegetarian</th>\n",
       "    </tr>\n",
       "  </thead>\n",
       "  <tbody>\n",
       "    <tr>\n",
       "      <th>0</th>\n",
       "      <td>Balu shahi</td>\n",
       "      <td>Maida flour, yogurt, oil, sugar</td>\n",
       "      <td>vegetarian</td>\n",
       "      <td>45.0</td>\n",
       "      <td>25.0</td>\n",
       "      <td>sweet</td>\n",
       "      <td>dessert</td>\n",
       "      <td>1</td>\n",
       "    </tr>\n",
       "    <tr>\n",
       "      <th>1</th>\n",
       "      <td>Boondi</td>\n",
       "      <td>Gram flour, ghee, sugar</td>\n",
       "      <td>vegetarian</td>\n",
       "      <td>80.0</td>\n",
       "      <td>30.0</td>\n",
       "      <td>sweet</td>\n",
       "      <td>dessert</td>\n",
       "      <td>1</td>\n",
       "    </tr>\n",
       "    <tr>\n",
       "      <th>2</th>\n",
       "      <td>Gajar ka halwa</td>\n",
       "      <td>Carrots, milk, sugar, ghee, cashews, raisins</td>\n",
       "      <td>vegetarian</td>\n",
       "      <td>15.0</td>\n",
       "      <td>60.0</td>\n",
       "      <td>sweet</td>\n",
       "      <td>dessert</td>\n",
       "      <td>1</td>\n",
       "    </tr>\n",
       "    <tr>\n",
       "      <th>3</th>\n",
       "      <td>Ghevar</td>\n",
       "      <td>Flour, ghee, kewra, milk, clarified butter, su...</td>\n",
       "      <td>vegetarian</td>\n",
       "      <td>15.0</td>\n",
       "      <td>30.0</td>\n",
       "      <td>sweet</td>\n",
       "      <td>dessert</td>\n",
       "      <td>1</td>\n",
       "    </tr>\n",
       "    <tr>\n",
       "      <th>4</th>\n",
       "      <td>Gulab jamun</td>\n",
       "      <td>Milk powder, plain flour, baking powder, ghee,...</td>\n",
       "      <td>vegetarian</td>\n",
       "      <td>15.0</td>\n",
       "      <td>40.0</td>\n",
       "      <td>sweet</td>\n",
       "      <td>dessert</td>\n",
       "      <td>1</td>\n",
       "    </tr>\n",
       "  </tbody>\n",
       "</table>\n",
       "</div>"
      ]
     },
     "metadata": {},
     "execution_count": 22
    }
   ],
   "metadata": {}
  },
  {
   "cell_type": "code",
   "execution_count": 23,
   "source": [
    "df_train = df_train.reset_index(drop=True)"
   ],
   "outputs": [],
   "metadata": {}
  },
  {
   "cell_type": "code",
   "execution_count": 24,
   "source": [
    "# discretize cook_time\n",
    "bins = [0, 30, 60, 720]\n",
    "group_names = ['quick', 'medium', 'slow']\n",
    "df_train['cook_time'] = pd.cut(df_train['cook_time'], bins, labels=group_names)"
   ],
   "outputs": [],
   "metadata": {}
  },
  {
   "cell_type": "code",
   "execution_count": 25,
   "source": [
    "df_train['cook_time'].value_counts()"
   ],
   "outputs": [
    {
     "output_type": "execute_result",
     "data": {
      "text/plain": [
       "quick     131\n",
       "medium     84\n",
       "slow       12\n",
       "Name: cook_time, dtype: int64"
      ]
     },
     "metadata": {},
     "execution_count": 25
    }
   ],
   "metadata": {}
  },
  {
   "cell_type": "code",
   "execution_count": 26,
   "source": [
    "# feature encoding for ingredients\n",
    "# top ingredients by if-idf\n",
    "from sklearn.feature_extraction.text import TfidfVectorizer\n",
    "\n",
    "# by flavors\n",
    "quick_dish = df_train[df_train['cook_time'] == \"quick\"]['ingredients']\n",
    "medium_dish = df_train[df_train['cook_time'] == \"medium\"]['ingredients']\n",
    "slow_dish = df_train[df_train['cook_time'] == \"slow\"]['ingredients']\n",
    "\n",
    "# turn into one document\n",
    "def one_doc(dishList):\n",
    "    string = ''\n",
    "    for dish in dishList:\n",
    "        string = string + \" \" + dish\n",
    "    return string\n",
    "\n",
    "quick = one_doc(quick_dish)\n",
    "medium = one_doc(medium_dish)\n",
    "slow  = one_doc(slow_dish)"
   ],
   "outputs": [],
   "metadata": {}
  },
  {
   "cell_type": "code",
   "execution_count": 27,
   "source": [
    "vectorizer = TfidfVectorizer()\n",
    "# vectors = vectorizer.fit_transform([quick, medium, slow])\n",
    "vectors = vectorizer.fit_transform(df_train['ingredients'])\n",
    "feature_names = vectorizer.get_feature_names()\n",
    "dense = vectors.todense()\n",
    "denselist = dense.tolist()\n",
    "pd.DataFrame(denselist, columns=feature_names)"
   ],
   "outputs": [
    {
     "output_type": "execute_result",
     "data": {
      "text/plain": [
       "     acid       all  almond   almonds  aloo  alum  amaranth  amchur  and  \\\n",
       "0     0.0  0.000000     0.0  0.000000   0.0   0.0       0.0     0.0  0.0   \n",
       "1     0.0  0.000000     0.0  0.000000   0.0   0.0       0.0     0.0  0.0   \n",
       "2     0.0  0.000000     0.0  0.000000   0.0   0.0       0.0     0.0  0.0   \n",
       "3     0.0  0.000000     0.0  0.355991   0.0   0.0       0.0     0.0  0.0   \n",
       "4     0.0  0.000000     0.0  0.000000   0.0   0.0       0.0     0.0  0.0   \n",
       "..    ...       ...     ...       ...   ...   ...       ...     ...  ...   \n",
       "222   0.0  0.000000     0.0  0.000000   0.0   0.0       0.0     0.0  0.0   \n",
       "223   0.0  0.000000     0.0  0.000000   0.0   0.0       0.0     0.0  0.0   \n",
       "224   0.0  0.000000     0.0  0.000000   0.0   0.0       0.0     0.0  0.0   \n",
       "225   0.0  0.359378     0.0  0.000000   0.0   0.0       0.0     0.0  0.0   \n",
       "226   0.0  0.346548     0.0  0.000000   0.0   0.0       0.0     0.0  0.0   \n",
       "\n",
       "     anise  ...  whipping  white  whole  wild  wine  yam  yellow  yoghurt  \\\n",
       "0      0.0  ...       0.0    0.0    0.0   0.0   0.0  0.0     0.0      0.0   \n",
       "1      0.0  ...       0.0    0.0    0.0   0.0   0.0  0.0     0.0      0.0   \n",
       "2      0.0  ...       0.0    0.0    0.0   0.0   0.0  0.0     0.0      0.0   \n",
       "3      0.0  ...       0.0    0.0    0.0   0.0   0.0  0.0     0.0      0.0   \n",
       "4      0.0  ...       0.0    0.0    0.0   0.0   0.0  0.0     0.0      0.0   \n",
       "..     ...  ...       ...    ...    ...   ...   ...  ...     ...      ...   \n",
       "222    0.0  ...       0.0    0.0    0.0   0.0   0.0  0.0     0.0      0.0   \n",
       "223    0.0  ...       0.0    0.0    0.0   0.0   0.0  0.0     0.0      0.0   \n",
       "224    0.0  ...       0.0    0.0    0.0   0.0   0.0  0.0     0.0      0.0   \n",
       "225    0.0  ...       0.0    0.0    0.0   0.0   0.0  0.0     0.0      0.0   \n",
       "226    0.0  ...       0.0    0.0    0.0   0.0   0.0  0.0     0.0      0.0   \n",
       "\n",
       "       yogurt     yolks  \n",
       "0    0.531785  0.000000  \n",
       "1    0.000000  0.000000  \n",
       "2    0.000000  0.000000  \n",
       "3    0.000000  0.000000  \n",
       "4    0.000000  0.000000  \n",
       "..        ...       ...  \n",
       "222  0.000000  0.000000  \n",
       "223  0.000000  0.000000  \n",
       "224  0.000000  0.000000  \n",
       "225  0.000000  0.459796  \n",
       "226  0.000000  0.000000  \n",
       "\n",
       "[227 rows x 312 columns]"
      ],
      "text/html": [
       "<div>\n",
       "<style scoped>\n",
       "    .dataframe tbody tr th:only-of-type {\n",
       "        vertical-align: middle;\n",
       "    }\n",
       "\n",
       "    .dataframe tbody tr th {\n",
       "        vertical-align: top;\n",
       "    }\n",
       "\n",
       "    .dataframe thead th {\n",
       "        text-align: right;\n",
       "    }\n",
       "</style>\n",
       "<table border=\"1\" class=\"dataframe\">\n",
       "  <thead>\n",
       "    <tr style=\"text-align: right;\">\n",
       "      <th></th>\n",
       "      <th>acid</th>\n",
       "      <th>all</th>\n",
       "      <th>almond</th>\n",
       "      <th>almonds</th>\n",
       "      <th>aloo</th>\n",
       "      <th>alum</th>\n",
       "      <th>amaranth</th>\n",
       "      <th>amchur</th>\n",
       "      <th>and</th>\n",
       "      <th>anise</th>\n",
       "      <th>...</th>\n",
       "      <th>whipping</th>\n",
       "      <th>white</th>\n",
       "      <th>whole</th>\n",
       "      <th>wild</th>\n",
       "      <th>wine</th>\n",
       "      <th>yam</th>\n",
       "      <th>yellow</th>\n",
       "      <th>yoghurt</th>\n",
       "      <th>yogurt</th>\n",
       "      <th>yolks</th>\n",
       "    </tr>\n",
       "  </thead>\n",
       "  <tbody>\n",
       "    <tr>\n",
       "      <th>0</th>\n",
       "      <td>0.0</td>\n",
       "      <td>0.000000</td>\n",
       "      <td>0.0</td>\n",
       "      <td>0.000000</td>\n",
       "      <td>0.0</td>\n",
       "      <td>0.0</td>\n",
       "      <td>0.0</td>\n",
       "      <td>0.0</td>\n",
       "      <td>0.0</td>\n",
       "      <td>0.0</td>\n",
       "      <td>...</td>\n",
       "      <td>0.0</td>\n",
       "      <td>0.0</td>\n",
       "      <td>0.0</td>\n",
       "      <td>0.0</td>\n",
       "      <td>0.0</td>\n",
       "      <td>0.0</td>\n",
       "      <td>0.0</td>\n",
       "      <td>0.0</td>\n",
       "      <td>0.531785</td>\n",
       "      <td>0.000000</td>\n",
       "    </tr>\n",
       "    <tr>\n",
       "      <th>1</th>\n",
       "      <td>0.0</td>\n",
       "      <td>0.000000</td>\n",
       "      <td>0.0</td>\n",
       "      <td>0.000000</td>\n",
       "      <td>0.0</td>\n",
       "      <td>0.0</td>\n",
       "      <td>0.0</td>\n",
       "      <td>0.0</td>\n",
       "      <td>0.0</td>\n",
       "      <td>0.0</td>\n",
       "      <td>...</td>\n",
       "      <td>0.0</td>\n",
       "      <td>0.0</td>\n",
       "      <td>0.0</td>\n",
       "      <td>0.0</td>\n",
       "      <td>0.0</td>\n",
       "      <td>0.0</td>\n",
       "      <td>0.0</td>\n",
       "      <td>0.0</td>\n",
       "      <td>0.000000</td>\n",
       "      <td>0.000000</td>\n",
       "    </tr>\n",
       "    <tr>\n",
       "      <th>2</th>\n",
       "      <td>0.0</td>\n",
       "      <td>0.000000</td>\n",
       "      <td>0.0</td>\n",
       "      <td>0.000000</td>\n",
       "      <td>0.0</td>\n",
       "      <td>0.0</td>\n",
       "      <td>0.0</td>\n",
       "      <td>0.0</td>\n",
       "      <td>0.0</td>\n",
       "      <td>0.0</td>\n",
       "      <td>...</td>\n",
       "      <td>0.0</td>\n",
       "      <td>0.0</td>\n",
       "      <td>0.0</td>\n",
       "      <td>0.0</td>\n",
       "      <td>0.0</td>\n",
       "      <td>0.0</td>\n",
       "      <td>0.0</td>\n",
       "      <td>0.0</td>\n",
       "      <td>0.000000</td>\n",
       "      <td>0.000000</td>\n",
       "    </tr>\n",
       "    <tr>\n",
       "      <th>3</th>\n",
       "      <td>0.0</td>\n",
       "      <td>0.000000</td>\n",
       "      <td>0.0</td>\n",
       "      <td>0.355991</td>\n",
       "      <td>0.0</td>\n",
       "      <td>0.0</td>\n",
       "      <td>0.0</td>\n",
       "      <td>0.0</td>\n",
       "      <td>0.0</td>\n",
       "      <td>0.0</td>\n",
       "      <td>...</td>\n",
       "      <td>0.0</td>\n",
       "      <td>0.0</td>\n",
       "      <td>0.0</td>\n",
       "      <td>0.0</td>\n",
       "      <td>0.0</td>\n",
       "      <td>0.0</td>\n",
       "      <td>0.0</td>\n",
       "      <td>0.0</td>\n",
       "      <td>0.000000</td>\n",
       "      <td>0.000000</td>\n",
       "    </tr>\n",
       "    <tr>\n",
       "      <th>4</th>\n",
       "      <td>0.0</td>\n",
       "      <td>0.000000</td>\n",
       "      <td>0.0</td>\n",
       "      <td>0.000000</td>\n",
       "      <td>0.0</td>\n",
       "      <td>0.0</td>\n",
       "      <td>0.0</td>\n",
       "      <td>0.0</td>\n",
       "      <td>0.0</td>\n",
       "      <td>0.0</td>\n",
       "      <td>...</td>\n",
       "      <td>0.0</td>\n",
       "      <td>0.0</td>\n",
       "      <td>0.0</td>\n",
       "      <td>0.0</td>\n",
       "      <td>0.0</td>\n",
       "      <td>0.0</td>\n",
       "      <td>0.0</td>\n",
       "      <td>0.0</td>\n",
       "      <td>0.000000</td>\n",
       "      <td>0.000000</td>\n",
       "    </tr>\n",
       "    <tr>\n",
       "      <th>...</th>\n",
       "      <td>...</td>\n",
       "      <td>...</td>\n",
       "      <td>...</td>\n",
       "      <td>...</td>\n",
       "      <td>...</td>\n",
       "      <td>...</td>\n",
       "      <td>...</td>\n",
       "      <td>...</td>\n",
       "      <td>...</td>\n",
       "      <td>...</td>\n",
       "      <td>...</td>\n",
       "      <td>...</td>\n",
       "      <td>...</td>\n",
       "      <td>...</td>\n",
       "      <td>...</td>\n",
       "      <td>...</td>\n",
       "      <td>...</td>\n",
       "      <td>...</td>\n",
       "      <td>...</td>\n",
       "      <td>...</td>\n",
       "      <td>...</td>\n",
       "    </tr>\n",
       "    <tr>\n",
       "      <th>222</th>\n",
       "      <td>0.0</td>\n",
       "      <td>0.000000</td>\n",
       "      <td>0.0</td>\n",
       "      <td>0.000000</td>\n",
       "      <td>0.0</td>\n",
       "      <td>0.0</td>\n",
       "      <td>0.0</td>\n",
       "      <td>0.0</td>\n",
       "      <td>0.0</td>\n",
       "      <td>0.0</td>\n",
       "      <td>...</td>\n",
       "      <td>0.0</td>\n",
       "      <td>0.0</td>\n",
       "      <td>0.0</td>\n",
       "      <td>0.0</td>\n",
       "      <td>0.0</td>\n",
       "      <td>0.0</td>\n",
       "      <td>0.0</td>\n",
       "      <td>0.0</td>\n",
       "      <td>0.000000</td>\n",
       "      <td>0.000000</td>\n",
       "    </tr>\n",
       "    <tr>\n",
       "      <th>223</th>\n",
       "      <td>0.0</td>\n",
       "      <td>0.000000</td>\n",
       "      <td>0.0</td>\n",
       "      <td>0.000000</td>\n",
       "      <td>0.0</td>\n",
       "      <td>0.0</td>\n",
       "      <td>0.0</td>\n",
       "      <td>0.0</td>\n",
       "      <td>0.0</td>\n",
       "      <td>0.0</td>\n",
       "      <td>...</td>\n",
       "      <td>0.0</td>\n",
       "      <td>0.0</td>\n",
       "      <td>0.0</td>\n",
       "      <td>0.0</td>\n",
       "      <td>0.0</td>\n",
       "      <td>0.0</td>\n",
       "      <td>0.0</td>\n",
       "      <td>0.0</td>\n",
       "      <td>0.000000</td>\n",
       "      <td>0.000000</td>\n",
       "    </tr>\n",
       "    <tr>\n",
       "      <th>224</th>\n",
       "      <td>0.0</td>\n",
       "      <td>0.000000</td>\n",
       "      <td>0.0</td>\n",
       "      <td>0.000000</td>\n",
       "      <td>0.0</td>\n",
       "      <td>0.0</td>\n",
       "      <td>0.0</td>\n",
       "      <td>0.0</td>\n",
       "      <td>0.0</td>\n",
       "      <td>0.0</td>\n",
       "      <td>...</td>\n",
       "      <td>0.0</td>\n",
       "      <td>0.0</td>\n",
       "      <td>0.0</td>\n",
       "      <td>0.0</td>\n",
       "      <td>0.0</td>\n",
       "      <td>0.0</td>\n",
       "      <td>0.0</td>\n",
       "      <td>0.0</td>\n",
       "      <td>0.000000</td>\n",
       "      <td>0.000000</td>\n",
       "    </tr>\n",
       "    <tr>\n",
       "      <th>225</th>\n",
       "      <td>0.0</td>\n",
       "      <td>0.359378</td>\n",
       "      <td>0.0</td>\n",
       "      <td>0.000000</td>\n",
       "      <td>0.0</td>\n",
       "      <td>0.0</td>\n",
       "      <td>0.0</td>\n",
       "      <td>0.0</td>\n",
       "      <td>0.0</td>\n",
       "      <td>0.0</td>\n",
       "      <td>...</td>\n",
       "      <td>0.0</td>\n",
       "      <td>0.0</td>\n",
       "      <td>0.0</td>\n",
       "      <td>0.0</td>\n",
       "      <td>0.0</td>\n",
       "      <td>0.0</td>\n",
       "      <td>0.0</td>\n",
       "      <td>0.0</td>\n",
       "      <td>0.000000</td>\n",
       "      <td>0.459796</td>\n",
       "    </tr>\n",
       "    <tr>\n",
       "      <th>226</th>\n",
       "      <td>0.0</td>\n",
       "      <td>0.346548</td>\n",
       "      <td>0.0</td>\n",
       "      <td>0.000000</td>\n",
       "      <td>0.0</td>\n",
       "      <td>0.0</td>\n",
       "      <td>0.0</td>\n",
       "      <td>0.0</td>\n",
       "      <td>0.0</td>\n",
       "      <td>0.0</td>\n",
       "      <td>...</td>\n",
       "      <td>0.0</td>\n",
       "      <td>0.0</td>\n",
       "      <td>0.0</td>\n",
       "      <td>0.0</td>\n",
       "      <td>0.0</td>\n",
       "      <td>0.0</td>\n",
       "      <td>0.0</td>\n",
       "      <td>0.0</td>\n",
       "      <td>0.000000</td>\n",
       "      <td>0.000000</td>\n",
       "    </tr>\n",
       "  </tbody>\n",
       "</table>\n",
       "<p>227 rows × 312 columns</p>\n",
       "</div>"
      ]
     },
     "metadata": {},
     "execution_count": 27
    }
   ],
   "metadata": {}
  },
  {
   "cell_type": "code",
   "execution_count": 31,
   "source": [
    "# all_important_ingre = []\n",
    "# for index, item in enumerate(denselist):\n",
    "#     scores = {feature: tfidf for feature, tfidf in zip(feature_names, item)}\n",
    "#     sorted_words = sorted(scores.items(), key=lambda x: x[1], reverse=True)\n",
    "#     for word, score in sorted_words[:10]:\n",
    "#         all_important_ingre.append(word)\n",
    "\n",
    "# # print(set(all_important_ingre))\n",
    "# top_ingre = list(set(all_important_ingre))\n",
    "# top_ingre"
   ],
   "outputs": [],
   "metadata": {}
  },
  {
   "cell_type": "code",
   "execution_count": 29,
   "source": [
    "# zeros = np.zeros((len(df_train), len(top_ingre)))\n",
    "# dummies = pd.DataFrame(zeros, columns = top_ingre)"
   ],
   "outputs": [],
   "metadata": {}
  },
  {
   "cell_type": "code",
   "execution_count": 32,
   "source": [
    "# ingredients = df_train['ingredients']\n",
    "# sep_ingre = ingredients.apply(str.split, sep= \", \")\n",
    "# for i, dish in enumerate(sep_ingre):\n",
    "#     dish = list(map(str.lower, dish))\n",
    "#     indices = dummies.columns.get_indexer(dish)\n",
    "#     dummies.iloc[i, indices] = 1\n",
    "# dummies"
   ],
   "outputs": [],
   "metadata": {}
  },
  {
   "cell_type": "code",
   "execution_count": 33,
   "source": [
    "dummies = pd.DataFrame(denselist, columns=feature_names)"
   ],
   "outputs": [],
   "metadata": {}
  },
  {
   "cell_type": "code",
   "execution_count": 34,
   "source": [
    "# one hot encoding the flavors\n",
    "one_hot_encode_data = pd.get_dummies(df_train, columns=['flavor_profile', 'course'])"
   ],
   "outputs": [],
   "metadata": {}
  },
  {
   "cell_type": "code",
   "execution_count": 35,
   "source": [
    "one_hot_encode_data = one_hot_encode_data.join(dummies.add_prefix('ingre_'))\n",
    "one_hot_encode_data.drop(['ingredients', 'diet', 'name'], axis=1, inplace=True)"
   ],
   "outputs": [],
   "metadata": {}
  },
  {
   "cell_type": "code",
   "execution_count": 36,
   "source": [
    "one_hot_encode_data"
   ],
   "outputs": [
    {
     "output_type": "execute_result",
     "data": {
      "text/plain": [
       "     prep_time cook_time is_vegetarian  flavor_profile_bitter  \\\n",
       "0         45.0     quick             1                      0   \n",
       "1         80.0     quick             1                      0   \n",
       "2         15.0    medium             1                      0   \n",
       "3         15.0     quick             1                      0   \n",
       "4         15.0    medium             1                      0   \n",
       "..         ...       ...           ...                    ...   \n",
       "222       15.0    medium             0                      0   \n",
       "223       10.0     quick             1                      0   \n",
       "224        5.0     quick             1                      0   \n",
       "225       20.0    medium             1                      0   \n",
       "226       20.0    medium             1                      0   \n",
       "\n",
       "     flavor_profile_sour  flavor_profile_spicy  flavor_profile_sweet  \\\n",
       "0                      0                     0                     1   \n",
       "1                      0                     0                     1   \n",
       "2                      0                     0                     1   \n",
       "3                      0                     0                     1   \n",
       "4                      0                     0                     1   \n",
       "..                   ...                   ...                   ...   \n",
       "222                    0                     1                     0   \n",
       "223                    0                     1                     0   \n",
       "224                    0                     0                     1   \n",
       "225                    0                     0                     1   \n",
       "226                    0                     0                     1   \n",
       "\n",
       "     course_dessert  course_main course  course_snack  ...  ingre_whipping  \\\n",
       "0                 1                   0             0  ...             0.0   \n",
       "1                 1                   0             0  ...             0.0   \n",
       "2                 1                   0             0  ...             0.0   \n",
       "3                 1                   0             0  ...             0.0   \n",
       "4                 1                   0             0  ...             0.0   \n",
       "..              ...                 ...           ...  ...             ...   \n",
       "222               0                   1             0  ...             0.0   \n",
       "223               0                   1             0  ...             0.0   \n",
       "224               1                   0             0  ...             0.0   \n",
       "225               1                   0             0  ...             0.0   \n",
       "226               1                   0             0  ...             0.0   \n",
       "\n",
       "     ingre_white  ingre_whole  ingre_wild  ingre_wine  ingre_yam  \\\n",
       "0            0.0          0.0         0.0         0.0        0.0   \n",
       "1            0.0          0.0         0.0         0.0        0.0   \n",
       "2            0.0          0.0         0.0         0.0        0.0   \n",
       "3            0.0          0.0         0.0         0.0        0.0   \n",
       "4            0.0          0.0         0.0         0.0        0.0   \n",
       "..           ...          ...         ...         ...        ...   \n",
       "222          0.0          0.0         0.0         0.0        0.0   \n",
       "223          0.0          0.0         0.0         0.0        0.0   \n",
       "224          0.0          0.0         0.0         0.0        0.0   \n",
       "225          0.0          0.0         0.0         0.0        0.0   \n",
       "226          0.0          0.0         0.0         0.0        0.0   \n",
       "\n",
       "     ingre_yellow  ingre_yoghurt  ingre_yogurt  ingre_yolks  \n",
       "0             0.0            0.0      0.531785     0.000000  \n",
       "1             0.0            0.0      0.000000     0.000000  \n",
       "2             0.0            0.0      0.000000     0.000000  \n",
       "3             0.0            0.0      0.000000     0.000000  \n",
       "4             0.0            0.0      0.000000     0.000000  \n",
       "..            ...            ...           ...          ...  \n",
       "222           0.0            0.0      0.000000     0.000000  \n",
       "223           0.0            0.0      0.000000     0.000000  \n",
       "224           0.0            0.0      0.000000     0.000000  \n",
       "225           0.0            0.0      0.000000     0.459796  \n",
       "226           0.0            0.0      0.000000     0.000000  \n",
       "\n",
       "[227 rows x 323 columns]"
      ],
      "text/html": [
       "<div>\n",
       "<style scoped>\n",
       "    .dataframe tbody tr th:only-of-type {\n",
       "        vertical-align: middle;\n",
       "    }\n",
       "\n",
       "    .dataframe tbody tr th {\n",
       "        vertical-align: top;\n",
       "    }\n",
       "\n",
       "    .dataframe thead th {\n",
       "        text-align: right;\n",
       "    }\n",
       "</style>\n",
       "<table border=\"1\" class=\"dataframe\">\n",
       "  <thead>\n",
       "    <tr style=\"text-align: right;\">\n",
       "      <th></th>\n",
       "      <th>prep_time</th>\n",
       "      <th>cook_time</th>\n",
       "      <th>is_vegetarian</th>\n",
       "      <th>flavor_profile_bitter</th>\n",
       "      <th>flavor_profile_sour</th>\n",
       "      <th>flavor_profile_spicy</th>\n",
       "      <th>flavor_profile_sweet</th>\n",
       "      <th>course_dessert</th>\n",
       "      <th>course_main course</th>\n",
       "      <th>course_snack</th>\n",
       "      <th>...</th>\n",
       "      <th>ingre_whipping</th>\n",
       "      <th>ingre_white</th>\n",
       "      <th>ingre_whole</th>\n",
       "      <th>ingre_wild</th>\n",
       "      <th>ingre_wine</th>\n",
       "      <th>ingre_yam</th>\n",
       "      <th>ingre_yellow</th>\n",
       "      <th>ingre_yoghurt</th>\n",
       "      <th>ingre_yogurt</th>\n",
       "      <th>ingre_yolks</th>\n",
       "    </tr>\n",
       "  </thead>\n",
       "  <tbody>\n",
       "    <tr>\n",
       "      <th>0</th>\n",
       "      <td>45.0</td>\n",
       "      <td>quick</td>\n",
       "      <td>1</td>\n",
       "      <td>0</td>\n",
       "      <td>0</td>\n",
       "      <td>0</td>\n",
       "      <td>1</td>\n",
       "      <td>1</td>\n",
       "      <td>0</td>\n",
       "      <td>0</td>\n",
       "      <td>...</td>\n",
       "      <td>0.0</td>\n",
       "      <td>0.0</td>\n",
       "      <td>0.0</td>\n",
       "      <td>0.0</td>\n",
       "      <td>0.0</td>\n",
       "      <td>0.0</td>\n",
       "      <td>0.0</td>\n",
       "      <td>0.0</td>\n",
       "      <td>0.531785</td>\n",
       "      <td>0.000000</td>\n",
       "    </tr>\n",
       "    <tr>\n",
       "      <th>1</th>\n",
       "      <td>80.0</td>\n",
       "      <td>quick</td>\n",
       "      <td>1</td>\n",
       "      <td>0</td>\n",
       "      <td>0</td>\n",
       "      <td>0</td>\n",
       "      <td>1</td>\n",
       "      <td>1</td>\n",
       "      <td>0</td>\n",
       "      <td>0</td>\n",
       "      <td>...</td>\n",
       "      <td>0.0</td>\n",
       "      <td>0.0</td>\n",
       "      <td>0.0</td>\n",
       "      <td>0.0</td>\n",
       "      <td>0.0</td>\n",
       "      <td>0.0</td>\n",
       "      <td>0.0</td>\n",
       "      <td>0.0</td>\n",
       "      <td>0.000000</td>\n",
       "      <td>0.000000</td>\n",
       "    </tr>\n",
       "    <tr>\n",
       "      <th>2</th>\n",
       "      <td>15.0</td>\n",
       "      <td>medium</td>\n",
       "      <td>1</td>\n",
       "      <td>0</td>\n",
       "      <td>0</td>\n",
       "      <td>0</td>\n",
       "      <td>1</td>\n",
       "      <td>1</td>\n",
       "      <td>0</td>\n",
       "      <td>0</td>\n",
       "      <td>...</td>\n",
       "      <td>0.0</td>\n",
       "      <td>0.0</td>\n",
       "      <td>0.0</td>\n",
       "      <td>0.0</td>\n",
       "      <td>0.0</td>\n",
       "      <td>0.0</td>\n",
       "      <td>0.0</td>\n",
       "      <td>0.0</td>\n",
       "      <td>0.000000</td>\n",
       "      <td>0.000000</td>\n",
       "    </tr>\n",
       "    <tr>\n",
       "      <th>3</th>\n",
       "      <td>15.0</td>\n",
       "      <td>quick</td>\n",
       "      <td>1</td>\n",
       "      <td>0</td>\n",
       "      <td>0</td>\n",
       "      <td>0</td>\n",
       "      <td>1</td>\n",
       "      <td>1</td>\n",
       "      <td>0</td>\n",
       "      <td>0</td>\n",
       "      <td>...</td>\n",
       "      <td>0.0</td>\n",
       "      <td>0.0</td>\n",
       "      <td>0.0</td>\n",
       "      <td>0.0</td>\n",
       "      <td>0.0</td>\n",
       "      <td>0.0</td>\n",
       "      <td>0.0</td>\n",
       "      <td>0.0</td>\n",
       "      <td>0.000000</td>\n",
       "      <td>0.000000</td>\n",
       "    </tr>\n",
       "    <tr>\n",
       "      <th>4</th>\n",
       "      <td>15.0</td>\n",
       "      <td>medium</td>\n",
       "      <td>1</td>\n",
       "      <td>0</td>\n",
       "      <td>0</td>\n",
       "      <td>0</td>\n",
       "      <td>1</td>\n",
       "      <td>1</td>\n",
       "      <td>0</td>\n",
       "      <td>0</td>\n",
       "      <td>...</td>\n",
       "      <td>0.0</td>\n",
       "      <td>0.0</td>\n",
       "      <td>0.0</td>\n",
       "      <td>0.0</td>\n",
       "      <td>0.0</td>\n",
       "      <td>0.0</td>\n",
       "      <td>0.0</td>\n",
       "      <td>0.0</td>\n",
       "      <td>0.000000</td>\n",
       "      <td>0.000000</td>\n",
       "    </tr>\n",
       "    <tr>\n",
       "      <th>...</th>\n",
       "      <td>...</td>\n",
       "      <td>...</td>\n",
       "      <td>...</td>\n",
       "      <td>...</td>\n",
       "      <td>...</td>\n",
       "      <td>...</td>\n",
       "      <td>...</td>\n",
       "      <td>...</td>\n",
       "      <td>...</td>\n",
       "      <td>...</td>\n",
       "      <td>...</td>\n",
       "      <td>...</td>\n",
       "      <td>...</td>\n",
       "      <td>...</td>\n",
       "      <td>...</td>\n",
       "      <td>...</td>\n",
       "      <td>...</td>\n",
       "      <td>...</td>\n",
       "      <td>...</td>\n",
       "      <td>...</td>\n",
       "      <td>...</td>\n",
       "    </tr>\n",
       "    <tr>\n",
       "      <th>222</th>\n",
       "      <td>15.0</td>\n",
       "      <td>medium</td>\n",
       "      <td>0</td>\n",
       "      <td>0</td>\n",
       "      <td>0</td>\n",
       "      <td>1</td>\n",
       "      <td>0</td>\n",
       "      <td>0</td>\n",
       "      <td>1</td>\n",
       "      <td>0</td>\n",
       "      <td>...</td>\n",
       "      <td>0.0</td>\n",
       "      <td>0.0</td>\n",
       "      <td>0.0</td>\n",
       "      <td>0.0</td>\n",
       "      <td>0.0</td>\n",
       "      <td>0.0</td>\n",
       "      <td>0.0</td>\n",
       "      <td>0.0</td>\n",
       "      <td>0.000000</td>\n",
       "      <td>0.000000</td>\n",
       "    </tr>\n",
       "    <tr>\n",
       "      <th>223</th>\n",
       "      <td>10.0</td>\n",
       "      <td>quick</td>\n",
       "      <td>1</td>\n",
       "      <td>0</td>\n",
       "      <td>0</td>\n",
       "      <td>1</td>\n",
       "      <td>0</td>\n",
       "      <td>0</td>\n",
       "      <td>1</td>\n",
       "      <td>0</td>\n",
       "      <td>...</td>\n",
       "      <td>0.0</td>\n",
       "      <td>0.0</td>\n",
       "      <td>0.0</td>\n",
       "      <td>0.0</td>\n",
       "      <td>0.0</td>\n",
       "      <td>0.0</td>\n",
       "      <td>0.0</td>\n",
       "      <td>0.0</td>\n",
       "      <td>0.000000</td>\n",
       "      <td>0.000000</td>\n",
       "    </tr>\n",
       "    <tr>\n",
       "      <th>224</th>\n",
       "      <td>5.0</td>\n",
       "      <td>quick</td>\n",
       "      <td>1</td>\n",
       "      <td>0</td>\n",
       "      <td>0</td>\n",
       "      <td>0</td>\n",
       "      <td>1</td>\n",
       "      <td>1</td>\n",
       "      <td>0</td>\n",
       "      <td>0</td>\n",
       "      <td>...</td>\n",
       "      <td>0.0</td>\n",
       "      <td>0.0</td>\n",
       "      <td>0.0</td>\n",
       "      <td>0.0</td>\n",
       "      <td>0.0</td>\n",
       "      <td>0.0</td>\n",
       "      <td>0.0</td>\n",
       "      <td>0.0</td>\n",
       "      <td>0.000000</td>\n",
       "      <td>0.000000</td>\n",
       "    </tr>\n",
       "    <tr>\n",
       "      <th>225</th>\n",
       "      <td>20.0</td>\n",
       "      <td>medium</td>\n",
       "      <td>1</td>\n",
       "      <td>0</td>\n",
       "      <td>0</td>\n",
       "      <td>0</td>\n",
       "      <td>1</td>\n",
       "      <td>1</td>\n",
       "      <td>0</td>\n",
       "      <td>0</td>\n",
       "      <td>...</td>\n",
       "      <td>0.0</td>\n",
       "      <td>0.0</td>\n",
       "      <td>0.0</td>\n",
       "      <td>0.0</td>\n",
       "      <td>0.0</td>\n",
       "      <td>0.0</td>\n",
       "      <td>0.0</td>\n",
       "      <td>0.0</td>\n",
       "      <td>0.000000</td>\n",
       "      <td>0.459796</td>\n",
       "    </tr>\n",
       "    <tr>\n",
       "      <th>226</th>\n",
       "      <td>20.0</td>\n",
       "      <td>medium</td>\n",
       "      <td>1</td>\n",
       "      <td>0</td>\n",
       "      <td>0</td>\n",
       "      <td>0</td>\n",
       "      <td>1</td>\n",
       "      <td>1</td>\n",
       "      <td>0</td>\n",
       "      <td>0</td>\n",
       "      <td>...</td>\n",
       "      <td>0.0</td>\n",
       "      <td>0.0</td>\n",
       "      <td>0.0</td>\n",
       "      <td>0.0</td>\n",
       "      <td>0.0</td>\n",
       "      <td>0.0</td>\n",
       "      <td>0.0</td>\n",
       "      <td>0.0</td>\n",
       "      <td>0.000000</td>\n",
       "      <td>0.000000</td>\n",
       "    </tr>\n",
       "  </tbody>\n",
       "</table>\n",
       "<p>227 rows × 323 columns</p>\n",
       "</div>"
      ]
     },
     "metadata": {},
     "execution_count": 36
    }
   ],
   "metadata": {}
  },
  {
   "cell_type": "code",
   "execution_count": 37,
   "source": [
    "one_hot_encode_data['cook_time'] = one_hot_encode_data['cook_time'].map({'quick': 1, 'medium' : 2, 'slow':3})"
   ],
   "outputs": [],
   "metadata": {}
  },
  {
   "cell_type": "code",
   "execution_count": 38,
   "source": [
    "# use KNN to impute the values for cook time\n",
    "from sklearn.impute import KNNImputer\n",
    "\n",
    "imputer = KNNImputer(n_neighbors=3)\n",
    "one_hot_encode_data_full = imputer.fit_transform(one_hot_encode_data)"
   ],
   "outputs": [],
   "metadata": {}
  },
  {
   "cell_type": "markdown",
   "source": [
    "### 1.5 Train test split"
   ],
   "metadata": {}
  },
  {
   "cell_type": "code",
   "execution_count": 39,
   "source": [
    "train_info = pd.DataFrame(one_hot_encode_data_full, columns=one_hot_encode_data.columns)\n",
    "train_info.head()"
   ],
   "outputs": [
    {
     "output_type": "execute_result",
     "data": {
      "text/plain": [
       "   prep_time  cook_time  is_vegetarian  flavor_profile_bitter  \\\n",
       "0       45.0        1.0            1.0                    0.0   \n",
       "1       80.0        1.0            1.0                    0.0   \n",
       "2       15.0        2.0            1.0                    0.0   \n",
       "3       15.0        1.0            1.0                    0.0   \n",
       "4       15.0        2.0            1.0                    0.0   \n",
       "\n",
       "   flavor_profile_sour  flavor_profile_spicy  flavor_profile_sweet  \\\n",
       "0                  0.0                   0.0                   1.0   \n",
       "1                  0.0                   0.0                   1.0   \n",
       "2                  0.0                   0.0                   1.0   \n",
       "3                  0.0                   0.0                   1.0   \n",
       "4                  0.0                   0.0                   1.0   \n",
       "\n",
       "   course_dessert  course_main course  course_snack  ...  ingre_whipping  \\\n",
       "0             1.0                 0.0           0.0  ...             0.0   \n",
       "1             1.0                 0.0           0.0  ...             0.0   \n",
       "2             1.0                 0.0           0.0  ...             0.0   \n",
       "3             1.0                 0.0           0.0  ...             0.0   \n",
       "4             1.0                 0.0           0.0  ...             0.0   \n",
       "\n",
       "   ingre_white  ingre_whole  ingre_wild  ingre_wine  ingre_yam  ingre_yellow  \\\n",
       "0          0.0          0.0         0.0         0.0        0.0           0.0   \n",
       "1          0.0          0.0         0.0         0.0        0.0           0.0   \n",
       "2          0.0          0.0         0.0         0.0        0.0           0.0   \n",
       "3          0.0          0.0         0.0         0.0        0.0           0.0   \n",
       "4          0.0          0.0         0.0         0.0        0.0           0.0   \n",
       "\n",
       "   ingre_yoghurt  ingre_yogurt  ingre_yolks  \n",
       "0            0.0      0.531785          0.0  \n",
       "1            0.0      0.000000          0.0  \n",
       "2            0.0      0.000000          0.0  \n",
       "3            0.0      0.000000          0.0  \n",
       "4            0.0      0.000000          0.0  \n",
       "\n",
       "[5 rows x 323 columns]"
      ],
      "text/html": [
       "<div>\n",
       "<style scoped>\n",
       "    .dataframe tbody tr th:only-of-type {\n",
       "        vertical-align: middle;\n",
       "    }\n",
       "\n",
       "    .dataframe tbody tr th {\n",
       "        vertical-align: top;\n",
       "    }\n",
       "\n",
       "    .dataframe thead th {\n",
       "        text-align: right;\n",
       "    }\n",
       "</style>\n",
       "<table border=\"1\" class=\"dataframe\">\n",
       "  <thead>\n",
       "    <tr style=\"text-align: right;\">\n",
       "      <th></th>\n",
       "      <th>prep_time</th>\n",
       "      <th>cook_time</th>\n",
       "      <th>is_vegetarian</th>\n",
       "      <th>flavor_profile_bitter</th>\n",
       "      <th>flavor_profile_sour</th>\n",
       "      <th>flavor_profile_spicy</th>\n",
       "      <th>flavor_profile_sweet</th>\n",
       "      <th>course_dessert</th>\n",
       "      <th>course_main course</th>\n",
       "      <th>course_snack</th>\n",
       "      <th>...</th>\n",
       "      <th>ingre_whipping</th>\n",
       "      <th>ingre_white</th>\n",
       "      <th>ingre_whole</th>\n",
       "      <th>ingre_wild</th>\n",
       "      <th>ingre_wine</th>\n",
       "      <th>ingre_yam</th>\n",
       "      <th>ingre_yellow</th>\n",
       "      <th>ingre_yoghurt</th>\n",
       "      <th>ingre_yogurt</th>\n",
       "      <th>ingre_yolks</th>\n",
       "    </tr>\n",
       "  </thead>\n",
       "  <tbody>\n",
       "    <tr>\n",
       "      <th>0</th>\n",
       "      <td>45.0</td>\n",
       "      <td>1.0</td>\n",
       "      <td>1.0</td>\n",
       "      <td>0.0</td>\n",
       "      <td>0.0</td>\n",
       "      <td>0.0</td>\n",
       "      <td>1.0</td>\n",
       "      <td>1.0</td>\n",
       "      <td>0.0</td>\n",
       "      <td>0.0</td>\n",
       "      <td>...</td>\n",
       "      <td>0.0</td>\n",
       "      <td>0.0</td>\n",
       "      <td>0.0</td>\n",
       "      <td>0.0</td>\n",
       "      <td>0.0</td>\n",
       "      <td>0.0</td>\n",
       "      <td>0.0</td>\n",
       "      <td>0.0</td>\n",
       "      <td>0.531785</td>\n",
       "      <td>0.0</td>\n",
       "    </tr>\n",
       "    <tr>\n",
       "      <th>1</th>\n",
       "      <td>80.0</td>\n",
       "      <td>1.0</td>\n",
       "      <td>1.0</td>\n",
       "      <td>0.0</td>\n",
       "      <td>0.0</td>\n",
       "      <td>0.0</td>\n",
       "      <td>1.0</td>\n",
       "      <td>1.0</td>\n",
       "      <td>0.0</td>\n",
       "      <td>0.0</td>\n",
       "      <td>...</td>\n",
       "      <td>0.0</td>\n",
       "      <td>0.0</td>\n",
       "      <td>0.0</td>\n",
       "      <td>0.0</td>\n",
       "      <td>0.0</td>\n",
       "      <td>0.0</td>\n",
       "      <td>0.0</td>\n",
       "      <td>0.0</td>\n",
       "      <td>0.000000</td>\n",
       "      <td>0.0</td>\n",
       "    </tr>\n",
       "    <tr>\n",
       "      <th>2</th>\n",
       "      <td>15.0</td>\n",
       "      <td>2.0</td>\n",
       "      <td>1.0</td>\n",
       "      <td>0.0</td>\n",
       "      <td>0.0</td>\n",
       "      <td>0.0</td>\n",
       "      <td>1.0</td>\n",
       "      <td>1.0</td>\n",
       "      <td>0.0</td>\n",
       "      <td>0.0</td>\n",
       "      <td>...</td>\n",
       "      <td>0.0</td>\n",
       "      <td>0.0</td>\n",
       "      <td>0.0</td>\n",
       "      <td>0.0</td>\n",
       "      <td>0.0</td>\n",
       "      <td>0.0</td>\n",
       "      <td>0.0</td>\n",
       "      <td>0.0</td>\n",
       "      <td>0.000000</td>\n",
       "      <td>0.0</td>\n",
       "    </tr>\n",
       "    <tr>\n",
       "      <th>3</th>\n",
       "      <td>15.0</td>\n",
       "      <td>1.0</td>\n",
       "      <td>1.0</td>\n",
       "      <td>0.0</td>\n",
       "      <td>0.0</td>\n",
       "      <td>0.0</td>\n",
       "      <td>1.0</td>\n",
       "      <td>1.0</td>\n",
       "      <td>0.0</td>\n",
       "      <td>0.0</td>\n",
       "      <td>...</td>\n",
       "      <td>0.0</td>\n",
       "      <td>0.0</td>\n",
       "      <td>0.0</td>\n",
       "      <td>0.0</td>\n",
       "      <td>0.0</td>\n",
       "      <td>0.0</td>\n",
       "      <td>0.0</td>\n",
       "      <td>0.0</td>\n",
       "      <td>0.000000</td>\n",
       "      <td>0.0</td>\n",
       "    </tr>\n",
       "    <tr>\n",
       "      <th>4</th>\n",
       "      <td>15.0</td>\n",
       "      <td>2.0</td>\n",
       "      <td>1.0</td>\n",
       "      <td>0.0</td>\n",
       "      <td>0.0</td>\n",
       "      <td>0.0</td>\n",
       "      <td>1.0</td>\n",
       "      <td>1.0</td>\n",
       "      <td>0.0</td>\n",
       "      <td>0.0</td>\n",
       "      <td>...</td>\n",
       "      <td>0.0</td>\n",
       "      <td>0.0</td>\n",
       "      <td>0.0</td>\n",
       "      <td>0.0</td>\n",
       "      <td>0.0</td>\n",
       "      <td>0.0</td>\n",
       "      <td>0.0</td>\n",
       "      <td>0.0</td>\n",
       "      <td>0.000000</td>\n",
       "      <td>0.0</td>\n",
       "    </tr>\n",
       "  </tbody>\n",
       "</table>\n",
       "<p>5 rows × 323 columns</p>\n",
       "</div>"
      ]
     },
     "metadata": {},
     "execution_count": 39
    }
   ],
   "metadata": {}
  },
  {
   "cell_type": "code",
   "execution_count": 40,
   "source": [
    "# ytrain\n",
    "cook_time = one_hot_encode_data['cook_time']"
   ],
   "outputs": [],
   "metadata": {}
  },
  {
   "cell_type": "code",
   "execution_count": 41,
   "source": [
    "x_train, x_test, y_train, y_test = train_test_split(train_info.drop('cook_time', axis=1), cook_time, test_size=0.3, \n",
    "random_state=8)"
   ],
   "outputs": [],
   "metadata": {}
  },
  {
   "cell_type": "code",
   "execution_count": 50,
   "source": [
    "x_full = train_info.drop('cook_time', axis=1)"
   ],
   "outputs": [],
   "metadata": {}
  },
  {
   "cell_type": "markdown",
   "source": [
    "# 2. Baseline model"
   ],
   "metadata": {}
  },
  {
   "cell_type": "code",
   "execution_count": 45,
   "source": [
    "from sklearn.model_selection import cross_val_score\n",
    "from sklearn.model_selection import RepeatedStratifiedKFold\n",
    "from sklearn.dummy import DummyClassifier\n",
    "from numpy import mean\n",
    "from numpy import std\n",
    "# evaluate a model\n",
    "def evaluate_model(X, y, model):\n",
    "\t# define evaluation procedure\n",
    "\tcv = RepeatedStratifiedKFold(n_splits=5, n_repeats=3, random_state=1)\n",
    "\t# evaluate model\n",
    "\tscores = cross_val_score(model, X, y, scoring='accuracy', cv=cv, n_jobs=-1)\n",
    "\treturn scores"
   ],
   "outputs": [],
   "metadata": {}
  },
  {
   "cell_type": "code",
   "execution_count": 51,
   "source": [
    "model = DummyClassifier(strategy='most_frequent')\n",
    "# evaluate the model\n",
    "scores = evaluate_model(x_full, cook_time, model)\n",
    "# summarize performance\n",
    "print('Mean Accuracy: %.3f (%.3f)' % (mean(scores), std(scores)))"
   ],
   "outputs": [
    {
     "output_type": "stream",
     "name": "stdout",
     "text": [
      "Mean Accuracy: 0.577 (0.007)\n"
     ]
    }
   ],
   "metadata": {}
  },
  {
   "cell_type": "code",
   "execution_count": 41,
   "source": [
    "# def print_base_model_metrics(model, X_train, X_test, Y_train, Y_test):\n",
    "#     base_pred_train = model.predict(X_train)\n",
    "#     base_pred_test = model.predict(X_test)\n",
    "#     print(\"The training accuracy is {}\".format(model.score(X_train, Y_train)))\n",
    "#     print(\"The testing accuracy is {}\".format(model.score(X_test, Y_test)))\n",
    "#     print(classification_report(Y_test, base_pred_test))\n",
    "\n",
    "# def print_base_model_metrics_balanced(model, X_train, X_test, Y_train, Y_test):\n",
    "#     base_pred_train = model.predict(X_train)\n",
    "#     base_pred_test = model.predict(X_test)\n",
    "#     print(\"The training accuracy is {}\".format(balanced_accuracy_score(Y_train, base_pred_train)))\n",
    "#     print(\"The testing accuracy is {}\".format(balanced_accuracy_score(Y_test, base_pred_test)))\n",
    "#     print(classification_report_imbalanced(Y_test, base_pred_test))"
   ],
   "outputs": [],
   "metadata": {}
  },
  {
   "cell_type": "code",
   "execution_count": 52,
   "source": [
    "# base logistic regression model\n",
    "base_lm = LogisticRegression()\n",
    "scores = evaluate_model(x_full, cook_time, base_lm)\n",
    "print('Mean Accuracy: %.3f (%.3f)' % (mean(scores), std(scores)))\n",
    "# base_lm.fit(x_train, y_train)\n",
    "# print_base_model_metrics_balanced(base_lm, x_train, x_test, y_train, y_test)"
   ],
   "outputs": [
    {
     "output_type": "stream",
     "name": "stdout",
     "text": [
      "Mean Accuracy: 0.614 (0.048)\n"
     ]
    }
   ],
   "metadata": {}
  },
  {
   "cell_type": "code",
   "execution_count": 53,
   "source": [
    "from sklearn.ensemble import RandomForestClassifier\n",
    "\n",
    "# base random forest model\n",
    "base_rfc = RandomForestClassifier(random_state=0)\n",
    "# base_rfc.fit(x_train, y_train)\n",
    "# print_base_model_metrics_balanced(base_rfc, x_train, x_test, y_train, y_test)\n",
    "scores = evaluate_model(x_full, cook_time, base_rfc)\n",
    "print('Mean Accuracy: %.3f (%.3f)' % (mean(scores), std(scores)))"
   ],
   "outputs": [
    {
     "output_type": "stream",
     "name": "stdout",
     "text": [
      "Mean Accuracy: 0.601 (0.047)\n"
     ]
    }
   ],
   "metadata": {}
  },
  {
   "cell_type": "code",
   "execution_count": 55,
   "source": [
    "from sklearn.naive_bayes import MultinomialNB\n",
    "base_clf = MultinomialNB()\n",
    "# base_clf.fit(x_train, y_train)\n",
    "# print_base_model_metrics_balanced(base_clf, x_train, x_test, y_train, y_test)\n",
    "scores = evaluate_model(x_full, cook_time, base_clf)\n",
    "print('Mean Accuracy: %.3f (%.3f)' % (mean(scores), std(scores)))"
   ],
   "outputs": [
    {
     "output_type": "stream",
     "name": "stdout",
     "text": [
      "Mean Accuracy: 0.576 (0.048)\n"
     ]
    }
   ],
   "metadata": {}
  },
  {
   "cell_type": "code",
   "execution_count": 58,
   "source": [
    "from sklearn.svm import SVC\n",
    "base_svm = SVC(random_state=0)\n",
    "# base_svm.fit(x_train, y_train)\n",
    "# print_base_model_metrics_balanced(base_svm, x_train, x_test, y_train, y_test)\n",
    "scores = evaluate_model(x_full, cook_time, base_svm)\n",
    "print('Mean Accuracy: %.3f (%.3f)' % (mean(scores), std(scores)))"
   ],
   "outputs": [
    {
     "output_type": "stream",
     "name": "stdout",
     "text": [
      "Mean Accuracy: 0.583 (0.019)\n"
     ]
    }
   ],
   "metadata": {}
  },
  {
   "cell_type": "markdown",
   "source": [
    "# 3. Feature engineering"
   ],
   "metadata": {}
  },
  {
   "cell_type": "markdown",
   "source": [
    "### Initial "
   ],
   "metadata": {}
  },
  {
   "cell_type": "code",
   "execution_count": 59,
   "source": [
    "data_improve = train_info.copy()\n",
    "data_improve = data_improve.reset_index(drop = True)"
   ],
   "outputs": [],
   "metadata": {}
  },
  {
   "cell_type": "code",
   "execution_count": 60,
   "source": [
    "# standardize \n",
    "from sklearn.preprocessing import PowerTransformer\n",
    "scaler = PowerTransformer(method='box-cox', standardize=False)\n",
    "data_improve['prep_time'] = scaler.fit_transform(data_improve['prep_time'].values.reshape(-1, 1))\n",
    "data_improve"
   ],
   "outputs": [
    {
     "output_type": "execute_result",
     "data": {
      "text/plain": [
       "     prep_time  cook_time  is_vegetarian  flavor_profile_bitter  \\\n",
       "0     1.463390        1.0            1.0                    0.0   \n",
       "1     1.509367        1.0            1.0                    0.0   \n",
       "2     1.314016        2.0            1.0                    0.0   \n",
       "3     1.314016        1.0            1.0                    0.0   \n",
       "4     1.314016        2.0            1.0                    0.0   \n",
       "..         ...        ...            ...                    ...   \n",
       "222   1.314016        2.0            0.0                    0.0   \n",
       "223   1.227681        1.0            1.0                    0.0   \n",
       "224   1.019336        1.0            1.0                    0.0   \n",
       "225   1.363390        2.0            1.0                    0.0   \n",
       "226   1.363390        2.0            1.0                    0.0   \n",
       "\n",
       "     flavor_profile_sour  flavor_profile_spicy  flavor_profile_sweet  \\\n",
       "0                    0.0                   0.0                   1.0   \n",
       "1                    0.0                   0.0                   1.0   \n",
       "2                    0.0                   0.0                   1.0   \n",
       "3                    0.0                   0.0                   1.0   \n",
       "4                    0.0                   0.0                   1.0   \n",
       "..                   ...                   ...                   ...   \n",
       "222                  0.0                   1.0                   0.0   \n",
       "223                  0.0                   1.0                   0.0   \n",
       "224                  0.0                   0.0                   1.0   \n",
       "225                  0.0                   0.0                   1.0   \n",
       "226                  0.0                   0.0                   1.0   \n",
       "\n",
       "     course_dessert  course_main course  course_snack  ...  ingre_whipping  \\\n",
       "0               1.0                 0.0           0.0  ...             0.0   \n",
       "1               1.0                 0.0           0.0  ...             0.0   \n",
       "2               1.0                 0.0           0.0  ...             0.0   \n",
       "3               1.0                 0.0           0.0  ...             0.0   \n",
       "4               1.0                 0.0           0.0  ...             0.0   \n",
       "..              ...                 ...           ...  ...             ...   \n",
       "222             0.0                 1.0           0.0  ...             0.0   \n",
       "223             0.0                 1.0           0.0  ...             0.0   \n",
       "224             1.0                 0.0           0.0  ...             0.0   \n",
       "225             1.0                 0.0           0.0  ...             0.0   \n",
       "226             1.0                 0.0           0.0  ...             0.0   \n",
       "\n",
       "     ingre_white  ingre_whole  ingre_wild  ingre_wine  ingre_yam  \\\n",
       "0            0.0          0.0         0.0         0.0        0.0   \n",
       "1            0.0          0.0         0.0         0.0        0.0   \n",
       "2            0.0          0.0         0.0         0.0        0.0   \n",
       "3            0.0          0.0         0.0         0.0        0.0   \n",
       "4            0.0          0.0         0.0         0.0        0.0   \n",
       "..           ...          ...         ...         ...        ...   \n",
       "222          0.0          0.0         0.0         0.0        0.0   \n",
       "223          0.0          0.0         0.0         0.0        0.0   \n",
       "224          0.0          0.0         0.0         0.0        0.0   \n",
       "225          0.0          0.0         0.0         0.0        0.0   \n",
       "226          0.0          0.0         0.0         0.0        0.0   \n",
       "\n",
       "     ingre_yellow  ingre_yoghurt  ingre_yogurt  ingre_yolks  \n",
       "0             0.0            0.0      0.531785     0.000000  \n",
       "1             0.0            0.0      0.000000     0.000000  \n",
       "2             0.0            0.0      0.000000     0.000000  \n",
       "3             0.0            0.0      0.000000     0.000000  \n",
       "4             0.0            0.0      0.000000     0.000000  \n",
       "..            ...            ...           ...          ...  \n",
       "222           0.0            0.0      0.000000     0.000000  \n",
       "223           0.0            0.0      0.000000     0.000000  \n",
       "224           0.0            0.0      0.000000     0.000000  \n",
       "225           0.0            0.0      0.000000     0.459796  \n",
       "226           0.0            0.0      0.000000     0.000000  \n",
       "\n",
       "[227 rows x 323 columns]"
      ],
      "text/html": [
       "<div>\n",
       "<style scoped>\n",
       "    .dataframe tbody tr th:only-of-type {\n",
       "        vertical-align: middle;\n",
       "    }\n",
       "\n",
       "    .dataframe tbody tr th {\n",
       "        vertical-align: top;\n",
       "    }\n",
       "\n",
       "    .dataframe thead th {\n",
       "        text-align: right;\n",
       "    }\n",
       "</style>\n",
       "<table border=\"1\" class=\"dataframe\">\n",
       "  <thead>\n",
       "    <tr style=\"text-align: right;\">\n",
       "      <th></th>\n",
       "      <th>prep_time</th>\n",
       "      <th>cook_time</th>\n",
       "      <th>is_vegetarian</th>\n",
       "      <th>flavor_profile_bitter</th>\n",
       "      <th>flavor_profile_sour</th>\n",
       "      <th>flavor_profile_spicy</th>\n",
       "      <th>flavor_profile_sweet</th>\n",
       "      <th>course_dessert</th>\n",
       "      <th>course_main course</th>\n",
       "      <th>course_snack</th>\n",
       "      <th>...</th>\n",
       "      <th>ingre_whipping</th>\n",
       "      <th>ingre_white</th>\n",
       "      <th>ingre_whole</th>\n",
       "      <th>ingre_wild</th>\n",
       "      <th>ingre_wine</th>\n",
       "      <th>ingre_yam</th>\n",
       "      <th>ingre_yellow</th>\n",
       "      <th>ingre_yoghurt</th>\n",
       "      <th>ingre_yogurt</th>\n",
       "      <th>ingre_yolks</th>\n",
       "    </tr>\n",
       "  </thead>\n",
       "  <tbody>\n",
       "    <tr>\n",
       "      <th>0</th>\n",
       "      <td>1.463390</td>\n",
       "      <td>1.0</td>\n",
       "      <td>1.0</td>\n",
       "      <td>0.0</td>\n",
       "      <td>0.0</td>\n",
       "      <td>0.0</td>\n",
       "      <td>1.0</td>\n",
       "      <td>1.0</td>\n",
       "      <td>0.0</td>\n",
       "      <td>0.0</td>\n",
       "      <td>...</td>\n",
       "      <td>0.0</td>\n",
       "      <td>0.0</td>\n",
       "      <td>0.0</td>\n",
       "      <td>0.0</td>\n",
       "      <td>0.0</td>\n",
       "      <td>0.0</td>\n",
       "      <td>0.0</td>\n",
       "      <td>0.0</td>\n",
       "      <td>0.531785</td>\n",
       "      <td>0.000000</td>\n",
       "    </tr>\n",
       "    <tr>\n",
       "      <th>1</th>\n",
       "      <td>1.509367</td>\n",
       "      <td>1.0</td>\n",
       "      <td>1.0</td>\n",
       "      <td>0.0</td>\n",
       "      <td>0.0</td>\n",
       "      <td>0.0</td>\n",
       "      <td>1.0</td>\n",
       "      <td>1.0</td>\n",
       "      <td>0.0</td>\n",
       "      <td>0.0</td>\n",
       "      <td>...</td>\n",
       "      <td>0.0</td>\n",
       "      <td>0.0</td>\n",
       "      <td>0.0</td>\n",
       "      <td>0.0</td>\n",
       "      <td>0.0</td>\n",
       "      <td>0.0</td>\n",
       "      <td>0.0</td>\n",
       "      <td>0.0</td>\n",
       "      <td>0.000000</td>\n",
       "      <td>0.000000</td>\n",
       "    </tr>\n",
       "    <tr>\n",
       "      <th>2</th>\n",
       "      <td>1.314016</td>\n",
       "      <td>2.0</td>\n",
       "      <td>1.0</td>\n",
       "      <td>0.0</td>\n",
       "      <td>0.0</td>\n",
       "      <td>0.0</td>\n",
       "      <td>1.0</td>\n",
       "      <td>1.0</td>\n",
       "      <td>0.0</td>\n",
       "      <td>0.0</td>\n",
       "      <td>...</td>\n",
       "      <td>0.0</td>\n",
       "      <td>0.0</td>\n",
       "      <td>0.0</td>\n",
       "      <td>0.0</td>\n",
       "      <td>0.0</td>\n",
       "      <td>0.0</td>\n",
       "      <td>0.0</td>\n",
       "      <td>0.0</td>\n",
       "      <td>0.000000</td>\n",
       "      <td>0.000000</td>\n",
       "    </tr>\n",
       "    <tr>\n",
       "      <th>3</th>\n",
       "      <td>1.314016</td>\n",
       "      <td>1.0</td>\n",
       "      <td>1.0</td>\n",
       "      <td>0.0</td>\n",
       "      <td>0.0</td>\n",
       "      <td>0.0</td>\n",
       "      <td>1.0</td>\n",
       "      <td>1.0</td>\n",
       "      <td>0.0</td>\n",
       "      <td>0.0</td>\n",
       "      <td>...</td>\n",
       "      <td>0.0</td>\n",
       "      <td>0.0</td>\n",
       "      <td>0.0</td>\n",
       "      <td>0.0</td>\n",
       "      <td>0.0</td>\n",
       "      <td>0.0</td>\n",
       "      <td>0.0</td>\n",
       "      <td>0.0</td>\n",
       "      <td>0.000000</td>\n",
       "      <td>0.000000</td>\n",
       "    </tr>\n",
       "    <tr>\n",
       "      <th>4</th>\n",
       "      <td>1.314016</td>\n",
       "      <td>2.0</td>\n",
       "      <td>1.0</td>\n",
       "      <td>0.0</td>\n",
       "      <td>0.0</td>\n",
       "      <td>0.0</td>\n",
       "      <td>1.0</td>\n",
       "      <td>1.0</td>\n",
       "      <td>0.0</td>\n",
       "      <td>0.0</td>\n",
       "      <td>...</td>\n",
       "      <td>0.0</td>\n",
       "      <td>0.0</td>\n",
       "      <td>0.0</td>\n",
       "      <td>0.0</td>\n",
       "      <td>0.0</td>\n",
       "      <td>0.0</td>\n",
       "      <td>0.0</td>\n",
       "      <td>0.0</td>\n",
       "      <td>0.000000</td>\n",
       "      <td>0.000000</td>\n",
       "    </tr>\n",
       "    <tr>\n",
       "      <th>...</th>\n",
       "      <td>...</td>\n",
       "      <td>...</td>\n",
       "      <td>...</td>\n",
       "      <td>...</td>\n",
       "      <td>...</td>\n",
       "      <td>...</td>\n",
       "      <td>...</td>\n",
       "      <td>...</td>\n",
       "      <td>...</td>\n",
       "      <td>...</td>\n",
       "      <td>...</td>\n",
       "      <td>...</td>\n",
       "      <td>...</td>\n",
       "      <td>...</td>\n",
       "      <td>...</td>\n",
       "      <td>...</td>\n",
       "      <td>...</td>\n",
       "      <td>...</td>\n",
       "      <td>...</td>\n",
       "      <td>...</td>\n",
       "      <td>...</td>\n",
       "    </tr>\n",
       "    <tr>\n",
       "      <th>222</th>\n",
       "      <td>1.314016</td>\n",
       "      <td>2.0</td>\n",
       "      <td>0.0</td>\n",
       "      <td>0.0</td>\n",
       "      <td>0.0</td>\n",
       "      <td>1.0</td>\n",
       "      <td>0.0</td>\n",
       "      <td>0.0</td>\n",
       "      <td>1.0</td>\n",
       "      <td>0.0</td>\n",
       "      <td>...</td>\n",
       "      <td>0.0</td>\n",
       "      <td>0.0</td>\n",
       "      <td>0.0</td>\n",
       "      <td>0.0</td>\n",
       "      <td>0.0</td>\n",
       "      <td>0.0</td>\n",
       "      <td>0.0</td>\n",
       "      <td>0.0</td>\n",
       "      <td>0.000000</td>\n",
       "      <td>0.000000</td>\n",
       "    </tr>\n",
       "    <tr>\n",
       "      <th>223</th>\n",
       "      <td>1.227681</td>\n",
       "      <td>1.0</td>\n",
       "      <td>1.0</td>\n",
       "      <td>0.0</td>\n",
       "      <td>0.0</td>\n",
       "      <td>1.0</td>\n",
       "      <td>0.0</td>\n",
       "      <td>0.0</td>\n",
       "      <td>1.0</td>\n",
       "      <td>0.0</td>\n",
       "      <td>...</td>\n",
       "      <td>0.0</td>\n",
       "      <td>0.0</td>\n",
       "      <td>0.0</td>\n",
       "      <td>0.0</td>\n",
       "      <td>0.0</td>\n",
       "      <td>0.0</td>\n",
       "      <td>0.0</td>\n",
       "      <td>0.0</td>\n",
       "      <td>0.000000</td>\n",
       "      <td>0.000000</td>\n",
       "    </tr>\n",
       "    <tr>\n",
       "      <th>224</th>\n",
       "      <td>1.019336</td>\n",
       "      <td>1.0</td>\n",
       "      <td>1.0</td>\n",
       "      <td>0.0</td>\n",
       "      <td>0.0</td>\n",
       "      <td>0.0</td>\n",
       "      <td>1.0</td>\n",
       "      <td>1.0</td>\n",
       "      <td>0.0</td>\n",
       "      <td>0.0</td>\n",
       "      <td>...</td>\n",
       "      <td>0.0</td>\n",
       "      <td>0.0</td>\n",
       "      <td>0.0</td>\n",
       "      <td>0.0</td>\n",
       "      <td>0.0</td>\n",
       "      <td>0.0</td>\n",
       "      <td>0.0</td>\n",
       "      <td>0.0</td>\n",
       "      <td>0.000000</td>\n",
       "      <td>0.000000</td>\n",
       "    </tr>\n",
       "    <tr>\n",
       "      <th>225</th>\n",
       "      <td>1.363390</td>\n",
       "      <td>2.0</td>\n",
       "      <td>1.0</td>\n",
       "      <td>0.0</td>\n",
       "      <td>0.0</td>\n",
       "      <td>0.0</td>\n",
       "      <td>1.0</td>\n",
       "      <td>1.0</td>\n",
       "      <td>0.0</td>\n",
       "      <td>0.0</td>\n",
       "      <td>...</td>\n",
       "      <td>0.0</td>\n",
       "      <td>0.0</td>\n",
       "      <td>0.0</td>\n",
       "      <td>0.0</td>\n",
       "      <td>0.0</td>\n",
       "      <td>0.0</td>\n",
       "      <td>0.0</td>\n",
       "      <td>0.0</td>\n",
       "      <td>0.000000</td>\n",
       "      <td>0.459796</td>\n",
       "    </tr>\n",
       "    <tr>\n",
       "      <th>226</th>\n",
       "      <td>1.363390</td>\n",
       "      <td>2.0</td>\n",
       "      <td>1.0</td>\n",
       "      <td>0.0</td>\n",
       "      <td>0.0</td>\n",
       "      <td>0.0</td>\n",
       "      <td>1.0</td>\n",
       "      <td>1.0</td>\n",
       "      <td>0.0</td>\n",
       "      <td>0.0</td>\n",
       "      <td>...</td>\n",
       "      <td>0.0</td>\n",
       "      <td>0.0</td>\n",
       "      <td>0.0</td>\n",
       "      <td>0.0</td>\n",
       "      <td>0.0</td>\n",
       "      <td>0.0</td>\n",
       "      <td>0.0</td>\n",
       "      <td>0.0</td>\n",
       "      <td>0.000000</td>\n",
       "      <td>0.000000</td>\n",
       "    </tr>\n",
       "  </tbody>\n",
       "</table>\n",
       "<p>227 rows × 323 columns</p>\n",
       "</div>"
      ]
     },
     "metadata": {},
     "execution_count": 60
    }
   ],
   "metadata": {}
  },
  {
   "cell_type": "code",
   "execution_count": 61,
   "source": [
    "sns.histplot(data=data_improve, x='prep_time')"
   ],
   "outputs": [
    {
     "output_type": "execute_result",
     "data": {
      "text/plain": [
       "<matplotlib.axes._subplots.AxesSubplot at 0x1b336bb150>"
      ]
     },
     "metadata": {},
     "execution_count": 61
    },
    {
     "output_type": "display_data",
     "data": {
      "text/plain": [
       "<Figure size 432x288 with 1 Axes>"
      ],
      "image/png": "[encoded data removed]"
     },
     "metadata": {
      "needs_background": "light"
     }
    }
   ],
   "metadata": {}
  },
  {
   "cell_type": "code",
   "execution_count": 62,
   "source": [
    "x_train2, x_test2, y_train2, y_test2 = train_test_split(data_improve.drop('cook_time', axis=1), data_improve['cook_time'],\n",
    " test_size=0.15, random_state=0)"
   ],
   "outputs": [],
   "metadata": {}
  },
  {
   "cell_type": "code",
   "execution_count": 63,
   "source": [
    "x_full2 = data_improve.drop('cook_time', axis=1)\n",
    "y_full2 = data_improve['cook_time']"
   ],
   "outputs": [],
   "metadata": {}
  },
  {
   "cell_type": "code",
   "execution_count": 64,
   "source": [
    "lm = LogisticRegression()\n",
    "scores = evaluate_model(x_full2, y_full2, lm)\n",
    "print('Mean Accuracy: %.3f (%.3f)' % (mean(scores), std(scores)))"
   ],
   "outputs": [
    {
     "output_type": "stream",
     "name": "stdout",
     "text": [
      "Mean Accuracy: 0.598 (0.047)\n"
     ]
    }
   ],
   "metadata": {}
  },
  {
   "cell_type": "code",
   "execution_count": 65,
   "source": [
    "rfc = RandomForestClassifier(random_state=0)\n",
    "scores = evaluate_model(x_full2, y_full2, rfc)\n",
    "print('Mean Accuracy: %.3f (%.3f)' % (mean(scores), std(scores)))"
   ],
   "outputs": [
    {
     "output_type": "stream",
     "name": "stdout",
     "text": [
      "Mean Accuracy: 0.602 (0.047)\n"
     ]
    }
   ],
   "metadata": {}
  },
  {
   "cell_type": "code",
   "execution_count": 66,
   "source": [
    "clf = MultinomialNB()\n",
    "scores = evaluate_model(x_full2, y_full2, clf)\n",
    "print('Mean Accuracy: %.3f (%.3f)' % (mean(scores), std(scores)))"
   ],
   "outputs": [
    {
     "output_type": "stream",
     "name": "stdout",
     "text": [
      "Mean Accuracy: 0.596 (0.042)\n"
     ]
    }
   ],
   "metadata": {}
  },
  {
   "cell_type": "code",
   "execution_count": 67,
   "source": [
    "svm = SVC(random_state=0)\n",
    "scores = evaluate_model(x_full2, y_full2, svm)\n",
    "print('Mean Accuracy: %.3f (%.3f)' % (mean(scores), std(scores)))"
   ],
   "outputs": [
    {
     "output_type": "stream",
     "name": "stdout",
     "text": [
      "Mean Accuracy: 0.596 (0.030)\n"
     ]
    }
   ],
   "metadata": {}
  },
  {
   "cell_type": "code",
   "execution_count": 68,
   "source": [
    "X_resampled, y_resampled = SMOTENC(categorical_features=range(1, 222), random_state=0, \n",
    "sampling_strategy='minority').fit_resample(x_full2, y_full2)"
   ],
   "outputs": [],
   "metadata": {}
  },
  {
   "cell_type": "code",
   "execution_count": 69,
   "source": [
    "lm = LogisticRegression()\n",
    "scores = evaluate_model(X_resampled, y_resampled, lm)\n",
    "print('Mean Accuracy: %.3f (%.3f)' % (mean(scores), std(scores)))\n",
    "\n",
    "rfc = RandomForestClassifier(random_state=0)\n",
    "scores = evaluate_model(X_resampled, y_resampled, rfc)\n",
    "print('Mean Accuracy: %.3f (%.3f)' % (mean(scores), std(scores)))\n",
    "\n",
    "clf = MultinomialNB()\n",
    "scores = evaluate_model(X_resampled, y_resampled, clf)\n",
    "print('Mean Accuracy: %.3f (%.3f)' % (mean(scores), std(scores)))\n",
    "\n",
    "svm = SVC(random_state=0)\n",
    "scores = evaluate_model(X_resampled, y_resampled, svm)\n",
    "print('Mean Accuracy: %.3f (%.3f)' % (mean(scores), std(scores)))"
   ],
   "outputs": [
    {
     "output_type": "stream",
     "name": "stdout",
     "text": [
      "Mean Accuracy: 0.696 (0.041)\n",
      "Mean Accuracy: 0.710 (0.037)\n",
      "Mean Accuracy: 0.615 (0.039)\n",
      "Mean Accuracy: 0.728 (0.023)\n"
     ]
    }
   ],
   "metadata": {}
  },
  {
   "cell_type": "markdown",
   "source": [
    "# 4. Feature selection"
   ],
   "metadata": {}
  },
  {
   "cell_type": "markdown",
   "source": [
    "We will use 3 different feature selection methods to select the best subset of features. \n",
    "\n",
    "*\"Logistic Regression is a good model for testing feature selection methods as it can perform better if irrelevant features are removed from the model\"*"
   ],
   "metadata": {}
  },
  {
   "cell_type": "markdown",
   "source": [
    "### 4.1 Mutual Information model - Logistic Regression"
   ],
   "metadata": {}
  },
  {
   "cell_type": "code",
   "execution_count": 86,
   "source": [
    "from functools import partial\n",
    "discrete_feat_idx = range(1, 322)\n",
    "score_func = partial(mutual_info_classif, discrete_features=discrete_feat_idx, random_state=0)\n",
    "k_vals = list(np.arange(300, step=10))"
   ],
   "outputs": [],
   "metadata": {}
  },
  {
   "cell_type": "code",
   "execution_count": 74,
   "source": [
    "import warnings\n",
    "warnings.filterwarnings(\"ignore\")\n",
    "def select_features_mutual_info(X_train, Y_train, k_val):\n",
    "    fs = SelectKBest(score_func=score_func, k=k_val)\n",
    "    fs.fit(X_train, Y_train)\n",
    "    X_train_fs = fs.transform(X_train)\n",
    "    # X_test_fs = fs.transform(X_test)\n",
    "    return X_train_fs, fs\n",
    "\n",
    "x_train_fs, fs = select_features_mutual_info(x_full, cook_time, 'all')"
   ],
   "outputs": [],
   "metadata": {}
  },
  {
   "cell_type": "code",
   "execution_count": 75,
   "source": [
    "plt.bar([i for i in range(len(fs.scores_))], fs.scores_)"
   ],
   "outputs": [
    {
     "output_type": "execute_result",
     "data": {
      "text/plain": [
       "<BarContainer object of 322 artists>"
      ]
     },
     "metadata": {},
     "execution_count": 75
    },
    {
     "output_type": "display_data",
     "data": {
      "text/plain": [
       "<Figure size 432x288 with 1 Axes>"
      ],
      "image/png": "[encoded data removed]"
     },
     "metadata": {
      "needs_background": "light"
     }
    }
   ],
   "metadata": {}
  },
  {
   "cell_type": "markdown",
   "source": [
    "#### Logistic Regression"
   ],
   "metadata": {}
  },
  {
   "cell_type": "code",
   "execution_count": 87,
   "source": [
    "# original\n",
    "acc = []\n",
    "for k in k_vals:\n",
    "    x_train_fs, fs = select_features_mutual_info(x_full, cook_time, k_val=k)\n",
    "    lr_mutual_info = LogisticRegression()\n",
    "    scores = evaluate_model(x_train_fs, cook_time, lr_mutual_info)\n",
    "    acc.append(mean(scores))\n",
    "plt.plot(k_vals, acc)\n",
    "plt.show()\n",
    "# best is k=100"
   ],
   "outputs": [
    {
     "output_type": "display_data",
     "data": {
      "text/plain": [
       "<Figure size 432x288 with 1 Axes>"
      ],
      "image/png": "[encoded data removed]"
     },
     "metadata": {
      "needs_background": "light"
     }
    }
   ],
   "metadata": {}
  },
  {
   "cell_type": "code",
   "execution_count": 91,
   "source": [
    "# only\n",
    "acc = []\n",
    "for k in k_vals:\n",
    "    x_train_fs, fs = select_features_mutual_info(x_full2, y_full2, k_val=k)\n",
    "    lr_mutual_info = LogisticRegression()\n",
    "    scores = evaluate_model(x_train_fs, y_full2, lr_mutual_info)\n",
    "    acc.append(mean(scores))\n",
    "plt.plot(k_vals, acc)\n",
    "plt.show()\n",
    "# best k = 80"
   ],
   "outputs": [
    {
     "output_type": "display_data",
     "data": {
      "text/plain": [
       "<Figure size 432x288 with 1 Axes>"
      ],
      "image/png": "[encoded data removed]"
     },
     "metadata": {
      "needs_background": "light"
     }
    }
   ],
   "metadata": {}
  },
  {
   "cell_type": "code",
   "execution_count": 94,
   "source": [
    "# resampled \n",
    "acc = []\n",
    "for k in k_vals:\n",
    "    x_train_fs, fs = select_features_mutual_info(X_resampled, y_resampled, k_val=k)\n",
    "    lr_mutual_info = LogisticRegression()\n",
    "    scores = evaluate_model(x_train_fs, y_resampled, lr_mutual_info)\n",
    "    acc.append(mean(scores))\n",
    "plt.plot(k_vals, acc)\n",
    "plt.show()\n",
    "# best k = 80"
   ],
   "outputs": [
    {
     "output_type": "display_data",
     "data": {
      "text/plain": [
       "<Figure size 432x288 with 1 Axes>"
      ],
      "image/png": "[encoded data removed]"
     },
     "metadata": {
      "needs_background": "light"
     }
    }
   ],
   "metadata": {}
  },
  {
   "cell_type": "markdown",
   "source": [
    "#### Random Forest"
   ],
   "metadata": {}
  },
  {
   "cell_type": "code",
   "execution_count": 98,
   "source": [
    "# original\n",
    "acc = []\n",
    "for k in k_vals:\n",
    "    x_train_fs, fs = select_features_mutual_info(x_full, cook_time, k_val=k)\n",
    "    rfc_mutual_info = RandomForestClassifier(random_state=0)\n",
    "    scores = evaluate_model(x_train_fs, cook_time, rfc_mutual_info)\n",
    "    acc.append(mean(scores))\n",
    "plt.plot(k_vals, acc)\n",
    "plt.show()"
   ],
   "outputs": [
    {
     "output_type": "display_data",
     "data": {
      "text/plain": [
       "<Figure size 432x288 with 1 Axes>"
      ],
      "image/png": "[encoded data removed]"
     },
     "metadata": {
      "needs_background": "light"
     }
    }
   ],
   "metadata": {}
  },
  {
   "cell_type": "code",
   "execution_count": 101,
   "source": [
    "# only\n",
    "acc = []\n",
    "for k in k_vals:\n",
    "    x_train_fs, fs = select_features_mutual_info(x_full2, y_full2, k_val=k)\n",
    "    rfc_mutual_info = RandomForestClassifier(random_state=0)\n",
    "    scores = evaluate_model(x_train_fs, y_full2, rfc_mutual_info)\n",
    "    acc.append(mean(scores))\n",
    "plt.plot(k_vals, acc)\n",
    "plt.show()"
   ],
   "outputs": [
    {
     "output_type": "display_data",
     "data": {
      "text/plain": [
       "<Figure size 432x288 with 1 Axes>"
      ],
      "image/png": "[encoded data removed]"
     },
     "metadata": {
      "needs_background": "light"
     }
    }
   ],
   "metadata": {}
  },
  {
   "cell_type": "code",
   "execution_count": 103,
   "source": [
    "# resampled\n",
    "acc = []\n",
    "for k in k_vals:\n",
    "    x_train_fs, fs = select_features_mutual_info(X_resampled, y_resampled, k_val=k)\n",
    "    rfc_mutual_info = RandomForestClassifier(random_state=0)\n",
    "    scores = evaluate_model(x_train_fs, y_resampled, rfc_mutual_info)\n",
    "    acc.append(mean(scores))\n",
    "plt.plot(k_vals, acc)\n",
    "plt.show()\n",
    "#best k = 70"
   ],
   "outputs": [
    {
     "output_type": "display_data",
     "data": {
      "text/plain": [
       "<Figure size 432x288 with 1 Axes>"
      ],
      "image/png": "[encoded data removed]"
     },
     "metadata": {
      "needs_background": "light"
     }
    }
   ],
   "metadata": {}
  },
  {
   "cell_type": "markdown",
   "source": [
    "#### MultiBayes"
   ],
   "metadata": {}
  },
  {
   "cell_type": "code",
   "execution_count": 106,
   "source": [
    "# original\n",
    "acc = []\n",
    "for k in k_vals:\n",
    "    x_train_fs, fs = select_features_mutual_info(x_full, cook_time, k_val=k)\n",
    "    clf_mutual_info = MultinomialNB()\n",
    "    scores = evaluate_model(x_train_fs, cook_time, clf_mutual_info)\n",
    "    acc.append(mean(scores))\n",
    "plt.plot(k_vals, acc)\n",
    "plt.show()\n",
    "#best k = 50"
   ],
   "outputs": [
    {
     "output_type": "display_data",
     "data": {
      "text/plain": [
       "<Figure size 432x288 with 1 Axes>"
      ],
      "image/png": "[encoded data removed]"
     },
     "metadata": {
      "needs_background": "light"
     }
    }
   ],
   "metadata": {}
  },
  {
   "cell_type": "code",
   "execution_count": 110,
   "source": [
    "# only\n",
    "acc = []\n",
    "for k in k_vals:\n",
    "    x_train_fs, fs = select_features_mutual_info(x_full2, y_full2, k_val=k)\n",
    "    clf_mutual_info = MultinomialNB()\n",
    "    scores = evaluate_model(x_train_fs, y_full2, clf_mutual_info)\n",
    "    acc.append(mean(scores))\n",
    "plt.plot(k_vals, acc)\n",
    "plt.show()\n",
    "# best k = 50"
   ],
   "outputs": [
    {
     "output_type": "display_data",
     "data": {
      "text/plain": [
       "<Figure size 432x288 with 1 Axes>"
      ],
      "image/png": "[encoded data removed]"
     },
     "metadata": {
      "needs_background": "light"
     }
    }
   ],
   "metadata": {}
  },
  {
   "cell_type": "code",
   "execution_count": 116,
   "source": [
    "# resampled\n",
    "k_vals2 = list(np.arange(322, step=10))\n",
    "acc = []\n",
    "for k in k_vals2:\n",
    "    x_train_fs, fs = select_features_mutual_info(X_resampled, y_resampled, k_val=k)\n",
    "    clf_mutual_info = MultinomialNB()\n",
    "    scores = evaluate_model(x_train_fs, y_resampled, clf_mutual_info)\n",
    "    acc.append(mean(scores))\n",
    "plt.plot(k_vals2, acc)\n",
    "plt.show()\n",
    "#best k = 70"
   ],
   "outputs": [
    {
     "output_type": "display_data",
     "data": {
      "text/plain": [
       "<Figure size 432x288 with 1 Axes>"
      ],
      "image/png": "[encoded data removed]"
     },
     "metadata": {
      "needs_background": "light"
     }
    }
   ],
   "metadata": {}
  },
  {
   "cell_type": "markdown",
   "source": [
    "#### SVM"
   ],
   "metadata": {}
  },
  {
   "cell_type": "code",
   "execution_count": 119,
   "source": [
    "# original\n",
    "acc = []\n",
    "for k in k_vals:\n",
    "    x_train_fs, fs = select_features_mutual_info(x_full, cook_time, k_val=k)\n",
    "    svm_mutual_info = SVC(random_state=0)\n",
    "    scores = evaluate_model(x_train_fs, cook_time, svm_mutual_info)\n",
    "    acc.append(mean(scores))\n",
    "plt.plot(k_vals, acc)\n",
    "plt.show()\n",
    "# best k = 80"
   ],
   "outputs": [
    {
     "output_type": "display_data",
     "data": {
      "text/plain": [
       "<Figure size 432x288 with 1 Axes>"
      ],
      "image/png": "[encoded data removed]"
     },
     "metadata": {
      "needs_background": "light"
     }
    }
   ],
   "metadata": {}
  },
  {
   "cell_type": "code",
   "execution_count": 122,
   "source": [
    "# only\n",
    "acc = []\n",
    "for k in k_vals:\n",
    "    x_train_fs, fs = select_features_mutual_info(x_full2, y_full2, k_val=k)\n",
    "    svm_mutual_info = SVC(random_state=0)\n",
    "    scores = evaluate_model(x_train_fs, y_full2, svm_mutual_info)\n",
    "    acc.append(mean(scores))\n",
    "plt.plot(k_vals, acc)\n",
    "plt.show()\n",
    "#best k = 40"
   ],
   "outputs": [
    {
     "output_type": "display_data",
     "data": {
      "text/plain": [
       "<Figure size 432x288 with 1 Axes>"
      ],
      "image/png": "[encoded data removed]"
     },
     "metadata": {
      "needs_background": "light"
     }
    }
   ],
   "metadata": {}
  },
  {
   "cell_type": "code",
   "execution_count": 128,
   "source": [
    "# resampled\n",
    "acc = []\n",
    "for k in k_vals2:\n",
    "    x_train_fs, fs = select_features_mutual_info(X_resampled, y_resampled, k_val=k)\n",
    "    svm_mutual_info = SVC(random_state=0)\n",
    "    scores = evaluate_model(x_train_fs, y_resampled, svm_mutual_info)\n",
    "    acc.append(mean(scores))\n",
    "plt.plot(k_vals2, acc)\n",
    "plt.show()\n",
    "#best k = 320"
   ],
   "outputs": [
    {
     "output_type": "display_data",
     "data": {
      "text/plain": [
       "<Figure size 432x288 with 1 Axes>"
      ],
      "image/png": "[encoded data removed]"
     },
     "metadata": {
      "needs_background": "light"
     }
    }
   ],
   "metadata": {}
  },
  {
   "cell_type": "markdown",
   "source": [
    "Transforming the continuous variable - prep_time, help Logistic Regression converges faster, but ended up hurting the performance compared to the baseline model. The best logistic regression model obtained is with 7 features."
   ],
   "metadata": {}
  },
  {
   "cell_type": "markdown",
   "source": [
    "### 4.2 Chi-square - Logistic Regression"
   ],
   "metadata": {}
  },
  {
   "cell_type": "code",
   "execution_count": 130,
   "source": [
    "def select_features_chi2(X_train, Y_train, k_val):\n",
    "    fs = SelectKBest(score_func=chi2, k=k_val)\n",
    "    fs.fit(X_train, Y_train)\n",
    "    X_train_fs = fs.transform(X_train)\n",
    "    # X_test_fs = fs.transform(X_test)\n",
    "    return X_train_fs, fs"
   ],
   "outputs": [],
   "metadata": {}
  },
  {
   "cell_type": "markdown",
   "source": [
    "#### Logistic Regression"
   ],
   "metadata": {}
  },
  {
   "cell_type": "code",
   "execution_count": 131,
   "source": [
    "# original\n",
    "acc = []\n",
    "for k in k_vals:\n",
    "    x_train_fs, fs = select_features_chi2(x_full, cook_time, k_val=k)\n",
    "    lr_mutual_info = LogisticRegression()\n",
    "    scores = evaluate_model(x_train_fs, cook_time, lr_mutual_info)\n",
    "    acc.append(mean(scores))\n",
    "plt.plot(k_vals, acc)\n",
    "plt.show()\n",
    "# best is k=80"
   ],
   "outputs": [
    {
     "output_type": "display_data",
     "data": {
      "text/plain": [
       "<Figure size 432x288 with 1 Axes>"
      ],
      "image/png": "[encoded data removed]"
     },
     "metadata": {
      "needs_background": "light"
     }
    }
   ],
   "metadata": {}
  },
  {
   "cell_type": "code",
   "execution_count": 133,
   "source": [
    "# only\n",
    "acc = []\n",
    "for k in k_vals:\n",
    "    x_train_fs, fs = select_features_chi2(x_full2, y_full2, k_val=k)\n",
    "    lr_mutual_info = LogisticRegression()\n",
    "    scores = evaluate_model(x_train_fs, y_full2, lr_mutual_info)\n",
    "    acc.append(mean(scores))\n",
    "plt.plot(k_vals, acc)\n",
    "plt.show()\n",
    "# best k = 80"
   ],
   "outputs": [
    {
     "output_type": "display_data",
     "data": {
      "text/plain": [
       "<Figure size 432x288 with 1 Axes>"
      ],
      "image/png": "[encoded data removed]"
     },
     "metadata": {
      "needs_background": "light"
     }
    }
   ],
   "metadata": {}
  },
  {
   "cell_type": "code",
   "execution_count": 136,
   "source": [
    "# resampled \n",
    "acc = []\n",
    "for k in k_vals:\n",
    "    x_train_fs, fs = select_features_chi2(X_resampled, y_resampled, k_val=k)\n",
    "    lr_mutual_info = LogisticRegression()\n",
    "    scores = evaluate_model(x_train_fs, y_resampled, lr_mutual_info)\n",
    "    acc.append(mean(scores))\n",
    "plt.plot(k_vals, acc)\n",
    "plt.show()\n",
    "# best k = 60"
   ],
   "outputs": [
    {
     "output_type": "display_data",
     "data": {
      "text/plain": [
       "<Figure size 432x288 with 1 Axes>"
      ],
      "image/png": "[encoded data removed]"
     },
     "metadata": {
      "needs_background": "light"
     }
    }
   ],
   "metadata": {}
  },
  {
   "cell_type": "markdown",
   "source": [
    "#### Random Forest"
   ],
   "metadata": {}
  },
  {
   "cell_type": "code",
   "execution_count": 138,
   "source": [
    "# original\n",
    "acc = []\n",
    "for k in k_vals:\n",
    "    x_train_fs, fs = select_features_chi2(x_full, cook_time, k_val=k)\n",
    "    rfc_mutual_info = RandomForestClassifier(random_state=0)\n",
    "    scores = evaluate_model(x_train_fs, cook_time, rfc_mutual_info)\n",
    "    acc.append(mean(scores))\n",
    "plt.plot(k_vals, acc)\n",
    "plt.show()\n",
    "# best k = 60"
   ],
   "outputs": [
    {
     "output_type": "display_data",
     "data": {
      "text/plain": [
       "<Figure size 432x288 with 1 Axes>"
      ],
      "image/png": "[encoded data removed]"
     },
     "metadata": {
      "needs_background": "light"
     }
    }
   ],
   "metadata": {}
  },
  {
   "cell_type": "code",
   "execution_count": 140,
   "source": [
    "# only\n",
    "acc = []\n",
    "for k in k_vals:\n",
    "    x_train_fs, fs = select_features_chi2(x_full2, y_full2, k_val=k)\n",
    "    rfc_mutual_info = RandomForestClassifier(random_state=0)\n",
    "    scores = evaluate_model(x_train_fs, y_full2, rfc_mutual_info)\n",
    "    acc.append(mean(scores))\n",
    "plt.plot(k_vals, acc)\n",
    "plt.show()\n",
    "# best k = 30"
   ],
   "outputs": [
    {
     "output_type": "display_data",
     "data": {
      "text/plain": [
       "<Figure size 432x288 with 1 Axes>"
      ],
      "image/png": "[encoded data removed]"
     },
     "metadata": {
      "needs_background": "light"
     }
    }
   ],
   "metadata": {}
  },
  {
   "cell_type": "code",
   "execution_count": 142,
   "source": [
    "# resampled\n",
    "acc = []\n",
    "for k in k_vals:\n",
    "    x_train_fs, fs = select_features_chi2(X_resampled, y_resampled, k_val=k)\n",
    "    rfc_mutual_info = RandomForestClassifier(random_state=0)\n",
    "    scores = evaluate_model(x_train_fs, y_resampled, rfc_mutual_info)\n",
    "    acc.append(mean(scores))\n",
    "plt.plot(k_vals, acc)\n",
    "plt.show()\n",
    "#best k = "
   ],
   "outputs": [
    {
     "output_type": "display_data",
     "data": {
      "text/plain": [
       "<Figure size 432x288 with 1 Axes>"
      ],
      "image/png": "[encoded data removed]"
     },
     "metadata": {
      "needs_background": "light"
     }
    }
   ],
   "metadata": {}
  },
  {
   "cell_type": "markdown",
   "source": [
    "#### Multiple Bayes"
   ],
   "metadata": {}
  },
  {
   "cell_type": "code",
   "execution_count": 145,
   "source": [
    "# original\n",
    "acc = []\n",
    "for k in k_vals:\n",
    "    x_train_fs, fs = select_features_chi2(x_full, cook_time, k_val=k)\n",
    "    clf_mutual_info = MultinomialNB()\n",
    "    scores = evaluate_model(x_train_fs, cook_time, clf_mutual_info)\n",
    "    acc.append(mean(scores))\n",
    "plt.plot(k_vals, acc)\n",
    "plt.show()\n",
    "#best k = 70"
   ],
   "outputs": [
    {
     "output_type": "display_data",
     "data": {
      "text/plain": [
       "<Figure size 432x288 with 1 Axes>"
      ],
      "image/png": "[encoded data removed]"
     },
     "metadata": {
      "needs_background": "light"
     }
    }
   ],
   "metadata": {}
  },
  {
   "cell_type": "code",
   "execution_count": 148,
   "source": [
    "# only\n",
    "acc = []\n",
    "for k in k_vals:\n",
    "    x_train_fs, fs = select_features_chi2(x_full2, y_full2, k_val=k)\n",
    "    clf_mutual_info = MultinomialNB()\n",
    "    scores = evaluate_model(x_train_fs, y_full2, clf_mutual_info)\n",
    "    acc.append(mean(scores))\n",
    "plt.plot(k_vals, acc)\n",
    "plt.show()\n",
    "\n",
    "#best k = 100"
   ],
   "outputs": [
    {
     "output_type": "display_data",
     "data": {
      "text/plain": [
       "<Figure size 432x288 with 1 Axes>"
      ],
      "image/png": "[encoded data removed]"
     },
     "metadata": {
      "needs_background": "light"
     }
    }
   ],
   "metadata": {}
  },
  {
   "cell_type": "code",
   "execution_count": 151,
   "source": [
    "# resampled\n",
    "acc = []\n",
    "for k in k_vals:\n",
    "    x_train_fs, fs = select_features_chi2(X_resampled, y_resampled, k_val=k)\n",
    "    clf_mutual_info = MultinomialNB()\n",
    "    scores = evaluate_model(x_train_fs, y_resampled, clf_mutual_info)\n",
    "    acc.append(mean(scores))\n",
    "plt.plot(k_vals, acc)\n",
    "plt.show()\n",
    "#best k = 60"
   ],
   "outputs": [
    {
     "output_type": "display_data",
     "data": {
      "text/plain": [
       "<Figure size 432x288 with 1 Axes>"
      ],
      "image/png": "[encoded data removed]"
     },
     "metadata": {
      "needs_background": "light"
     }
    }
   ],
   "metadata": {}
  },
  {
   "cell_type": "markdown",
   "source": [
    "#### SVM"
   ],
   "metadata": {}
  },
  {
   "cell_type": "code",
   "execution_count": 156,
   "source": [
    "# original\n",
    "acc = []\n",
    "for k in k_vals:\n",
    "    x_train_fs, fs = select_features_chi2(x_full, cook_time, k_val=k)\n",
    "    svm_mutual_info = SVC(random_state=0)\n",
    "    scores = evaluate_model(x_train_fs, cook_time, svm_mutual_info)\n",
    "    acc.append(mean(scores))\n",
    "plt.plot(k_vals, acc)\n",
    "plt.show()"
   ],
   "outputs": [
    {
     "output_type": "display_data",
     "data": {
      "text/plain": [
       "<Figure size 432x288 with 1 Axes>"
      ],
      "image/png": "[encoded data removed]"
     },
     "metadata": {
      "needs_background": "light"
     }
    }
   ],
   "metadata": {}
  },
  {
   "cell_type": "code",
   "execution_count": 154,
   "source": [
    "# only\n",
    "acc = []\n",
    "for k in k_vals:\n",
    "    x_train_fs, fs = select_features_chi2(x_full2, y_full2, k_val=k)\n",
    "    svm_mutual_info = SVC(random_state=0)\n",
    "    scores = evaluate_model(x_train_fs, y_full2, svm_mutual_info)\n",
    "    acc.append(mean(scores))\n",
    "plt.plot(k_vals, acc)\n",
    "plt.show()\n",
    "#best k = 40"
   ],
   "outputs": [
    {
     "output_type": "display_data",
     "data": {
      "text/plain": [
       "<Figure size 432x288 with 1 Axes>"
      ],
      "image/png": "[encoded data removed]"
     },
     "metadata": {
      "needs_background": "light"
     }
    }
   ],
   "metadata": {}
  },
  {
   "cell_type": "code",
   "execution_count": 158,
   "source": [
    "# resampled\n",
    "acc = []\n",
    "for k in k_vals2:\n",
    "    x_train_fs, fs = select_features_chi2(X_resampled, y_resampled, k_val=k)\n",
    "    svm_mutual_info = SVC(random_state=0)\n",
    "    scores = evaluate_model(x_train_fs, y_resampled, svm_mutual_info)\n",
    "    acc.append(mean(scores))\n",
    "plt.plot(k_vals2, acc)\n",
    "plt.show()\n",
    "#best k = 300"
   ],
   "outputs": [
    {
     "output_type": "display_data",
     "data": {
      "text/plain": [
       "<Figure size 432x288 with 1 Axes>"
      ],
      "image/png": "[encoded data removed]"
     },
     "metadata": {
      "needs_background": "light"
     }
    }
   ],
   "metadata": {}
  },
  {
   "cell_type": "markdown",
   "source": [
    "# 5. Model tuning"
   ],
   "metadata": {}
  },
  {
   "cell_type": "markdown",
   "source": [
    "#### 1. RESAMPLED_LR_ONLY"
   ],
   "metadata": {}
  },
  {
   "cell_type": "code",
   "execution_count": 174,
   "source": [
    "from imblearn.pipeline import Pipeline\n",
    "from sklearn.model_selection import StratifiedKFold, RandomizedSearchCV\n",
    "tune_lr = LogisticRegression()\n",
    "\n",
    "C = [float(x) for x in np.logspace(-3,3,20)]\n",
    "solver = ['newton-cg', 'sag', 'saga', 'lbfgs']\n",
    "class_weight = ['balanced', None]\n",
    "\n",
    "param_grid = {\n",
    "    'C': C,\n",
    "    'solver': solver,\n",
    "    'class_weight': class_weight}\n",
    "grid_search = RandomizedSearchCV(tune_lr, param_distributions = param_grid, scoring='accuracy',cv=3, n_iter=50,verbose=1, n_jobs=-1)"
   ],
   "outputs": [],
   "metadata": {}
  },
  {
   "cell_type": "code",
   "execution_count": 175,
   "source": [
    "grid_search.fit(X_resampled, y_resampled)\n",
    "print(\"Best parameter (CV score=%0.3f):\" % grid_search.best_score_)\n",
    "print(grid_search.best_params_)"
   ],
   "outputs": [
    {
     "output_type": "stream",
     "name": "stdout",
     "text": [
      "Fitting 3 folds for each of 50 candidates, totalling 150 fits\n",
      "Best parameter (CV score=0.642):\n",
      "{'solver': 'sag', 'class_weight': None, 'C': 26.366508987303554}\n"
     ]
    }
   ],
   "metadata": {}
  },
  {
   "cell_type": "markdown",
   "source": [
    "#### 2. RESAMPLED_RFC_ONLY"
   ],
   "metadata": {}
  },
  {
   "cell_type": "code",
   "execution_count": 178,
   "source": [
    "tune_rfc = RandomForestClassifier(random_state=0)\n",
    "\n",
    "n_estimators = [int(x) for x in np.linspace(start = 200, stop = 1000, num = 5)]\n",
    "max_features = ['auto', 'sqrt']\n",
    "max_depth = [int(x) for x in np.linspace(20, 100, num = 5)]\n",
    "max_depth.append(None)\n",
    "min_samples_split = [2, 5, 10]\n",
    "min_samples_leaf = [1, 2, 4]\n",
    "bootstrap = [True, False]\n",
    "random_grid = {'n_estimators': n_estimators,\n",
    "               'max_features': max_features,\n",
    "               'max_depth': max_depth,\n",
    "               'min_samples_split': min_samples_split,\n",
    "               'min_samples_leaf': min_samples_leaf,\n",
    "               'bootstrap': bootstrap}\n",
    "\n",
    "grid_search = RandomizedSearchCV(tune_rfc, param_distributions = random_grid, scoring='accuracy',cv=3, n_iter=50,verbose=1, n_jobs=-1)"
   ],
   "outputs": [],
   "metadata": {}
  },
  {
   "cell_type": "code",
   "execution_count": 179,
   "source": [
    "grid_search.fit(X_resampled, y_resampled)\n",
    "print(\"Best parameter (CV score=%0.3f):\" % grid_search.best_score_)\n",
    "print(grid_search.best_params_)"
   ],
   "outputs": [
    {
     "output_type": "stream",
     "name": "stdout",
     "text": [
      "Fitting 3 folds for each of 50 candidates, totalling 150 fits\n",
      "Best parameter (CV score=0.677):\n",
      "{'n_estimators': 600, 'min_samples_split': 2, 'min_samples_leaf': 1, 'max_features': 'sqrt', 'max_depth': None, 'bootstrap': False}\n"
     ]
    }
   ],
   "metadata": {}
  },
  {
   "cell_type": "markdown",
   "source": [
    "#### 3. FS_RESAMPLED_SVM_ONLY chi2"
   ],
   "metadata": {}
  },
  {
   "cell_type": "code",
   "execution_count": 180,
   "source": [
    "x_train_fs, fs = select_features_chi2(X_resampled, y_resampled, k_val=300)"
   ],
   "outputs": [],
   "metadata": {}
  },
  {
   "cell_type": "code",
   "execution_count": 224,
   "source": [
    "from sklearn.model_selection import RandomizedSearchCV\n",
    "\n",
    "# rfcpipe = Pipeline([\n",
    "#     ('smote', SMOTENC(categorical_features = range(1, 5), k_neighbors = 4, random_state=0)),\n",
    "#     ('rfc', RandomForestClassifier(verbose = 3, n_jobs = -1))])\n",
    "\n",
    "C = [float(x) for x in np.logspace(0,3,10)]\n",
    "gamma = [.0001, .001, .01, .1, 1, 10, 100, \"auto\"]\n",
    "degree = [1, 2, 3, 4, 5]\n",
    "kernel = ['rbf']\n",
    "random_grid = {'C': C,\n",
    "              'kernel': kernel,\n",
    "              'gamma': gamma,\n",
    "              'degree': degree,\n",
    "             }\n",
    "\n",
    "svc = SVC(random_state=8)\n",
    "random_search = GridSearchCV(estimator=svc,\n",
    "                                   param_grid=random_grid,\n",
    "                                   scoring='accuracy',\n",
    "                                   cv=3, \n",
    "                                   verbose=1, n_jobs=-1)"
   ],
   "outputs": [],
   "metadata": {}
  },
  {
   "cell_type": "code",
   "execution_count": 225,
   "source": [
    "random_search.fit(x_train_fs, y_resampled)\n",
    "print(\"Best parameter (CV score=%0.3f):\" % random_search.best_score_)\n",
    "print(random_search.best_params_)"
   ],
   "outputs": [
    {
     "output_type": "stream",
     "name": "stdout",
     "text": [
      "Fitting 3 folds for each of 400 candidates, totalling 1200 fits\n",
      "Best parameter (CV score=0.720):\n",
      "{'C': 2.154434690031884, 'degree': 1, 'gamma': 1, 'kernel': 'rbf'}\n"
     ]
    }
   ],
   "metadata": {}
  }
 ],
 "metadata": {
  "kernelspec": {
   "name": "python3",
   "display_name": "Python 3.7.6 64-bit ('base': conda)"
  },
  "language_info": {
   "codemirror_mode": {
    "name": "ipython",
    "version": 3
   },
   "file_extension": ".py",
   "mimetype": "text/x-python",
   "name": "python",
   "nbconvert_exporter": "python",
   "pygments_lexer": "ipython3",
   "version": "3.7.6"
  },
  "interpreter": {
   "hash": "dca0ade3e726a953b501b15e8e990130d2b7799f14cfd9f4271676035ebe5511"
  }
 },
 "nbformat": 4,
 "nbformat_minor": 4
}