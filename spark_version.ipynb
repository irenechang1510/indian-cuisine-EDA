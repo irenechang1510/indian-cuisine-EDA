{
 "cells": [
  {
   "cell_type": "code",
   "execution_count": 1,
   "source": [
    "import pyspark\n",
    "from pyspark.sql import SparkSession\n",
    "import pyspark.sql.functions as f"
   ],
   "outputs": [],
   "metadata": {}
  },
  {
   "cell_type": "code",
   "execution_count": 2,
   "source": [
    "spark = SparkSession \\\n",
    "    .builder \\\n",
    "    .appName('Indian Cuisine Data') \\\n",
    "    .getOrCreate()"
   ],
   "outputs": [],
   "metadata": {}
  },
  {
   "cell_type": "code",
   "execution_count": 3,
   "source": [
    "spark"
   ],
   "outputs": [
    {
     "output_type": "execute_result",
     "data": {
      "text/plain": [
       "<pyspark.sql.session.SparkSession at 0x7f887663e650>"
      ],
      "text/html": [
       "\n",
       "            <div>\n",
       "                <p><b>SparkSession - in-memory</b></p>\n",
       "                \n",
       "        <div>\n",
       "            <p><b>SparkContext</b></p>\n",
       "\n",
       "            <p><a href=\"http://10.245.75.159:4040\">Spark UI</a></p>\n",
       "\n",
       "            <dl>\n",
       "              <dt>Version</dt>\n",
       "                <dd><code>v3.1.2</code></dd>\n",
       "              <dt>Master</dt>\n",
       "                <dd><code>local[*]</code></dd>\n",
       "              <dt>AppName</dt>\n",
       "                <dd><code>Indian Cuisine Data</code></dd>\n",
       "            </dl>\n",
       "        </div>\n",
       "        \n",
       "            </div>\n",
       "        "
      ]
     },
     "metadata": {},
     "execution_count": 3
    }
   ],
   "metadata": {}
  },
  {
   "cell_type": "code",
   "execution_count": 4,
   "source": [
    "df = (spark.read\n",
    "          .format(\"csv\")\n",
    "          .options(header='True', nullValue=-1, inferSchema='True')\n",
    "          .csv(\"indian_food.csv\"))"
   ],
   "outputs": [],
   "metadata": {}
  },
  {
   "cell_type": "markdown",
   "source": [
    "## 1. Some statistics"
   ],
   "metadata": {}
  },
  {
   "cell_type": "code",
   "execution_count": 5,
   "source": [
    "df.toPandas().head()"
   ],
   "outputs": [
    {
     "output_type": "execute_result",
     "data": {
      "text/plain": [
       "             name                                        ingredients  \\\n",
       "0      Balu shahi                    Maida flour, yogurt, oil, sugar   \n",
       "1          Boondi                            Gram flour, ghee, sugar   \n",
       "2  Gajar ka halwa       Carrots, milk, sugar, ghee, cashews, raisins   \n",
       "3          Ghevar  Flour, ghee, kewra, milk, clarified butter, su...   \n",
       "4     Gulab jamun  Milk powder, plain flour, baking powder, ghee,...   \n",
       "\n",
       "         diet  prep_time  cook_time flavor_profile   course        state  \\\n",
       "0  vegetarian       45.0       25.0          sweet  dessert  West Bengal   \n",
       "1  vegetarian       80.0       30.0          sweet  dessert    Rajasthan   \n",
       "2  vegetarian       15.0       60.0          sweet  dessert       Punjab   \n",
       "3  vegetarian       15.0       30.0          sweet  dessert    Rajasthan   \n",
       "4  vegetarian       15.0       40.0          sweet  dessert  West Bengal   \n",
       "\n",
       "  region  \n",
       "0   East  \n",
       "1   West  \n",
       "2  North  \n",
       "3   West  \n",
       "4   East  "
      ],
      "text/html": [
       "<div>\n",
       "<style scoped>\n",
       "    .dataframe tbody tr th:only-of-type {\n",
       "        vertical-align: middle;\n",
       "    }\n",
       "\n",
       "    .dataframe tbody tr th {\n",
       "        vertical-align: top;\n",
       "    }\n",
       "\n",
       "    .dataframe thead th {\n",
       "        text-align: right;\n",
       "    }\n",
       "</style>\n",
       "<table border=\"1\" class=\"dataframe\">\n",
       "  <thead>\n",
       "    <tr style=\"text-align: right;\">\n",
       "      <th></th>\n",
       "      <th>name</th>\n",
       "      <th>ingredients</th>\n",
       "      <th>diet</th>\n",
       "      <th>prep_time</th>\n",
       "      <th>cook_time</th>\n",
       "      <th>flavor_profile</th>\n",
       "      <th>course</th>\n",
       "      <th>state</th>\n",
       "      <th>region</th>\n",
       "    </tr>\n",
       "  </thead>\n",
       "  <tbody>\n",
       "    <tr>\n",
       "      <th>0</th>\n",
       "      <td>Balu shahi</td>\n",
       "      <td>Maida flour, yogurt, oil, sugar</td>\n",
       "      <td>vegetarian</td>\n",
       "      <td>45.0</td>\n",
       "      <td>25.0</td>\n",
       "      <td>sweet</td>\n",
       "      <td>dessert</td>\n",
       "      <td>West Bengal</td>\n",
       "      <td>East</td>\n",
       "    </tr>\n",
       "    <tr>\n",
       "      <th>1</th>\n",
       "      <td>Boondi</td>\n",
       "      <td>Gram flour, ghee, sugar</td>\n",
       "      <td>vegetarian</td>\n",
       "      <td>80.0</td>\n",
       "      <td>30.0</td>\n",
       "      <td>sweet</td>\n",
       "      <td>dessert</td>\n",
       "      <td>Rajasthan</td>\n",
       "      <td>West</td>\n",
       "    </tr>\n",
       "    <tr>\n",
       "      <th>2</th>\n",
       "      <td>Gajar ka halwa</td>\n",
       "      <td>Carrots, milk, sugar, ghee, cashews, raisins</td>\n",
       "      <td>vegetarian</td>\n",
       "      <td>15.0</td>\n",
       "      <td>60.0</td>\n",
       "      <td>sweet</td>\n",
       "      <td>dessert</td>\n",
       "      <td>Punjab</td>\n",
       "      <td>North</td>\n",
       "    </tr>\n",
       "    <tr>\n",
       "      <th>3</th>\n",
       "      <td>Ghevar</td>\n",
       "      <td>Flour, ghee, kewra, milk, clarified butter, su...</td>\n",
       "      <td>vegetarian</td>\n",
       "      <td>15.0</td>\n",
       "      <td>30.0</td>\n",
       "      <td>sweet</td>\n",
       "      <td>dessert</td>\n",
       "      <td>Rajasthan</td>\n",
       "      <td>West</td>\n",
       "    </tr>\n",
       "    <tr>\n",
       "      <th>4</th>\n",
       "      <td>Gulab jamun</td>\n",
       "      <td>Milk powder, plain flour, baking powder, ghee,...</td>\n",
       "      <td>vegetarian</td>\n",
       "      <td>15.0</td>\n",
       "      <td>40.0</td>\n",
       "      <td>sweet</td>\n",
       "      <td>dessert</td>\n",
       "      <td>West Bengal</td>\n",
       "      <td>East</td>\n",
       "    </tr>\n",
       "  </tbody>\n",
       "</table>\n",
       "</div>"
      ]
     },
     "metadata": {},
     "execution_count": 5
    }
   ],
   "metadata": {}
  },
  {
   "cell_type": "code",
   "execution_count": 6,
   "source": [
    "df.count()"
   ],
   "outputs": [
    {
     "output_type": "execute_result",
     "data": {
      "text/plain": [
       "255"
      ]
     },
     "metadata": {},
     "execution_count": 6
    }
   ],
   "metadata": {}
  },
  {
   "cell_type": "code",
   "execution_count": 7,
   "source": [
    "df.printSchema()"
   ],
   "outputs": [
    {
     "output_type": "stream",
     "name": "stdout",
     "text": [
      "root\n",
      " |-- name: string (nullable = true)\n",
      " |-- ingredients: string (nullable = true)\n",
      " |-- diet: string (nullable = true)\n",
      " |-- prep_time: integer (nullable = true)\n",
      " |-- cook_time: integer (nullable = true)\n",
      " |-- flavor_profile: string (nullable = true)\n",
      " |-- course: string (nullable = true)\n",
      " |-- state: string (nullable = true)\n",
      " |-- region: string (nullable = true)\n",
      "\n"
     ]
    }
   ],
   "metadata": {}
  },
  {
   "cell_type": "code",
   "execution_count": 8,
   "source": [
    "df.summary().toPandas()"
   ],
   "outputs": [
    {
     "output_type": "execute_result",
     "data": {
      "text/plain": [
       "  summary       name                                        ingredients  \\\n",
       "0   count        255                                                255   \n",
       "1    mean       None                                               None   \n",
       "2  stddev       None                                               None   \n",
       "3     min  Adhirasam  Aloo, tomatoes, mustard oil, bay leaf, cinnamo...   \n",
       "4     25%       None                                               None   \n",
       "5     50%       None                                               None   \n",
       "6     75%       None                                               None   \n",
       "7     max      Zunka                          Yogurt, milk, nuts, sugar   \n",
       "\n",
       "             diet          prep_time          cook_time flavor_profile  \\\n",
       "0             255                225                227            226   \n",
       "1            None  35.38666666666666  38.91189427312775           None   \n",
       "2            None  76.24108144563532  49.42171058724399           None   \n",
       "3  non vegetarian                  5                  2         bitter   \n",
       "4            None                 10                 20           None   \n",
       "5            None                 10                 30           None   \n",
       "6            None                 20                 45           None   \n",
       "7      vegetarian                500                720          sweet   \n",
       "\n",
       "    course           state   region  \n",
       "0      255             231      241  \n",
       "1     None            None     None  \n",
       "2     None            None     None  \n",
       "3  dessert  Andhra Pradesh  Central  \n",
       "4     None            None     None  \n",
       "5     None            None     None  \n",
       "6     None            None     None  \n",
       "7  starter     West Bengal     West  "
      ],
      "text/html": [
       "<div>\n",
       "<style scoped>\n",
       "    .dataframe tbody tr th:only-of-type {\n",
       "        vertical-align: middle;\n",
       "    }\n",
       "\n",
       "    .dataframe tbody tr th {\n",
       "        vertical-align: top;\n",
       "    }\n",
       "\n",
       "    .dataframe thead th {\n",
       "        text-align: right;\n",
       "    }\n",
       "</style>\n",
       "<table border=\"1\" class=\"dataframe\">\n",
       "  <thead>\n",
       "    <tr style=\"text-align: right;\">\n",
       "      <th></th>\n",
       "      <th>summary</th>\n",
       "      <th>name</th>\n",
       "      <th>ingredients</th>\n",
       "      <th>diet</th>\n",
       "      <th>prep_time</th>\n",
       "      <th>cook_time</th>\n",
       "      <th>flavor_profile</th>\n",
       "      <th>course</th>\n",
       "      <th>state</th>\n",
       "      <th>region</th>\n",
       "    </tr>\n",
       "  </thead>\n",
       "  <tbody>\n",
       "    <tr>\n",
       "      <th>0</th>\n",
       "      <td>count</td>\n",
       "      <td>255</td>\n",
       "      <td>255</td>\n",
       "      <td>255</td>\n",
       "      <td>225</td>\n",
       "      <td>227</td>\n",
       "      <td>226</td>\n",
       "      <td>255</td>\n",
       "      <td>231</td>\n",
       "      <td>241</td>\n",
       "    </tr>\n",
       "    <tr>\n",
       "      <th>1</th>\n",
       "      <td>mean</td>\n",
       "      <td>None</td>\n",
       "      <td>None</td>\n",
       "      <td>None</td>\n",
       "      <td>35.38666666666666</td>\n",
       "      <td>38.91189427312775</td>\n",
       "      <td>None</td>\n",
       "      <td>None</td>\n",
       "      <td>None</td>\n",
       "      <td>None</td>\n",
       "    </tr>\n",
       "    <tr>\n",
       "      <th>2</th>\n",
       "      <td>stddev</td>\n",
       "      <td>None</td>\n",
       "      <td>None</td>\n",
       "      <td>None</td>\n",
       "      <td>76.24108144563532</td>\n",
       "      <td>49.42171058724399</td>\n",
       "      <td>None</td>\n",
       "      <td>None</td>\n",
       "      <td>None</td>\n",
       "      <td>None</td>\n",
       "    </tr>\n",
       "    <tr>\n",
       "      <th>3</th>\n",
       "      <td>min</td>\n",
       "      <td>Adhirasam</td>\n",
       "      <td>Aloo, tomatoes, mustard oil, bay leaf, cinnamo...</td>\n",
       "      <td>non vegetarian</td>\n",
       "      <td>5</td>\n",
       "      <td>2</td>\n",
       "      <td>bitter</td>\n",
       "      <td>dessert</td>\n",
       "      <td>Andhra Pradesh</td>\n",
       "      <td>Central</td>\n",
       "    </tr>\n",
       "    <tr>\n",
       "      <th>4</th>\n",
       "      <td>25%</td>\n",
       "      <td>None</td>\n",
       "      <td>None</td>\n",
       "      <td>None</td>\n",
       "      <td>10</td>\n",
       "      <td>20</td>\n",
       "      <td>None</td>\n",
       "      <td>None</td>\n",
       "      <td>None</td>\n",
       "      <td>None</td>\n",
       "    </tr>\n",
       "    <tr>\n",
       "      <th>5</th>\n",
       "      <td>50%</td>\n",
       "      <td>None</td>\n",
       "      <td>None</td>\n",
       "      <td>None</td>\n",
       "      <td>10</td>\n",
       "      <td>30</td>\n",
       "      <td>None</td>\n",
       "      <td>None</td>\n",
       "      <td>None</td>\n",
       "      <td>None</td>\n",
       "    </tr>\n",
       "    <tr>\n",
       "      <th>6</th>\n",
       "      <td>75%</td>\n",
       "      <td>None</td>\n",
       "      <td>None</td>\n",
       "      <td>None</td>\n",
       "      <td>20</td>\n",
       "      <td>45</td>\n",
       "      <td>None</td>\n",
       "      <td>None</td>\n",
       "      <td>None</td>\n",
       "      <td>None</td>\n",
       "    </tr>\n",
       "    <tr>\n",
       "      <th>7</th>\n",
       "      <td>max</td>\n",
       "      <td>Zunka</td>\n",
       "      <td>Yogurt, milk, nuts, sugar</td>\n",
       "      <td>vegetarian</td>\n",
       "      <td>500</td>\n",
       "      <td>720</td>\n",
       "      <td>sweet</td>\n",
       "      <td>starter</td>\n",
       "      <td>West Bengal</td>\n",
       "      <td>West</td>\n",
       "    </tr>\n",
       "  </tbody>\n",
       "</table>\n",
       "</div>"
      ]
     },
     "metadata": {},
     "execution_count": 8
    }
   ],
   "metadata": {}
  },
  {
   "cell_type": "code",
   "execution_count": 9,
   "source": [
    "#check duplicates\n",
    "if df.count() > df.dropDuplicates(df.columns).count():\n",
    "    raise ValueError('Data has duplicates')"
   ],
   "outputs": [],
   "metadata": {}
  },
  {
   "cell_type": "markdown",
   "source": [
    "## 2. Missing data"
   ],
   "metadata": {}
  },
  {
   "cell_type": "code",
   "execution_count": 10,
   "source": [
    "df.select([\n",
    "    (1 - (f.count(c)/f.count('*'))).alias(c) for c in df.columns]).toPandas()"
   ],
   "outputs": [
    {
     "output_type": "execute_result",
     "data": {
      "text/plain": [
       "   name  ingredients  diet  prep_time  cook_time  flavor_profile  course  \\\n",
       "0   0.0          0.0   0.0   0.117647   0.109804        0.113725     0.0   \n",
       "\n",
       "      state    region  \n",
       "0  0.094118  0.054902  "
      ],
      "text/html": [
       "<div>\n",
       "<style scoped>\n",
       "    .dataframe tbody tr th:only-of-type {\n",
       "        vertical-align: middle;\n",
       "    }\n",
       "\n",
       "    .dataframe tbody tr th {\n",
       "        vertical-align: top;\n",
       "    }\n",
       "\n",
       "    .dataframe thead th {\n",
       "        text-align: right;\n",
       "    }\n",
       "</style>\n",
       "<table border=\"1\" class=\"dataframe\">\n",
       "  <thead>\n",
       "    <tr style=\"text-align: right;\">\n",
       "      <th></th>\n",
       "      <th>name</th>\n",
       "      <th>ingredients</th>\n",
       "      <th>diet</th>\n",
       "      <th>prep_time</th>\n",
       "      <th>cook_time</th>\n",
       "      <th>flavor_profile</th>\n",
       "      <th>course</th>\n",
       "      <th>state</th>\n",
       "      <th>region</th>\n",
       "    </tr>\n",
       "  </thead>\n",
       "  <tbody>\n",
       "    <tr>\n",
       "      <th>0</th>\n",
       "      <td>0.0</td>\n",
       "      <td>0.0</td>\n",
       "      <td>0.0</td>\n",
       "      <td>0.117647</td>\n",
       "      <td>0.109804</td>\n",
       "      <td>0.113725</td>\n",
       "      <td>0.0</td>\n",
       "      <td>0.094118</td>\n",
       "      <td>0.054902</td>\n",
       "    </tr>\n",
       "  </tbody>\n",
       "</table>\n",
       "</div>"
      ]
     },
     "metadata": {},
     "execution_count": 10
    }
   ],
   "metadata": {}
  },
  {
   "cell_type": "code",
   "execution_count": 11,
   "source": [
    "from pyspark.ml.feature import Imputer\n",
    "\n",
    "df2 = df.drop(\"state\", \"region\")\n",
    "df2 = df2.dropna(subset='cook_time')\n",
    "imputer = Imputer()\\\n",
    "    .setInputCol('prep_time')\\\n",
    "    .setStrategy('mode')\\\n",
    "    .setOutputCol('prep_time')"
   ],
   "outputs": [],
   "metadata": {}
  },
  {
   "cell_type": "code",
   "execution_count": 12,
   "source": [
    "df2 = imputer.fit(df2).transform(df2)\n",
    "df2.show(5)"
   ],
   "outputs": [
    {
     "output_type": "stream",
     "name": "stdout",
     "text": [
      "+--------------+--------------------+----------+---------+---------+--------------+-------+\n",
      "|          name|         ingredients|      diet|prep_time|cook_time|flavor_profile| course|\n",
      "+--------------+--------------------+----------+---------+---------+--------------+-------+\n",
      "|    Balu shahi|Maida flour, yogu...|vegetarian|       45|       25|         sweet|dessert|\n",
      "|        Boondi|Gram flour, ghee,...|vegetarian|       80|       30|         sweet|dessert|\n",
      "|Gajar ka halwa|Carrots, milk, su...|vegetarian|       15|       60|         sweet|dessert|\n",
      "|        Ghevar|Flour, ghee, kewr...|vegetarian|       15|       30|         sweet|dessert|\n",
      "|   Gulab jamun|Milk powder, plai...|vegetarian|       15|       40|         sweet|dessert|\n",
      "+--------------+--------------------+----------+---------+---------+--------------+-------+\n",
      "only showing top 5 rows\n",
      "\n"
     ]
    }
   ],
   "metadata": {}
  },
  {
   "cell_type": "code",
   "execution_count": 13,
   "source": [
    "df2.select([\n",
    "    (1 - (f.count(c)/f.count('*'))).alias(c) for c in df2.columns]).toPandas()"
   ],
   "outputs": [
    {
     "output_type": "execute_result",
     "data": {
      "text/plain": [
       "   name  ingredients  diet  prep_time  cook_time  flavor_profile  course\n",
       "0   0.0          0.0   0.0        0.0        0.0        0.105727     0.0"
      ],
      "text/html": [
       "<div>\n",
       "<style scoped>\n",
       "    .dataframe tbody tr th:only-of-type {\n",
       "        vertical-align: middle;\n",
       "    }\n",
       "\n",
       "    .dataframe tbody tr th {\n",
       "        vertical-align: top;\n",
       "    }\n",
       "\n",
       "    .dataframe thead th {\n",
       "        text-align: right;\n",
       "    }\n",
       "</style>\n",
       "<table border=\"1\" class=\"dataframe\">\n",
       "  <thead>\n",
       "    <tr style=\"text-align: right;\">\n",
       "      <th></th>\n",
       "      <th>name</th>\n",
       "      <th>ingredients</th>\n",
       "      <th>diet</th>\n",
       "      <th>prep_time</th>\n",
       "      <th>cook_time</th>\n",
       "      <th>flavor_profile</th>\n",
       "      <th>course</th>\n",
       "    </tr>\n",
       "  </thead>\n",
       "  <tbody>\n",
       "    <tr>\n",
       "      <th>0</th>\n",
       "      <td>0.0</td>\n",
       "      <td>0.0</td>\n",
       "      <td>0.0</td>\n",
       "      <td>0.0</td>\n",
       "      <td>0.0</td>\n",
       "      <td>0.105727</td>\n",
       "      <td>0.0</td>\n",
       "    </tr>\n",
       "  </tbody>\n",
       "</table>\n",
       "</div>"
      ]
     },
     "metadata": {},
     "execution_count": 13
    }
   ],
   "metadata": {}
  },
  {
   "cell_type": "markdown",
   "source": [
    "## 3. One hot encode categorical data"
   ],
   "metadata": {}
  },
  {
   "cell_type": "code",
   "execution_count": 14,
   "source": [
    "from pyspark.sql.functions import array\n",
    "from pyspark.ml.feature import HashingTF, IDF\n",
    "from pyspark.ml.feature import Tokenizer\n",
    "tokenizer = Tokenizer().setInputCol(\"ingredients\").setOutputCol(\"tokenized\")\n",
    "wordsData = tokenizer.transform(df2)\n",
    "hashingTF = HashingTF(numFeatures=pow(2, 9), inputCol='tokenized', outputCol=\"features\")\n",
    "tf = hashingTF.transform(wordsData)\n",
    "idf = IDF(inputCol=\"features\", outputCol=\"outfeats\").fit(tf)\n",
    "tfidf = idf.transform(tf)\n",
    "tfidf.show(5)"
   ],
   "outputs": [
    {
     "output_type": "stream",
     "name": "stdout",
     "text": [
      "+--------------+--------------------+----------+---------+---------+--------------+-------+--------------------+--------------------+--------------------+\n",
      "|          name|         ingredients|      diet|prep_time|cook_time|flavor_profile| course|           tokenized|            features|            outfeats|\n",
      "+--------------+--------------------+----------+---------+---------+--------------+-------+--------------------+--------------------+--------------------+\n",
      "|    Balu shahi|Maida flour, yogu...|vegetarian|       45|       25|         sweet|dessert|[maida, flour,, y...|(512,[48,243,362,...|(512,[48,243,362,...|\n",
      "|        Boondi|Gram flour, ghee,...|vegetarian|       80|       30|         sweet|dessert|[gram, flour,, gh...|(512,[117,143,456...|(512,[117,143,456...|\n",
      "|Gajar ka halwa|Carrots, milk, su...|vegetarian|       15|       60|         sweet|dessert|[carrots,, milk,,...|(512,[35,143,176,...|(512,[35,143,176,...|\n",
      "|        Ghevar|Flour, ghee, kewr...|vegetarian|       15|       30|         sweet|dessert|[flour,, ghee,, k...|(512,[29,52,55,64...|(512,[29,52,55,64...|\n",
      "|   Gulab jamun|Milk powder, plai...|vegetarian|       15|       40|         sweet|dessert|[milk, powder,, p...|(512,[45,63,93,14...|(512,[45,63,93,14...|\n",
      "+--------------+--------------------+----------+---------+---------+--------------+-------+--------------------+--------------------+--------------------+\n",
      "only showing top 5 rows\n",
      "\n"
     ]
    }
   ],
   "metadata": {}
  },
  {
   "cell_type": "code",
   "execution_count": 15,
   "source": [
    "df2 = tfidf.drop(\"tokenized\", \"features\")"
   ],
   "outputs": [],
   "metadata": {}
  },
  {
   "cell_type": "code",
   "execution_count": 16,
   "source": [
    "from pyspark.ml.feature import Bucketizer\n",
    "bucketizer = Bucketizer(splits=[ 0, 30, 60, float('Inf')],inputCol=\"cook_time\", outputCol=\"bin_cook_time\")\n",
    "df2 = bucketizer.transform(df2).drop(\"cook_time\")"
   ],
   "outputs": [],
   "metadata": {}
  },
  {
   "cell_type": "code",
   "execution_count": 44,
   "source": [
    "from pyspark.ml.feature import StringIndexer, OneHotEncoder\n",
    "from pyspark.ml import Pipeline\n",
    "\n",
    "strIdx = StringIndexer(inputCols=['diet', 'course', 'flavor_profile'], outputCols=['dietIdx', 'courseIdx', 'flavorIdx'])\n",
    "strIdx.setHandleInvalid('skip')\n",
    "ohe = OneHotEncoder(inputCols=['dietIdx', 'courseIdx', 'flavorIdx'], outputCols=['dietOhe', 'courseOhe', 'flavorOhe'])\n",
    "pipeline = Pipeline(stages=[strIdx, ohe])\n",
    "df3 = pipeline.fit(df2).transform(df2).drop(\"diet\", \"course\", \"name\", \"ingredients\", \"flavor_profile\", 'dietIdx', 'courseIdx', 'flavorIdx')"
   ],
   "outputs": [],
   "metadata": {}
  },
  {
   "cell_type": "code",
   "execution_count": 46,
   "source": [
    "df3.show(5)"
   ],
   "outputs": [
    {
     "output_type": "stream",
     "name": "stdout",
     "text": [
      "+---------+--------------------+-------------+-------------+-------------+-------------+\n",
      "|prep_time|            outfeats|bin_cook_time|      dietOhe|    courseOhe|    flavorOhe|\n",
      "+---------+--------------------+-------------+-------------+-------------+-------------+\n",
      "|       45|(512,[48,243,362,...|          0.0|(1,[0],[1.0])|(3,[1],[1.0])|(3,[1],[1.0])|\n",
      "|       80|(512,[117,143,456...|          1.0|(1,[0],[1.0])|(3,[1],[1.0])|(3,[1],[1.0])|\n",
      "|       15|(512,[35,143,176,...|          2.0|(1,[0],[1.0])|(3,[1],[1.0])|(3,[1],[1.0])|\n",
      "|       15|(512,[29,52,55,64...|          1.0|(1,[0],[1.0])|(3,[1],[1.0])|(3,[1],[1.0])|\n",
      "|       15|(512,[45,63,93,14...|          1.0|(1,[0],[1.0])|(3,[1],[1.0])|(3,[1],[1.0])|\n",
      "+---------+--------------------+-------------+-------------+-------------+-------------+\n",
      "only showing top 5 rows\n",
      "\n"
     ]
    }
   ],
   "metadata": {}
  }
 ],
 "metadata": {
  "orig_nbformat": 4,
  "language_info": {
   "name": "python",
   "version": "3.7.6",
   "mimetype": "text/x-python",
   "codemirror_mode": {
    "name": "ipython",
    "version": 3
   },
   "pygments_lexer": "ipython3",
   "nbconvert_exporter": "python",
   "file_extension": ".py"
  },
  "kernelspec": {
   "name": "python3",
   "display_name": "Python 3.7.6 64-bit ('base': conda)"
  },
  "interpreter": {
   "hash": "dca0ade3e726a953b501b15e8e990130d2b7799f14cfd9f4271676035ebe5511"
  }
 },
 "nbformat": 4,
 "nbformat_minor": 2
}